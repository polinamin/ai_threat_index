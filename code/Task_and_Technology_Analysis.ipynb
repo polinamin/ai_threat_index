{
  "nbformat": 4,
  "nbformat_minor": 0,
  "metadata": {
    "colab": {
      "provenance": []
    },
    "kernelspec": {
      "name": "python3",
      "display_name": "Python 3"
    },
    "language_info": {
      "name": "python"
    }
  },
  "cells": [
    {
      "cell_type": "markdown",
      "source": [
        "1. See whether AI risk is better predicted with tasks\n",
        "2. Combine tasks, skills and abilities to see if that leads to an even better prediction of AI risk\n",
        "3. Create occupation clusters based on skills and abilities\n",
        "4. Create occupation clusters based on tasks\n",
        "5. See if grouping AI Risk into low, med, high would imporve the model (move from regression to classification)\n",
        "6. Streamlit app:\n",
        "- Drop down with occupation, which would provide a prediction of AI Risk\n",
        "- Recommend similar jobs based on clusters that have a lower AI risk"
      ],
      "metadata": {
        "id": "182Yow2no_QA"
      }
    },
    {
      "cell_type": "code",
      "source": [
        "pip install thefuzz"
      ],
      "metadata": {
        "colab": {
          "base_uri": "https://localhost:8080/"
        },
        "id": "rPuylFvLWZJK",
        "outputId": "f76c070f-5425-49b3-dea6-13761ca1fcdb"
      },
      "execution_count": 1,
      "outputs": [
        {
          "output_type": "stream",
          "name": "stdout",
          "text": [
            "Requirement already satisfied: thefuzz in /usr/local/lib/python3.10/dist-packages (0.20.0)\n",
            "Requirement already satisfied: rapidfuzz<4.0.0,>=3.0.0 in /usr/local/lib/python3.10/dist-packages (from thefuzz) (3.4.0)\n"
          ]
        }
      ]
    },
    {
      "cell_type": "code",
      "source": [
        "import pandas as pd\n",
        "import numpy as np\n",
        "\n",
        "from thefuzz import fuzz\n",
        "from thefuzz import process\n",
        "import re\n",
        "import difflib\n",
        "import seaborn as sns\n",
        "import matplotlib.pyplot as plt\n",
        "\n",
        "import nltk\n",
        "\n",
        "nltk.download('all')\n",
        "from nltk.stem import WordNetLemmatizer\n",
        "import re\n",
        "\n",
        "from sklearn.model_selection import train_test_split, GridSearchCV, StratifiedKFold\n",
        "from sklearn.pipeline import Pipeline\n",
        "from sklearn.naive_bayes import MultinomialNB, BernoulliNB, GaussianNB\n",
        "from sklearn.linear_model import LogisticRegression, LogisticRegressionCV\n",
        "from sklearn.metrics import confusion_matrix, ConfusionMatrixDisplay,make_scorer,recall_score, accuracy_score, precision_score\n",
        "from sklearn.feature_extraction.text import CountVectorizer, TfidfVectorizer\n",
        "from sklearn.ensemble import RandomForestClassifier, ExtraTreesClassifier, RandomForestRegressor\n",
        "\n",
        "\n",
        "from sklearn.ensemble import AdaBoostClassifier\n",
        "from sklearn.feature_extraction.text import CountVectorizer\n",
        "from sklearn.model_selection import train_test_split\n",
        "from sklearn.tree import export_text, DecisionTreeClassifier, plot_tree"
      ],
      "metadata": {
        "id": "jPqVHF3bzxxR",
        "colab": {
          "base_uri": "https://localhost:8080/"
        },
        "outputId": "728e48b7-7129-4e26-c347-d86fda04a2fc"
      },
      "execution_count": 2,
      "outputs": [
        {
          "output_type": "stream",
          "name": "stderr",
          "text": [
            "[nltk_data] Downloading collection 'all'\n",
            "[nltk_data]    | \n",
            "[nltk_data]    | Downloading package abc to /root/nltk_data...\n",
            "[nltk_data]    |   Package abc is already up-to-date!\n",
            "[nltk_data]    | Downloading package alpino to /root/nltk_data...\n",
            "[nltk_data]    |   Package alpino is already up-to-date!\n",
            "[nltk_data]    | Downloading package averaged_perceptron_tagger to\n",
            "[nltk_data]    |     /root/nltk_data...\n",
            "[nltk_data]    |   Package averaged_perceptron_tagger is already up-\n",
            "[nltk_data]    |       to-date!\n",
            "[nltk_data]    | Downloading package averaged_perceptron_tagger_ru to\n",
            "[nltk_data]    |     /root/nltk_data...\n",
            "[nltk_data]    |   Package averaged_perceptron_tagger_ru is already\n",
            "[nltk_data]    |       up-to-date!\n",
            "[nltk_data]    | Downloading package basque_grammars to\n",
            "[nltk_data]    |     /root/nltk_data...\n",
            "[nltk_data]    |   Package basque_grammars is already up-to-date!\n",
            "[nltk_data]    | Downloading package bcp47 to /root/nltk_data...\n",
            "[nltk_data]    |   Package bcp47 is already up-to-date!\n",
            "[nltk_data]    | Downloading package biocreative_ppi to\n",
            "[nltk_data]    |     /root/nltk_data...\n",
            "[nltk_data]    |   Package biocreative_ppi is already up-to-date!\n",
            "[nltk_data]    | Downloading package bllip_wsj_no_aux to\n",
            "[nltk_data]    |     /root/nltk_data...\n",
            "[nltk_data]    |   Package bllip_wsj_no_aux is already up-to-date!\n",
            "[nltk_data]    | Downloading package book_grammars to\n",
            "[nltk_data]    |     /root/nltk_data...\n",
            "[nltk_data]    |   Package book_grammars is already up-to-date!\n",
            "[nltk_data]    | Downloading package brown to /root/nltk_data...\n",
            "[nltk_data]    |   Package brown is already up-to-date!\n",
            "[nltk_data]    | Downloading package brown_tei to /root/nltk_data...\n",
            "[nltk_data]    |   Package brown_tei is already up-to-date!\n",
            "[nltk_data]    | Downloading package cess_cat to /root/nltk_data...\n",
            "[nltk_data]    |   Package cess_cat is already up-to-date!\n",
            "[nltk_data]    | Downloading package cess_esp to /root/nltk_data...\n",
            "[nltk_data]    |   Package cess_esp is already up-to-date!\n",
            "[nltk_data]    | Downloading package chat80 to /root/nltk_data...\n",
            "[nltk_data]    |   Package chat80 is already up-to-date!\n",
            "[nltk_data]    | Downloading package city_database to\n",
            "[nltk_data]    |     /root/nltk_data...\n",
            "[nltk_data]    |   Package city_database is already up-to-date!\n",
            "[nltk_data]    | Downloading package cmudict to /root/nltk_data...\n",
            "[nltk_data]    |   Package cmudict is already up-to-date!\n",
            "[nltk_data]    | Downloading package comparative_sentences to\n",
            "[nltk_data]    |     /root/nltk_data...\n",
            "[nltk_data]    |   Package comparative_sentences is already up-to-\n",
            "[nltk_data]    |       date!\n",
            "[nltk_data]    | Downloading package comtrans to /root/nltk_data...\n",
            "[nltk_data]    |   Package comtrans is already up-to-date!\n",
            "[nltk_data]    | Downloading package conll2000 to /root/nltk_data...\n",
            "[nltk_data]    |   Package conll2000 is already up-to-date!\n",
            "[nltk_data]    | Downloading package conll2002 to /root/nltk_data...\n",
            "[nltk_data]    |   Package conll2002 is already up-to-date!\n",
            "[nltk_data]    | Downloading package conll2007 to /root/nltk_data...\n",
            "[nltk_data]    |   Package conll2007 is already up-to-date!\n",
            "[nltk_data]    | Downloading package crubadan to /root/nltk_data...\n",
            "[nltk_data]    |   Package crubadan is already up-to-date!\n",
            "[nltk_data]    | Downloading package dependency_treebank to\n",
            "[nltk_data]    |     /root/nltk_data...\n",
            "[nltk_data]    |   Package dependency_treebank is already up-to-date!\n",
            "[nltk_data]    | Downloading package dolch to /root/nltk_data...\n",
            "[nltk_data]    |   Package dolch is already up-to-date!\n",
            "[nltk_data]    | Downloading package europarl_raw to\n",
            "[nltk_data]    |     /root/nltk_data...\n",
            "[nltk_data]    |   Package europarl_raw is already up-to-date!\n",
            "[nltk_data]    | Downloading package extended_omw to\n",
            "[nltk_data]    |     /root/nltk_data...\n",
            "[nltk_data]    |   Package extended_omw is already up-to-date!\n",
            "[nltk_data]    | Downloading package floresta to /root/nltk_data...\n",
            "[nltk_data]    |   Package floresta is already up-to-date!\n",
            "[nltk_data]    | Downloading package framenet_v15 to\n",
            "[nltk_data]    |     /root/nltk_data...\n",
            "[nltk_data]    |   Package framenet_v15 is already up-to-date!\n",
            "[nltk_data]    | Downloading package framenet_v17 to\n",
            "[nltk_data]    |     /root/nltk_data...\n",
            "[nltk_data]    |   Package framenet_v17 is already up-to-date!\n",
            "[nltk_data]    | Downloading package gazetteers to /root/nltk_data...\n",
            "[nltk_data]    |   Package gazetteers is already up-to-date!\n",
            "[nltk_data]    | Downloading package genesis to /root/nltk_data...\n",
            "[nltk_data]    |   Package genesis is already up-to-date!\n",
            "[nltk_data]    | Downloading package gutenberg to /root/nltk_data...\n",
            "[nltk_data]    |   Package gutenberg is already up-to-date!\n",
            "[nltk_data]    | Downloading package ieer to /root/nltk_data...\n",
            "[nltk_data]    |   Package ieer is already up-to-date!\n",
            "[nltk_data]    | Downloading package inaugural to /root/nltk_data...\n",
            "[nltk_data]    |   Package inaugural is already up-to-date!\n",
            "[nltk_data]    | Downloading package indian to /root/nltk_data...\n",
            "[nltk_data]    |   Package indian is already up-to-date!\n",
            "[nltk_data]    | Downloading package jeita to /root/nltk_data...\n",
            "[nltk_data]    |   Package jeita is already up-to-date!\n",
            "[nltk_data]    | Downloading package kimmo to /root/nltk_data...\n",
            "[nltk_data]    |   Package kimmo is already up-to-date!\n",
            "[nltk_data]    | Downloading package knbc to /root/nltk_data...\n",
            "[nltk_data]    |   Package knbc is already up-to-date!\n",
            "[nltk_data]    | Downloading package large_grammars to\n",
            "[nltk_data]    |     /root/nltk_data...\n",
            "[nltk_data]    |   Package large_grammars is already up-to-date!\n",
            "[nltk_data]    | Downloading package lin_thesaurus to\n",
            "[nltk_data]    |     /root/nltk_data...\n",
            "[nltk_data]    |   Package lin_thesaurus is already up-to-date!\n",
            "[nltk_data]    | Downloading package mac_morpho to /root/nltk_data...\n",
            "[nltk_data]    |   Package mac_morpho is already up-to-date!\n",
            "[nltk_data]    | Downloading package machado to /root/nltk_data...\n",
            "[nltk_data]    |   Package machado is already up-to-date!\n",
            "[nltk_data]    | Downloading package masc_tagged to /root/nltk_data...\n",
            "[nltk_data]    |   Package masc_tagged is already up-to-date!\n",
            "[nltk_data]    | Downloading package maxent_ne_chunker to\n",
            "[nltk_data]    |     /root/nltk_data...\n",
            "[nltk_data]    |   Package maxent_ne_chunker is already up-to-date!\n",
            "[nltk_data]    | Downloading package maxent_treebank_pos_tagger to\n",
            "[nltk_data]    |     /root/nltk_data...\n",
            "[nltk_data]    |   Package maxent_treebank_pos_tagger is already up-\n",
            "[nltk_data]    |       to-date!\n",
            "[nltk_data]    | Downloading package moses_sample to\n",
            "[nltk_data]    |     /root/nltk_data...\n",
            "[nltk_data]    |   Package moses_sample is already up-to-date!\n",
            "[nltk_data]    | Downloading package movie_reviews to\n",
            "[nltk_data]    |     /root/nltk_data...\n",
            "[nltk_data]    |   Package movie_reviews is already up-to-date!\n",
            "[nltk_data]    | Downloading package mte_teip5 to /root/nltk_data...\n",
            "[nltk_data]    |   Package mte_teip5 is already up-to-date!\n",
            "[nltk_data]    | Downloading package mwa_ppdb to /root/nltk_data...\n",
            "[nltk_data]    |   Package mwa_ppdb is already up-to-date!\n",
            "[nltk_data]    | Downloading package names to /root/nltk_data...\n",
            "[nltk_data]    |   Package names is already up-to-date!\n",
            "[nltk_data]    | Downloading package nombank.1.0 to /root/nltk_data...\n",
            "[nltk_data]    |   Package nombank.1.0 is already up-to-date!\n",
            "[nltk_data]    | Downloading package nonbreaking_prefixes to\n",
            "[nltk_data]    |     /root/nltk_data...\n",
            "[nltk_data]    |   Package nonbreaking_prefixes is already up-to-date!\n",
            "[nltk_data]    | Downloading package nps_chat to /root/nltk_data...\n",
            "[nltk_data]    |   Package nps_chat is already up-to-date!\n",
            "[nltk_data]    | Downloading package omw to /root/nltk_data...\n",
            "[nltk_data]    |   Package omw is already up-to-date!\n",
            "[nltk_data]    | Downloading package omw-1.4 to /root/nltk_data...\n",
            "[nltk_data]    |   Package omw-1.4 is already up-to-date!\n",
            "[nltk_data]    | Downloading package opinion_lexicon to\n",
            "[nltk_data]    |     /root/nltk_data...\n",
            "[nltk_data]    |   Package opinion_lexicon is already up-to-date!\n",
            "[nltk_data]    | Downloading package panlex_swadesh to\n",
            "[nltk_data]    |     /root/nltk_data...\n",
            "[nltk_data]    |   Package panlex_swadesh is already up-to-date!\n",
            "[nltk_data]    | Downloading package paradigms to /root/nltk_data...\n",
            "[nltk_data]    |   Package paradigms is already up-to-date!\n",
            "[nltk_data]    | Downloading package pe08 to /root/nltk_data...\n",
            "[nltk_data]    |   Package pe08 is already up-to-date!\n",
            "[nltk_data]    | Downloading package perluniprops to\n",
            "[nltk_data]    |     /root/nltk_data...\n",
            "[nltk_data]    |   Package perluniprops is already up-to-date!\n",
            "[nltk_data]    | Downloading package pil to /root/nltk_data...\n",
            "[nltk_data]    |   Package pil is already up-to-date!\n",
            "[nltk_data]    | Downloading package pl196x to /root/nltk_data...\n",
            "[nltk_data]    |   Package pl196x is already up-to-date!\n",
            "[nltk_data]    | Downloading package porter_test to /root/nltk_data...\n",
            "[nltk_data]    |   Package porter_test is already up-to-date!\n",
            "[nltk_data]    | Downloading package ppattach to /root/nltk_data...\n",
            "[nltk_data]    |   Package ppattach is already up-to-date!\n",
            "[nltk_data]    | Downloading package problem_reports to\n",
            "[nltk_data]    |     /root/nltk_data...\n",
            "[nltk_data]    |   Package problem_reports is already up-to-date!\n",
            "[nltk_data]    | Downloading package product_reviews_1 to\n",
            "[nltk_data]    |     /root/nltk_data...\n",
            "[nltk_data]    |   Package product_reviews_1 is already up-to-date!\n",
            "[nltk_data]    | Downloading package product_reviews_2 to\n",
            "[nltk_data]    |     /root/nltk_data...\n",
            "[nltk_data]    |   Package product_reviews_2 is already up-to-date!\n",
            "[nltk_data]    | Downloading package propbank to /root/nltk_data...\n",
            "[nltk_data]    |   Package propbank is already up-to-date!\n",
            "[nltk_data]    | Downloading package pros_cons to /root/nltk_data...\n",
            "[nltk_data]    |   Package pros_cons is already up-to-date!\n",
            "[nltk_data]    | Downloading package ptb to /root/nltk_data...\n",
            "[nltk_data]    |   Package ptb is already up-to-date!\n",
            "[nltk_data]    | Downloading package punkt to /root/nltk_data...\n",
            "[nltk_data]    |   Package punkt is already up-to-date!\n",
            "[nltk_data]    | Downloading package qc to /root/nltk_data...\n",
            "[nltk_data]    |   Package qc is already up-to-date!\n",
            "[nltk_data]    | Downloading package reuters to /root/nltk_data...\n",
            "[nltk_data]    |   Package reuters is already up-to-date!\n",
            "[nltk_data]    | Downloading package rslp to /root/nltk_data...\n",
            "[nltk_data]    |   Package rslp is already up-to-date!\n",
            "[nltk_data]    | Downloading package rte to /root/nltk_data...\n",
            "[nltk_data]    |   Package rte is already up-to-date!\n",
            "[nltk_data]    | Downloading package sample_grammars to\n",
            "[nltk_data]    |     /root/nltk_data...\n",
            "[nltk_data]    |   Package sample_grammars is already up-to-date!\n",
            "[nltk_data]    | Downloading package semcor to /root/nltk_data...\n",
            "[nltk_data]    |   Package semcor is already up-to-date!\n",
            "[nltk_data]    | Downloading package senseval to /root/nltk_data...\n",
            "[nltk_data]    |   Package senseval is already up-to-date!\n",
            "[nltk_data]    | Downloading package sentence_polarity to\n",
            "[nltk_data]    |     /root/nltk_data...\n",
            "[nltk_data]    |   Package sentence_polarity is already up-to-date!\n",
            "[nltk_data]    | Downloading package sentiwordnet to\n",
            "[nltk_data]    |     /root/nltk_data...\n",
            "[nltk_data]    |   Package sentiwordnet is already up-to-date!\n",
            "[nltk_data]    | Downloading package shakespeare to /root/nltk_data...\n",
            "[nltk_data]    |   Package shakespeare is already up-to-date!\n",
            "[nltk_data]    | Downloading package sinica_treebank to\n",
            "[nltk_data]    |     /root/nltk_data...\n",
            "[nltk_data]    |   Package sinica_treebank is already up-to-date!\n",
            "[nltk_data]    | Downloading package smultron to /root/nltk_data...\n",
            "[nltk_data]    |   Package smultron is already up-to-date!\n",
            "[nltk_data]    | Downloading package snowball_data to\n",
            "[nltk_data]    |     /root/nltk_data...\n",
            "[nltk_data]    |   Package snowball_data is already up-to-date!\n",
            "[nltk_data]    | Downloading package spanish_grammars to\n",
            "[nltk_data]    |     /root/nltk_data...\n",
            "[nltk_data]    |   Package spanish_grammars is already up-to-date!\n",
            "[nltk_data]    | Downloading package state_union to /root/nltk_data...\n",
            "[nltk_data]    |   Package state_union is already up-to-date!\n",
            "[nltk_data]    | Downloading package stopwords to /root/nltk_data...\n",
            "[nltk_data]    |   Package stopwords is already up-to-date!\n",
            "[nltk_data]    | Downloading package subjectivity to\n",
            "[nltk_data]    |     /root/nltk_data...\n",
            "[nltk_data]    |   Package subjectivity is already up-to-date!\n",
            "[nltk_data]    | Downloading package swadesh to /root/nltk_data...\n",
            "[nltk_data]    |   Package swadesh is already up-to-date!\n",
            "[nltk_data]    | Downloading package switchboard to /root/nltk_data...\n",
            "[nltk_data]    |   Package switchboard is already up-to-date!\n",
            "[nltk_data]    | Downloading package tagsets to /root/nltk_data...\n",
            "[nltk_data]    |   Package tagsets is already up-to-date!\n",
            "[nltk_data]    | Downloading package timit to /root/nltk_data...\n",
            "[nltk_data]    |   Package timit is already up-to-date!\n",
            "[nltk_data]    | Downloading package toolbox to /root/nltk_data...\n",
            "[nltk_data]    |   Package toolbox is already up-to-date!\n",
            "[nltk_data]    | Downloading package treebank to /root/nltk_data...\n",
            "[nltk_data]    |   Package treebank is already up-to-date!\n",
            "[nltk_data]    | Downloading package twitter_samples to\n",
            "[nltk_data]    |     /root/nltk_data...\n",
            "[nltk_data]    |   Package twitter_samples is already up-to-date!\n",
            "[nltk_data]    | Downloading package udhr to /root/nltk_data...\n",
            "[nltk_data]    |   Package udhr is already up-to-date!\n",
            "[nltk_data]    | Downloading package udhr2 to /root/nltk_data...\n",
            "[nltk_data]    |   Package udhr2 is already up-to-date!\n",
            "[nltk_data]    | Downloading package unicode_samples to\n",
            "[nltk_data]    |     /root/nltk_data...\n",
            "[nltk_data]    |   Package unicode_samples is already up-to-date!\n",
            "[nltk_data]    | Downloading package universal_tagset to\n",
            "[nltk_data]    |     /root/nltk_data...\n",
            "[nltk_data]    |   Package universal_tagset is already up-to-date!\n",
            "[nltk_data]    | Downloading package universal_treebanks_v20 to\n",
            "[nltk_data]    |     /root/nltk_data...\n",
            "[nltk_data]    |   Package universal_treebanks_v20 is already up-to-\n",
            "[nltk_data]    |       date!\n",
            "[nltk_data]    | Downloading package vader_lexicon to\n",
            "[nltk_data]    |     /root/nltk_data...\n",
            "[nltk_data]    |   Package vader_lexicon is already up-to-date!\n",
            "[nltk_data]    | Downloading package verbnet to /root/nltk_data...\n",
            "[nltk_data]    |   Package verbnet is already up-to-date!\n",
            "[nltk_data]    | Downloading package verbnet3 to /root/nltk_data...\n",
            "[nltk_data]    |   Package verbnet3 is already up-to-date!\n",
            "[nltk_data]    | Downloading package webtext to /root/nltk_data...\n",
            "[nltk_data]    |   Package webtext is already up-to-date!\n",
            "[nltk_data]    | Downloading package wmt15_eval to /root/nltk_data...\n",
            "[nltk_data]    |   Package wmt15_eval is already up-to-date!\n",
            "[nltk_data]    | Downloading package word2vec_sample to\n",
            "[nltk_data]    |     /root/nltk_data...\n",
            "[nltk_data]    |   Package word2vec_sample is already up-to-date!\n",
            "[nltk_data]    | Downloading package wordnet to /root/nltk_data...\n",
            "[nltk_data]    |   Package wordnet is already up-to-date!\n",
            "[nltk_data]    | Downloading package wordnet2021 to /root/nltk_data...\n",
            "[nltk_data]    |   Package wordnet2021 is already up-to-date!\n",
            "[nltk_data]    | Downloading package wordnet2022 to /root/nltk_data...\n",
            "[nltk_data]    |   Package wordnet2022 is already up-to-date!\n",
            "[nltk_data]    | Downloading package wordnet31 to /root/nltk_data...\n",
            "[nltk_data]    |   Package wordnet31 is already up-to-date!\n",
            "[nltk_data]    | Downloading package wordnet_ic to /root/nltk_data...\n",
            "[nltk_data]    |   Package wordnet_ic is already up-to-date!\n",
            "[nltk_data]    | Downloading package words to /root/nltk_data...\n",
            "[nltk_data]    |   Package words is already up-to-date!\n",
            "[nltk_data]    | Downloading package ycoe to /root/nltk_data...\n",
            "[nltk_data]    |   Package ycoe is already up-to-date!\n",
            "[nltk_data]    | \n",
            "[nltk_data]  Done downloading collection all\n"
          ]
        }
      ]
    },
    {
      "cell_type": "code",
      "source": [
        "from tensorflow.keras.preprocessing.text import Tokenizer\n",
        "from tensorflow.keras.preprocessing.sequence import pad_sequences\n",
        "from tensorflow.keras.layers import Dense, LSTM, Embedding\n",
        "from tensorflow.keras.models import Sequential\n",
        "from tensorflow.keras.utils import to_categorical\n",
        "from keras.layers import Flatten\n",
        "import tensorflow as tf\n",
        "from keras import layers\n",
        "\n",
        "from sklearn.metrics import confusion_matrix, ConfusionMatrixDisplay\n",
        "from tensorflow.keras.layers import Bidirectional\n",
        "from keras import backend as K\n",
        "\n",
        "from sklearn.preprocessing import LabelEncoder, StandardScaler\n",
        "from sklearn.preprocessing import OneHotEncoder\n",
        "tf.config.run_functions_eagerly(True)\n",
        "from sklearn.compose import make_column_transformer\n",
        "#pip install -U scikit-learn"
      ],
      "metadata": {
        "id": "KgG3FZwcxkA9"
      },
      "execution_count": 3,
      "outputs": []
    },
    {
      "cell_type": "markdown",
      "source": [
        "## Import Data"
      ],
      "metadata": {
        "id": "sq5xXSFTjf58"
      }
    },
    {
      "cell_type": "code",
      "execution_count": 8,
      "metadata": {
        "id": "4C2GThrvziE9"
      },
      "outputs": [],
      "source": [
        "tasks = pd.read_excel(\"Task Ratings.xlsx\")"
      ]
    },
    {
      "cell_type": "code",
      "source": [
        "techskills = pd.read_excel(\"Technology Skills.xlsx\")"
      ],
      "metadata": {
        "id": "wKQ_-GufXVqw"
      },
      "execution_count": 71,
      "outputs": []
    },
    {
      "cell_type": "code",
      "source": [
        "taskstatements = pd.read_excel(\"Task Statements.xlsx\")"
      ],
      "metadata": {
        "id": "SbSax5tFU9iG"
      },
      "execution_count": 7,
      "outputs": []
    },
    {
      "cell_type": "code",
      "source": [
        "ai_risk = pd.read_csv(\"My_Data.csv\")"
      ],
      "metadata": {
        "id": "jb4BYzuQjYZY"
      },
      "execution_count": 5,
      "outputs": []
    },
    {
      "cell_type": "markdown",
      "source": [
        "## Review the Data"
      ],
      "metadata": {
        "id": "NbdE4Z7WjjKq"
      }
    },
    {
      "cell_type": "code",
      "source": [
        "tasks.info()"
      ],
      "metadata": {
        "colab": {
          "base_uri": "https://localhost:8080/"
        },
        "id": "sz4xoJ6hz3Az",
        "outputId": "3653b7da-ace3-43e8-9b50-047fa3ba6e19"
      },
      "execution_count": 7,
      "outputs": [
        {
          "output_type": "stream",
          "name": "stdout",
          "text": [
            "<class 'pandas.core.frame.DataFrame'>\n",
            "RangeIndex: 161847 entries, 0 to 161846\n",
            "Data columns (total 15 columns):\n",
            " #   Column              Non-Null Count   Dtype  \n",
            "---  ------              --------------   -----  \n",
            " 0   O*NET-SOC Code      161847 non-null  object \n",
            " 1   Title               161847 non-null  object \n",
            " 2   Task ID             161847 non-null  int64  \n",
            " 3   Task                161847 non-null  object \n",
            " 4   Scale ID            161847 non-null  object \n",
            " 5   Scale Name          161847 non-null  object \n",
            " 6   Category            125881 non-null  float64\n",
            " 7   Data Value          161847 non-null  float64\n",
            " 8   N                   157374 non-null  float64\n",
            " 9   Standard Error      121275 non-null  float64\n",
            " 10  Lower CI Bound      109475 non-null  float64\n",
            " 11  Upper CI Bound      109475 non-null  float64\n",
            " 12  Recommend Suppress  123453 non-null  object \n",
            " 13  Date                161847 non-null  object \n",
            " 14  Domain Source       161847 non-null  object \n",
            "dtypes: float64(6), int64(1), object(8)\n",
            "memory usage: 18.5+ MB\n"
          ]
        }
      ]
    },
    {
      "cell_type": "code",
      "source": [
        "tasks.head()"
      ],
      "metadata": {
        "colab": {
          "base_uri": "https://localhost:8080/",
          "height": 501
        },
        "id": "9yVk9l-NVcrM",
        "outputId": "b3cd856e-990d-404e-94f4-c59b39c7abb2"
      },
      "execution_count": 260,
      "outputs": [
        {
          "output_type": "execute_result",
          "data": {
            "text/plain": [
              "  O*NET-SOC Code             Title  Task ID  \\\n",
              "0     11-1011.00  Chief Executives     8823   \n",
              "1     11-1011.00  Chief Executives     8823   \n",
              "2     11-1011.00  Chief Executives     8823   \n",
              "3     11-1011.00  Chief Executives     8823   \n",
              "4     11-1011.00  Chief Executives     8823   \n",
              "\n",
              "                                                Task Scale ID  \\\n",
              "0  Direct or coordinate an organization's financi...       FT   \n",
              "1  Direct or coordinate an organization's financi...       FT   \n",
              "2  Direct or coordinate an organization's financi...       FT   \n",
              "3  Direct or coordinate an organization's financi...       FT   \n",
              "4  Direct or coordinate an organization's financi...       FT   \n",
              "\n",
              "                           Scale Name  Category  Data Value     N  \\\n",
              "0  Frequency of Task (Categories 1-7)       1.0        5.92  76.0   \n",
              "1  Frequency of Task (Categories 1-7)       2.0       15.98  76.0   \n",
              "2  Frequency of Task (Categories 1-7)       3.0       29.68  76.0   \n",
              "3  Frequency of Task (Categories 1-7)       4.0       21.18  76.0   \n",
              "4  Frequency of Task (Categories 1-7)       5.0       19.71  76.0   \n",
              "\n",
              "   Standard Error  Lower CI Bound  Upper CI Bound Recommend Suppress     Date  \\\n",
              "0            4.27            1.35           22.44                  N  08/2023   \n",
              "1            5.60            7.65           30.40                  N  08/2023   \n",
              "2            9.53           14.52           51.18                  N  08/2023   \n",
              "3            8.39            8.99           42.23                  N  08/2023   \n",
              "4            7.37            8.85           38.29                  N  08/2023   \n",
              "\n",
              "  Domain Source  \n",
              "0     Incumbent  \n",
              "1     Incumbent  \n",
              "2     Incumbent  \n",
              "3     Incumbent  \n",
              "4     Incumbent  "
            ],
            "text/html": [
              "\n",
              "  <div id=\"df-147277a8-23ba-479f-9776-e1a376432b6d\" class=\"colab-df-container\">\n",
              "    <div>\n",
              "<style scoped>\n",
              "    .dataframe tbody tr th:only-of-type {\n",
              "        vertical-align: middle;\n",
              "    }\n",
              "\n",
              "    .dataframe tbody tr th {\n",
              "        vertical-align: top;\n",
              "    }\n",
              "\n",
              "    .dataframe thead th {\n",
              "        text-align: right;\n",
              "    }\n",
              "</style>\n",
              "<table border=\"1\" class=\"dataframe\">\n",
              "  <thead>\n",
              "    <tr style=\"text-align: right;\">\n",
              "      <th></th>\n",
              "      <th>O*NET-SOC Code</th>\n",
              "      <th>Title</th>\n",
              "      <th>Task ID</th>\n",
              "      <th>Task</th>\n",
              "      <th>Scale ID</th>\n",
              "      <th>Scale Name</th>\n",
              "      <th>Category</th>\n",
              "      <th>Data Value</th>\n",
              "      <th>N</th>\n",
              "      <th>Standard Error</th>\n",
              "      <th>Lower CI Bound</th>\n",
              "      <th>Upper CI Bound</th>\n",
              "      <th>Recommend Suppress</th>\n",
              "      <th>Date</th>\n",
              "      <th>Domain Source</th>\n",
              "    </tr>\n",
              "  </thead>\n",
              "  <tbody>\n",
              "    <tr>\n",
              "      <th>0</th>\n",
              "      <td>11-1011.00</td>\n",
              "      <td>Chief Executives</td>\n",
              "      <td>8823</td>\n",
              "      <td>Direct or coordinate an organization's financi...</td>\n",
              "      <td>FT</td>\n",
              "      <td>Frequency of Task (Categories 1-7)</td>\n",
              "      <td>1.0</td>\n",
              "      <td>5.92</td>\n",
              "      <td>76.0</td>\n",
              "      <td>4.27</td>\n",
              "      <td>1.35</td>\n",
              "      <td>22.44</td>\n",
              "      <td>N</td>\n",
              "      <td>08/2023</td>\n",
              "      <td>Incumbent</td>\n",
              "    </tr>\n",
              "    <tr>\n",
              "      <th>1</th>\n",
              "      <td>11-1011.00</td>\n",
              "      <td>Chief Executives</td>\n",
              "      <td>8823</td>\n",
              "      <td>Direct or coordinate an organization's financi...</td>\n",
              "      <td>FT</td>\n",
              "      <td>Frequency of Task (Categories 1-7)</td>\n",
              "      <td>2.0</td>\n",
              "      <td>15.98</td>\n",
              "      <td>76.0</td>\n",
              "      <td>5.60</td>\n",
              "      <td>7.65</td>\n",
              "      <td>30.40</td>\n",
              "      <td>N</td>\n",
              "      <td>08/2023</td>\n",
              "      <td>Incumbent</td>\n",
              "    </tr>\n",
              "    <tr>\n",
              "      <th>2</th>\n",
              "      <td>11-1011.00</td>\n",
              "      <td>Chief Executives</td>\n",
              "      <td>8823</td>\n",
              "      <td>Direct or coordinate an organization's financi...</td>\n",
              "      <td>FT</td>\n",
              "      <td>Frequency of Task (Categories 1-7)</td>\n",
              "      <td>3.0</td>\n",
              "      <td>29.68</td>\n",
              "      <td>76.0</td>\n",
              "      <td>9.53</td>\n",
              "      <td>14.52</td>\n",
              "      <td>51.18</td>\n",
              "      <td>N</td>\n",
              "      <td>08/2023</td>\n",
              "      <td>Incumbent</td>\n",
              "    </tr>\n",
              "    <tr>\n",
              "      <th>3</th>\n",
              "      <td>11-1011.00</td>\n",
              "      <td>Chief Executives</td>\n",
              "      <td>8823</td>\n",
              "      <td>Direct or coordinate an organization's financi...</td>\n",
              "      <td>FT</td>\n",
              "      <td>Frequency of Task (Categories 1-7)</td>\n",
              "      <td>4.0</td>\n",
              "      <td>21.18</td>\n",
              "      <td>76.0</td>\n",
              "      <td>8.39</td>\n",
              "      <td>8.99</td>\n",
              "      <td>42.23</td>\n",
              "      <td>N</td>\n",
              "      <td>08/2023</td>\n",
              "      <td>Incumbent</td>\n",
              "    </tr>\n",
              "    <tr>\n",
              "      <th>4</th>\n",
              "      <td>11-1011.00</td>\n",
              "      <td>Chief Executives</td>\n",
              "      <td>8823</td>\n",
              "      <td>Direct or coordinate an organization's financi...</td>\n",
              "      <td>FT</td>\n",
              "      <td>Frequency of Task (Categories 1-7)</td>\n",
              "      <td>5.0</td>\n",
              "      <td>19.71</td>\n",
              "      <td>76.0</td>\n",
              "      <td>7.37</td>\n",
              "      <td>8.85</td>\n",
              "      <td>38.29</td>\n",
              "      <td>N</td>\n",
              "      <td>08/2023</td>\n",
              "      <td>Incumbent</td>\n",
              "    </tr>\n",
              "  </tbody>\n",
              "</table>\n",
              "</div>\n",
              "    <div class=\"colab-df-buttons\">\n",
              "\n",
              "  <div class=\"colab-df-container\">\n",
              "    <button class=\"colab-df-convert\" onclick=\"convertToInteractive('df-147277a8-23ba-479f-9776-e1a376432b6d')\"\n",
              "            title=\"Convert this dataframe to an interactive table.\"\n",
              "            style=\"display:none;\">\n",
              "\n",
              "  <svg xmlns=\"http://www.w3.org/2000/svg\" height=\"24px\" viewBox=\"0 -960 960 960\">\n",
              "    <path d=\"M120-120v-720h720v720H120Zm60-500h600v-160H180v160Zm220 220h160v-160H400v160Zm0 220h160v-160H400v160ZM180-400h160v-160H180v160Zm440 0h160v-160H620v160ZM180-180h160v-160H180v160Zm440 0h160v-160H620v160Z\"/>\n",
              "  </svg>\n",
              "    </button>\n",
              "\n",
              "  <style>\n",
              "    .colab-df-container {\n",
              "      display:flex;\n",
              "      gap: 12px;\n",
              "    }\n",
              "\n",
              "    .colab-df-convert {\n",
              "      background-color: #E8F0FE;\n",
              "      border: none;\n",
              "      border-radius: 50%;\n",
              "      cursor: pointer;\n",
              "      display: none;\n",
              "      fill: #1967D2;\n",
              "      height: 32px;\n",
              "      padding: 0 0 0 0;\n",
              "      width: 32px;\n",
              "    }\n",
              "\n",
              "    .colab-df-convert:hover {\n",
              "      background-color: #E2EBFA;\n",
              "      box-shadow: 0px 1px 2px rgba(60, 64, 67, 0.3), 0px 1px 3px 1px rgba(60, 64, 67, 0.15);\n",
              "      fill: #174EA6;\n",
              "    }\n",
              "\n",
              "    .colab-df-buttons div {\n",
              "      margin-bottom: 4px;\n",
              "    }\n",
              "\n",
              "    [theme=dark] .colab-df-convert {\n",
              "      background-color: #3B4455;\n",
              "      fill: #D2E3FC;\n",
              "    }\n",
              "\n",
              "    [theme=dark] .colab-df-convert:hover {\n",
              "      background-color: #434B5C;\n",
              "      box-shadow: 0px 1px 3px 1px rgba(0, 0, 0, 0.15);\n",
              "      filter: drop-shadow(0px 1px 2px rgba(0, 0, 0, 0.3));\n",
              "      fill: #FFFFFF;\n",
              "    }\n",
              "  </style>\n",
              "\n",
              "    <script>\n",
              "      const buttonEl =\n",
              "        document.querySelector('#df-147277a8-23ba-479f-9776-e1a376432b6d button.colab-df-convert');\n",
              "      buttonEl.style.display =\n",
              "        google.colab.kernel.accessAllowed ? 'block' : 'none';\n",
              "\n",
              "      async function convertToInteractive(key) {\n",
              "        const element = document.querySelector('#df-147277a8-23ba-479f-9776-e1a376432b6d');\n",
              "        const dataTable =\n",
              "          await google.colab.kernel.invokeFunction('convertToInteractive',\n",
              "                                                    [key], {});\n",
              "        if (!dataTable) return;\n",
              "\n",
              "        const docLinkHtml = 'Like what you see? Visit the ' +\n",
              "          '<a target=\"_blank\" href=https://colab.research.google.com/notebooks/data_table.ipynb>data table notebook</a>'\n",
              "          + ' to learn more about interactive tables.';\n",
              "        element.innerHTML = '';\n",
              "        dataTable['output_type'] = 'display_data';\n",
              "        await google.colab.output.renderOutput(dataTable, element);\n",
              "        const docLink = document.createElement('div');\n",
              "        docLink.innerHTML = docLinkHtml;\n",
              "        element.appendChild(docLink);\n",
              "      }\n",
              "    </script>\n",
              "  </div>\n",
              "\n",
              "\n",
              "<div id=\"df-f9c5bc80-ad4d-4884-9cd3-f80ab581cae6\">\n",
              "  <button class=\"colab-df-quickchart\" onclick=\"quickchart('df-f9c5bc80-ad4d-4884-9cd3-f80ab581cae6')\"\n",
              "            title=\"Suggest charts.\"\n",
              "            style=\"display:none;\">\n",
              "\n",
              "<svg xmlns=\"http://www.w3.org/2000/svg\" height=\"24px\"viewBox=\"0 0 24 24\"\n",
              "     width=\"24px\">\n",
              "    <g>\n",
              "        <path d=\"M19 3H5c-1.1 0-2 .9-2 2v14c0 1.1.9 2 2 2h14c1.1 0 2-.9 2-2V5c0-1.1-.9-2-2-2zM9 17H7v-7h2v7zm4 0h-2V7h2v10zm4 0h-2v-4h2v4z\"/>\n",
              "    </g>\n",
              "</svg>\n",
              "  </button>\n",
              "\n",
              "<style>\n",
              "  .colab-df-quickchart {\n",
              "      --bg-color: #E8F0FE;\n",
              "      --fill-color: #1967D2;\n",
              "      --hover-bg-color: #E2EBFA;\n",
              "      --hover-fill-color: #174EA6;\n",
              "      --disabled-fill-color: #AAA;\n",
              "      --disabled-bg-color: #DDD;\n",
              "  }\n",
              "\n",
              "  [theme=dark] .colab-df-quickchart {\n",
              "      --bg-color: #3B4455;\n",
              "      --fill-color: #D2E3FC;\n",
              "      --hover-bg-color: #434B5C;\n",
              "      --hover-fill-color: #FFFFFF;\n",
              "      --disabled-bg-color: #3B4455;\n",
              "      --disabled-fill-color: #666;\n",
              "  }\n",
              "\n",
              "  .colab-df-quickchart {\n",
              "    background-color: var(--bg-color);\n",
              "    border: none;\n",
              "    border-radius: 50%;\n",
              "    cursor: pointer;\n",
              "    display: none;\n",
              "    fill: var(--fill-color);\n",
              "    height: 32px;\n",
              "    padding: 0;\n",
              "    width: 32px;\n",
              "  }\n",
              "\n",
              "  .colab-df-quickchart:hover {\n",
              "    background-color: var(--hover-bg-color);\n",
              "    box-shadow: 0 1px 2px rgba(60, 64, 67, 0.3), 0 1px 3px 1px rgba(60, 64, 67, 0.15);\n",
              "    fill: var(--button-hover-fill-color);\n",
              "  }\n",
              "\n",
              "  .colab-df-quickchart-complete:disabled,\n",
              "  .colab-df-quickchart-complete:disabled:hover {\n",
              "    background-color: var(--disabled-bg-color);\n",
              "    fill: var(--disabled-fill-color);\n",
              "    box-shadow: none;\n",
              "  }\n",
              "\n",
              "  .colab-df-spinner {\n",
              "    border: 2px solid var(--fill-color);\n",
              "    border-color: transparent;\n",
              "    border-bottom-color: var(--fill-color);\n",
              "    animation:\n",
              "      spin 1s steps(1) infinite;\n",
              "  }\n",
              "\n",
              "  @keyframes spin {\n",
              "    0% {\n",
              "      border-color: transparent;\n",
              "      border-bottom-color: var(--fill-color);\n",
              "      border-left-color: var(--fill-color);\n",
              "    }\n",
              "    20% {\n",
              "      border-color: transparent;\n",
              "      border-left-color: var(--fill-color);\n",
              "      border-top-color: var(--fill-color);\n",
              "    }\n",
              "    30% {\n",
              "      border-color: transparent;\n",
              "      border-left-color: var(--fill-color);\n",
              "      border-top-color: var(--fill-color);\n",
              "      border-right-color: var(--fill-color);\n",
              "    }\n",
              "    40% {\n",
              "      border-color: transparent;\n",
              "      border-right-color: var(--fill-color);\n",
              "      border-top-color: var(--fill-color);\n",
              "    }\n",
              "    60% {\n",
              "      border-color: transparent;\n",
              "      border-right-color: var(--fill-color);\n",
              "    }\n",
              "    80% {\n",
              "      border-color: transparent;\n",
              "      border-right-color: var(--fill-color);\n",
              "      border-bottom-color: var(--fill-color);\n",
              "    }\n",
              "    90% {\n",
              "      border-color: transparent;\n",
              "      border-bottom-color: var(--fill-color);\n",
              "    }\n",
              "  }\n",
              "</style>\n",
              "\n",
              "  <script>\n",
              "    async function quickchart(key) {\n",
              "      const quickchartButtonEl =\n",
              "        document.querySelector('#' + key + ' button');\n",
              "      quickchartButtonEl.disabled = true;  // To prevent multiple clicks.\n",
              "      quickchartButtonEl.classList.add('colab-df-spinner');\n",
              "      try {\n",
              "        const charts = await google.colab.kernel.invokeFunction(\n",
              "            'suggestCharts', [key], {});\n",
              "      } catch (error) {\n",
              "        console.error('Error during call to suggestCharts:', error);\n",
              "      }\n",
              "      quickchartButtonEl.classList.remove('colab-df-spinner');\n",
              "      quickchartButtonEl.classList.add('colab-df-quickchart-complete');\n",
              "    }\n",
              "    (() => {\n",
              "      let quickchartButtonEl =\n",
              "        document.querySelector('#df-f9c5bc80-ad4d-4884-9cd3-f80ab581cae6 button');\n",
              "      quickchartButtonEl.style.display =\n",
              "        google.colab.kernel.accessAllowed ? 'block' : 'none';\n",
              "    })();\n",
              "  </script>\n",
              "</div>\n",
              "    </div>\n",
              "  </div>\n"
            ]
          },
          "metadata": {},
          "execution_count": 260
        }
      ]
    },
    {
      "cell_type": "code",
      "source": [
        "taskstatements.head()"
      ],
      "metadata": {
        "colab": {
          "base_uri": "https://localhost:8080/",
          "height": 206
        },
        "id": "jJWhpKP0mAp0",
        "outputId": "a423277b-cbee-4c7a-fdf6-f4ab2cdd03ca"
      },
      "execution_count": 261,
      "outputs": [
        {
          "output_type": "execute_result",
          "data": {
            "text/plain": [
              "  O*NET-SOC Code             Title  Task ID  \\\n",
              "0     11-1011.00  Chief Executives     8823   \n",
              "1     11-1011.00  Chief Executives     8824   \n",
              "2     11-1011.00  Chief Executives     8827   \n",
              "3     11-1011.00  Chief Executives     8826   \n",
              "4     11-1011.00  Chief Executives     8834   \n",
              "\n",
              "                                                Task Task Type  \\\n",
              "0  Direct or coordinate an organization's financi...      Core   \n",
              "1  Confer with board members, organization offici...      Core   \n",
              "2  Prepare budgets for approval, including those ...      Core   \n",
              "3  Direct, plan, or implement policies, objective...      Core   \n",
              "4  Prepare or present reports concerning activiti...      Core   \n",
              "\n",
              "   Incumbents Responding     Date Domain Source  \n",
              "0                   95.0  08/2023     Incumbent  \n",
              "1                   95.0  08/2023     Incumbent  \n",
              "2                   95.0  08/2023     Incumbent  \n",
              "3                   94.0  08/2023     Incumbent  \n",
              "4                   95.0  08/2023     Incumbent  "
            ],
            "text/html": [
              "\n",
              "  <div id=\"df-75c167ed-5c91-49cd-95ee-502cc8b65d6e\" class=\"colab-df-container\">\n",
              "    <div>\n",
              "<style scoped>\n",
              "    .dataframe tbody tr th:only-of-type {\n",
              "        vertical-align: middle;\n",
              "    }\n",
              "\n",
              "    .dataframe tbody tr th {\n",
              "        vertical-align: top;\n",
              "    }\n",
              "\n",
              "    .dataframe thead th {\n",
              "        text-align: right;\n",
              "    }\n",
              "</style>\n",
              "<table border=\"1\" class=\"dataframe\">\n",
              "  <thead>\n",
              "    <tr style=\"text-align: right;\">\n",
              "      <th></th>\n",
              "      <th>O*NET-SOC Code</th>\n",
              "      <th>Title</th>\n",
              "      <th>Task ID</th>\n",
              "      <th>Task</th>\n",
              "      <th>Task Type</th>\n",
              "      <th>Incumbents Responding</th>\n",
              "      <th>Date</th>\n",
              "      <th>Domain Source</th>\n",
              "    </tr>\n",
              "  </thead>\n",
              "  <tbody>\n",
              "    <tr>\n",
              "      <th>0</th>\n",
              "      <td>11-1011.00</td>\n",
              "      <td>Chief Executives</td>\n",
              "      <td>8823</td>\n",
              "      <td>Direct or coordinate an organization's financi...</td>\n",
              "      <td>Core</td>\n",
              "      <td>95.0</td>\n",
              "      <td>08/2023</td>\n",
              "      <td>Incumbent</td>\n",
              "    </tr>\n",
              "    <tr>\n",
              "      <th>1</th>\n",
              "      <td>11-1011.00</td>\n",
              "      <td>Chief Executives</td>\n",
              "      <td>8824</td>\n",
              "      <td>Confer with board members, organization offici...</td>\n",
              "      <td>Core</td>\n",
              "      <td>95.0</td>\n",
              "      <td>08/2023</td>\n",
              "      <td>Incumbent</td>\n",
              "    </tr>\n",
              "    <tr>\n",
              "      <th>2</th>\n",
              "      <td>11-1011.00</td>\n",
              "      <td>Chief Executives</td>\n",
              "      <td>8827</td>\n",
              "      <td>Prepare budgets for approval, including those ...</td>\n",
              "      <td>Core</td>\n",
              "      <td>95.0</td>\n",
              "      <td>08/2023</td>\n",
              "      <td>Incumbent</td>\n",
              "    </tr>\n",
              "    <tr>\n",
              "      <th>3</th>\n",
              "      <td>11-1011.00</td>\n",
              "      <td>Chief Executives</td>\n",
              "      <td>8826</td>\n",
              "      <td>Direct, plan, or implement policies, objective...</td>\n",
              "      <td>Core</td>\n",
              "      <td>94.0</td>\n",
              "      <td>08/2023</td>\n",
              "      <td>Incumbent</td>\n",
              "    </tr>\n",
              "    <tr>\n",
              "      <th>4</th>\n",
              "      <td>11-1011.00</td>\n",
              "      <td>Chief Executives</td>\n",
              "      <td>8834</td>\n",
              "      <td>Prepare or present reports concerning activiti...</td>\n",
              "      <td>Core</td>\n",
              "      <td>95.0</td>\n",
              "      <td>08/2023</td>\n",
              "      <td>Incumbent</td>\n",
              "    </tr>\n",
              "  </tbody>\n",
              "</table>\n",
              "</div>\n",
              "    <div class=\"colab-df-buttons\">\n",
              "\n",
              "  <div class=\"colab-df-container\">\n",
              "    <button class=\"colab-df-convert\" onclick=\"convertToInteractive('df-75c167ed-5c91-49cd-95ee-502cc8b65d6e')\"\n",
              "            title=\"Convert this dataframe to an interactive table.\"\n",
              "            style=\"display:none;\">\n",
              "\n",
              "  <svg xmlns=\"http://www.w3.org/2000/svg\" height=\"24px\" viewBox=\"0 -960 960 960\">\n",
              "    <path d=\"M120-120v-720h720v720H120Zm60-500h600v-160H180v160Zm220 220h160v-160H400v160Zm0 220h160v-160H400v160ZM180-400h160v-160H180v160Zm440 0h160v-160H620v160ZM180-180h160v-160H180v160Zm440 0h160v-160H620v160Z\"/>\n",
              "  </svg>\n",
              "    </button>\n",
              "\n",
              "  <style>\n",
              "    .colab-df-container {\n",
              "      display:flex;\n",
              "      gap: 12px;\n",
              "    }\n",
              "\n",
              "    .colab-df-convert {\n",
              "      background-color: #E8F0FE;\n",
              "      border: none;\n",
              "      border-radius: 50%;\n",
              "      cursor: pointer;\n",
              "      display: none;\n",
              "      fill: #1967D2;\n",
              "      height: 32px;\n",
              "      padding: 0 0 0 0;\n",
              "      width: 32px;\n",
              "    }\n",
              "\n",
              "    .colab-df-convert:hover {\n",
              "      background-color: #E2EBFA;\n",
              "      box-shadow: 0px 1px 2px rgba(60, 64, 67, 0.3), 0px 1px 3px 1px rgba(60, 64, 67, 0.15);\n",
              "      fill: #174EA6;\n",
              "    }\n",
              "\n",
              "    .colab-df-buttons div {\n",
              "      margin-bottom: 4px;\n",
              "    }\n",
              "\n",
              "    [theme=dark] .colab-df-convert {\n",
              "      background-color: #3B4455;\n",
              "      fill: #D2E3FC;\n",
              "    }\n",
              "\n",
              "    [theme=dark] .colab-df-convert:hover {\n",
              "      background-color: #434B5C;\n",
              "      box-shadow: 0px 1px 3px 1px rgba(0, 0, 0, 0.15);\n",
              "      filter: drop-shadow(0px 1px 2px rgba(0, 0, 0, 0.3));\n",
              "      fill: #FFFFFF;\n",
              "    }\n",
              "  </style>\n",
              "\n",
              "    <script>\n",
              "      const buttonEl =\n",
              "        document.querySelector('#df-75c167ed-5c91-49cd-95ee-502cc8b65d6e button.colab-df-convert');\n",
              "      buttonEl.style.display =\n",
              "        google.colab.kernel.accessAllowed ? 'block' : 'none';\n",
              "\n",
              "      async function convertToInteractive(key) {\n",
              "        const element = document.querySelector('#df-75c167ed-5c91-49cd-95ee-502cc8b65d6e');\n",
              "        const dataTable =\n",
              "          await google.colab.kernel.invokeFunction('convertToInteractive',\n",
              "                                                    [key], {});\n",
              "        if (!dataTable) return;\n",
              "\n",
              "        const docLinkHtml = 'Like what you see? Visit the ' +\n",
              "          '<a target=\"_blank\" href=https://colab.research.google.com/notebooks/data_table.ipynb>data table notebook</a>'\n",
              "          + ' to learn more about interactive tables.';\n",
              "        element.innerHTML = '';\n",
              "        dataTable['output_type'] = 'display_data';\n",
              "        await google.colab.output.renderOutput(dataTable, element);\n",
              "        const docLink = document.createElement('div');\n",
              "        docLink.innerHTML = docLinkHtml;\n",
              "        element.appendChild(docLink);\n",
              "      }\n",
              "    </script>\n",
              "  </div>\n",
              "\n",
              "\n",
              "<div id=\"df-4422617b-21c8-40c9-8d6b-7c1a0d7e1184\">\n",
              "  <button class=\"colab-df-quickchart\" onclick=\"quickchart('df-4422617b-21c8-40c9-8d6b-7c1a0d7e1184')\"\n",
              "            title=\"Suggest charts.\"\n",
              "            style=\"display:none;\">\n",
              "\n",
              "<svg xmlns=\"http://www.w3.org/2000/svg\" height=\"24px\"viewBox=\"0 0 24 24\"\n",
              "     width=\"24px\">\n",
              "    <g>\n",
              "        <path d=\"M19 3H5c-1.1 0-2 .9-2 2v14c0 1.1.9 2 2 2h14c1.1 0 2-.9 2-2V5c0-1.1-.9-2-2-2zM9 17H7v-7h2v7zm4 0h-2V7h2v10zm4 0h-2v-4h2v4z\"/>\n",
              "    </g>\n",
              "</svg>\n",
              "  </button>\n",
              "\n",
              "<style>\n",
              "  .colab-df-quickchart {\n",
              "      --bg-color: #E8F0FE;\n",
              "      --fill-color: #1967D2;\n",
              "      --hover-bg-color: #E2EBFA;\n",
              "      --hover-fill-color: #174EA6;\n",
              "      --disabled-fill-color: #AAA;\n",
              "      --disabled-bg-color: #DDD;\n",
              "  }\n",
              "\n",
              "  [theme=dark] .colab-df-quickchart {\n",
              "      --bg-color: #3B4455;\n",
              "      --fill-color: #D2E3FC;\n",
              "      --hover-bg-color: #434B5C;\n",
              "      --hover-fill-color: #FFFFFF;\n",
              "      --disabled-bg-color: #3B4455;\n",
              "      --disabled-fill-color: #666;\n",
              "  }\n",
              "\n",
              "  .colab-df-quickchart {\n",
              "    background-color: var(--bg-color);\n",
              "    border: none;\n",
              "    border-radius: 50%;\n",
              "    cursor: pointer;\n",
              "    display: none;\n",
              "    fill: var(--fill-color);\n",
              "    height: 32px;\n",
              "    padding: 0;\n",
              "    width: 32px;\n",
              "  }\n",
              "\n",
              "  .colab-df-quickchart:hover {\n",
              "    background-color: var(--hover-bg-color);\n",
              "    box-shadow: 0 1px 2px rgba(60, 64, 67, 0.3), 0 1px 3px 1px rgba(60, 64, 67, 0.15);\n",
              "    fill: var(--button-hover-fill-color);\n",
              "  }\n",
              "\n",
              "  .colab-df-quickchart-complete:disabled,\n",
              "  .colab-df-quickchart-complete:disabled:hover {\n",
              "    background-color: var(--disabled-bg-color);\n",
              "    fill: var(--disabled-fill-color);\n",
              "    box-shadow: none;\n",
              "  }\n",
              "\n",
              "  .colab-df-spinner {\n",
              "    border: 2px solid var(--fill-color);\n",
              "    border-color: transparent;\n",
              "    border-bottom-color: var(--fill-color);\n",
              "    animation:\n",
              "      spin 1s steps(1) infinite;\n",
              "  }\n",
              "\n",
              "  @keyframes spin {\n",
              "    0% {\n",
              "      border-color: transparent;\n",
              "      border-bottom-color: var(--fill-color);\n",
              "      border-left-color: var(--fill-color);\n",
              "    }\n",
              "    20% {\n",
              "      border-color: transparent;\n",
              "      border-left-color: var(--fill-color);\n",
              "      border-top-color: var(--fill-color);\n",
              "    }\n",
              "    30% {\n",
              "      border-color: transparent;\n",
              "      border-left-color: var(--fill-color);\n",
              "      border-top-color: var(--fill-color);\n",
              "      border-right-color: var(--fill-color);\n",
              "    }\n",
              "    40% {\n",
              "      border-color: transparent;\n",
              "      border-right-color: var(--fill-color);\n",
              "      border-top-color: var(--fill-color);\n",
              "    }\n",
              "    60% {\n",
              "      border-color: transparent;\n",
              "      border-right-color: var(--fill-color);\n",
              "    }\n",
              "    80% {\n",
              "      border-color: transparent;\n",
              "      border-right-color: var(--fill-color);\n",
              "      border-bottom-color: var(--fill-color);\n",
              "    }\n",
              "    90% {\n",
              "      border-color: transparent;\n",
              "      border-bottom-color: var(--fill-color);\n",
              "    }\n",
              "  }\n",
              "</style>\n",
              "\n",
              "  <script>\n",
              "    async function quickchart(key) {\n",
              "      const quickchartButtonEl =\n",
              "        document.querySelector('#' + key + ' button');\n",
              "      quickchartButtonEl.disabled = true;  // To prevent multiple clicks.\n",
              "      quickchartButtonEl.classList.add('colab-df-spinner');\n",
              "      try {\n",
              "        const charts = await google.colab.kernel.invokeFunction(\n",
              "            'suggestCharts', [key], {});\n",
              "      } catch (error) {\n",
              "        console.error('Error during call to suggestCharts:', error);\n",
              "      }\n",
              "      quickchartButtonEl.classList.remove('colab-df-spinner');\n",
              "      quickchartButtonEl.classList.add('colab-df-quickchart-complete');\n",
              "    }\n",
              "    (() => {\n",
              "      let quickchartButtonEl =\n",
              "        document.querySelector('#df-4422617b-21c8-40c9-8d6b-7c1a0d7e1184 button');\n",
              "      quickchartButtonEl.style.display =\n",
              "        google.colab.kernel.accessAllowed ? 'block' : 'none';\n",
              "    })();\n",
              "  </script>\n",
              "</div>\n",
              "    </div>\n",
              "  </div>\n"
            ]
          },
          "metadata": {},
          "execution_count": 261
        }
      ]
    },
    {
      "cell_type": "code",
      "source": [
        "techskills.info()"
      ],
      "metadata": {
        "colab": {
          "base_uri": "https://localhost:8080/"
        },
        "id": "c1LNxlA0XYZZ",
        "outputId": "c5571ee4-f68c-4b31-ca11-0102cacb2f43"
      },
      "execution_count": 10,
      "outputs": [
        {
          "output_type": "stream",
          "name": "stdout",
          "text": [
            "<class 'pandas.core.frame.DataFrame'>\n",
            "RangeIndex: 32384 entries, 0 to 32383\n",
            "Data columns (total 7 columns):\n",
            " #   Column           Non-Null Count  Dtype \n",
            "---  ------           --------------  ----- \n",
            " 0   O*NET-SOC Code   32384 non-null  object\n",
            " 1   Title            32384 non-null  object\n",
            " 2   Example          32384 non-null  object\n",
            " 3   Commodity Code   32384 non-null  int64 \n",
            " 4   Commodity Title  32384 non-null  object\n",
            " 5   Hot Technology   32384 non-null  object\n",
            " 6   In Demand        32384 non-null  object\n",
            "dtypes: int64(1), object(6)\n",
            "memory usage: 1.7+ MB\n"
          ]
        }
      ]
    },
    {
      "cell_type": "code",
      "source": [
        "#ai_risk.info()"
      ],
      "metadata": {
        "id": "MA44wGnAjp3c"
      },
      "execution_count": 11,
      "outputs": []
    },
    {
      "cell_type": "markdown",
      "source": [
        "### Reconfigure the dataset to be a crosstab"
      ],
      "metadata": {
        "id": "rZ0S2Gu-jxK0"
      }
    },
    {
      "cell_type": "code",
      "source": [
        "tasks_importance = tasks[tasks[\"Scale Name\"] == \"Importance\"]"
      ],
      "metadata": {
        "id": "WEnzudt5z_Zp"
      },
      "execution_count": 262,
      "outputs": []
    },
    {
      "cell_type": "code",
      "source": [
        "tasks_importance_1 = tasks[tasks[\"Category\"] == 1]"
      ],
      "metadata": {
        "id": "UTEB3zmL1GXI"
      },
      "execution_count": 263,
      "outputs": []
    },
    {
      "cell_type": "code",
      "source": [
        "tasks_importance_2 = tasks[tasks[\"Category\"] == 2]"
      ],
      "metadata": {
        "id": "rip2XmT0XhbS"
      },
      "execution_count": 264,
      "outputs": []
    },
    {
      "cell_type": "code",
      "source": [
        "tasks_importance_3 = tasks[tasks[\"Category\"] == 3]"
      ],
      "metadata": {
        "id": "GrY1FTeaXohd"
      },
      "execution_count": 265,
      "outputs": []
    },
    {
      "cell_type": "code",
      "source": [
        "tasks_importance_4 = tasks[tasks[\"Category\"] == 4]"
      ],
      "metadata": {
        "id": "GGasx8HndEaC"
      },
      "execution_count": 266,
      "outputs": []
    },
    {
      "cell_type": "code",
      "source": [
        "tasks_importance_5 = tasks[tasks[\"Category\"] == 5]"
      ],
      "metadata": {
        "id": "DZXYAPxRdETG"
      },
      "execution_count": 267,
      "outputs": []
    },
    {
      "cell_type": "code",
      "source": [
        "tasks_importance_6 = tasks[tasks[\"Category\"] == 6]"
      ],
      "metadata": {
        "id": "xvwzB0C9dEKa"
      },
      "execution_count": 268,
      "outputs": []
    },
    {
      "cell_type": "code",
      "source": [
        "tasks_importance_7 = tasks[tasks[\"Category\"] == 7]"
      ],
      "metadata": {
        "id": "KBmjosz4dD6M"
      },
      "execution_count": 269,
      "outputs": []
    },
    {
      "cell_type": "markdown",
      "source": [
        "Count how many entries (abilities and skills) there are per title in the dataset"
      ],
      "metadata": {
        "id": "9t085JmekGH5"
      }
    },
    {
      "cell_type": "code",
      "source": [
        "## Number of Tasks\n",
        "tasks_importance.shape[0]"
      ],
      "metadata": {
        "colab": {
          "base_uri": "https://localhost:8080/"
        },
        "id": "oSdEr027cua0",
        "outputId": "f0f49f53-b050-438c-ed97-640e590043f9"
      },
      "execution_count": 20,
      "outputs": [
        {
          "output_type": "execute_result",
          "data": {
            "text/plain": [
              "17983"
            ]
          },
          "metadata": {},
          "execution_count": 20
        }
      ]
    },
    {
      "cell_type": "code",
      "source": [
        "tasks_importance.columns.values"
      ],
      "metadata": {
        "colab": {
          "base_uri": "https://localhost:8080/"
        },
        "id": "ioWgSPeWee-i",
        "outputId": "5686de6f-3e68-43d7-9c62-dcaa88324c8f"
      },
      "execution_count": 21,
      "outputs": [
        {
          "output_type": "execute_result",
          "data": {
            "text/plain": [
              "array(['O*NET-SOC Code', 'Title', 'Task ID', 'Task', 'Scale ID',\n",
              "       'Scale Name', 'Category', 'Data Value', 'N', 'Standard Error',\n",
              "       'Lower CI Bound', 'Upper CI Bound', 'Recommend Suppress', 'Date',\n",
              "       'Domain Source'], dtype=object)"
            ]
          },
          "metadata": {},
          "execution_count": 21
        }
      ]
    },
    {
      "cell_type": "code",
      "source": [
        "## Shorten the datasets for easier use\n",
        "def drop_columns(x):\n",
        "  x.drop(columns=['Title',\n",
        "                  'Scale ID',\n",
        "                  'Scale Name',\n",
        "                  'Category',\n",
        "                  'N',\n",
        "                  'Standard Error',\n",
        "                  'Lower CI Bound',\n",
        "                  'Upper CI Bound',\n",
        "                  'Recommend Suppress',\n",
        "                  'Date',\n",
        "                  'Domain Source'], inplace = True)\n"
      ],
      "metadata": {
        "id": "REwjkhG2kgUI"
      },
      "execution_count": 270,
      "outputs": []
    },
    {
      "cell_type": "code",
      "source": [
        "sources = [tasks_importance,\n",
        "           tasks_importance_1,\n",
        "           tasks_importance_2,\n",
        "           tasks_importance_3,\n",
        "           tasks_importance_4,\n",
        "           tasks_importance_5,\n",
        "           tasks_importance_6,\n",
        "           tasks_importance_7]\n",
        "for source in sources:\n",
        "  drop_columns(source)\n"
      ],
      "metadata": {
        "colab": {
          "base_uri": "https://localhost:8080/"
        },
        "id": "d-fuK6KQgNVi",
        "outputId": "0defea56-61c1-45b7-e1f8-c99e3f83adf9"
      },
      "execution_count": 271,
      "outputs": [
        {
          "output_type": "stream",
          "name": "stderr",
          "text": [
            "<ipython-input-270-6c7c2b39a7cd>:3: SettingWithCopyWarning: \n",
            "A value is trying to be set on a copy of a slice from a DataFrame\n",
            "\n",
            "See the caveats in the documentation: https://pandas.pydata.org/pandas-docs/stable/user_guide/indexing.html#returning-a-view-versus-a-copy\n",
            "  x.drop(columns=['Title',\n",
            "<ipython-input-270-6c7c2b39a7cd>:3: SettingWithCopyWarning: \n",
            "A value is trying to be set on a copy of a slice from a DataFrame\n",
            "\n",
            "See the caveats in the documentation: https://pandas.pydata.org/pandas-docs/stable/user_guide/indexing.html#returning-a-view-versus-a-copy\n",
            "  x.drop(columns=['Title',\n",
            "<ipython-input-270-6c7c2b39a7cd>:3: SettingWithCopyWarning: \n",
            "A value is trying to be set on a copy of a slice from a DataFrame\n",
            "\n",
            "See the caveats in the documentation: https://pandas.pydata.org/pandas-docs/stable/user_guide/indexing.html#returning-a-view-versus-a-copy\n",
            "  x.drop(columns=['Title',\n",
            "<ipython-input-270-6c7c2b39a7cd>:3: SettingWithCopyWarning: \n",
            "A value is trying to be set on a copy of a slice from a DataFrame\n",
            "\n",
            "See the caveats in the documentation: https://pandas.pydata.org/pandas-docs/stable/user_guide/indexing.html#returning-a-view-versus-a-copy\n",
            "  x.drop(columns=['Title',\n",
            "<ipython-input-270-6c7c2b39a7cd>:3: SettingWithCopyWarning: \n",
            "A value is trying to be set on a copy of a slice from a DataFrame\n",
            "\n",
            "See the caveats in the documentation: https://pandas.pydata.org/pandas-docs/stable/user_guide/indexing.html#returning-a-view-versus-a-copy\n",
            "  x.drop(columns=['Title',\n",
            "<ipython-input-270-6c7c2b39a7cd>:3: SettingWithCopyWarning: \n",
            "A value is trying to be set on a copy of a slice from a DataFrame\n",
            "\n",
            "See the caveats in the documentation: https://pandas.pydata.org/pandas-docs/stable/user_guide/indexing.html#returning-a-view-versus-a-copy\n",
            "  x.drop(columns=['Title',\n",
            "<ipython-input-270-6c7c2b39a7cd>:3: SettingWithCopyWarning: \n",
            "A value is trying to be set on a copy of a slice from a DataFrame\n",
            "\n",
            "See the caveats in the documentation: https://pandas.pydata.org/pandas-docs/stable/user_guide/indexing.html#returning-a-view-versus-a-copy\n",
            "  x.drop(columns=['Title',\n",
            "<ipython-input-270-6c7c2b39a7cd>:3: SettingWithCopyWarning: \n",
            "A value is trying to be set on a copy of a slice from a DataFrame\n",
            "\n",
            "See the caveats in the documentation: https://pandas.pydata.org/pandas-docs/stable/user_guide/indexing.html#returning-a-view-versus-a-copy\n",
            "  x.drop(columns=['Title',\n"
          ]
        }
      ]
    },
    {
      "cell_type": "markdown",
      "source": [
        "Create an SOC-Title Index for future use"
      ],
      "metadata": {
        "id": "m29Q4B4isIny"
      }
    },
    {
      "cell_type": "code",
      "source": [
        "tasks_importance.head()"
      ],
      "metadata": {
        "colab": {
          "base_uri": "https://localhost:8080/",
          "height": 206
        },
        "id": "Tq-wKAqIhy6H",
        "outputId": "8353439a-38ff-4e3b-a372-af9f628403a5"
      },
      "execution_count": 28,
      "outputs": [
        {
          "output_type": "execute_result",
          "data": {
            "text/plain": [
              "   O*NET-SOC Code  Task ID                                               Task  \\\n",
              "7      11-1011.00     8823  Direct or coordinate an organization's financi...   \n",
              "16     11-1011.00     8824  Confer with board members, organization offici...   \n",
              "25     11-1011.00     8827  Prepare budgets for approval, including those ...   \n",
              "34     11-1011.00     8826  Direct, plan, or implement policies, objective...   \n",
              "43     11-1011.00     8834  Prepare or present reports concerning activiti...   \n",
              "\n",
              "    Data Value  \n",
              "7         4.52  \n",
              "16        4.32  \n",
              "25        4.30  \n",
              "34        4.24  \n",
              "43        4.17  "
            ],
            "text/html": [
              "\n",
              "  <div id=\"df-4f62bfa0-02db-4f74-81a3-0f709f02c17e\" class=\"colab-df-container\">\n",
              "    <div>\n",
              "<style scoped>\n",
              "    .dataframe tbody tr th:only-of-type {\n",
              "        vertical-align: middle;\n",
              "    }\n",
              "\n",
              "    .dataframe tbody tr th {\n",
              "        vertical-align: top;\n",
              "    }\n",
              "\n",
              "    .dataframe thead th {\n",
              "        text-align: right;\n",
              "    }\n",
              "</style>\n",
              "<table border=\"1\" class=\"dataframe\">\n",
              "  <thead>\n",
              "    <tr style=\"text-align: right;\">\n",
              "      <th></th>\n",
              "      <th>O*NET-SOC Code</th>\n",
              "      <th>Task ID</th>\n",
              "      <th>Task</th>\n",
              "      <th>Data Value</th>\n",
              "    </tr>\n",
              "  </thead>\n",
              "  <tbody>\n",
              "    <tr>\n",
              "      <th>7</th>\n",
              "      <td>11-1011.00</td>\n",
              "      <td>8823</td>\n",
              "      <td>Direct or coordinate an organization's financi...</td>\n",
              "      <td>4.52</td>\n",
              "    </tr>\n",
              "    <tr>\n",
              "      <th>16</th>\n",
              "      <td>11-1011.00</td>\n",
              "      <td>8824</td>\n",
              "      <td>Confer with board members, organization offici...</td>\n",
              "      <td>4.32</td>\n",
              "    </tr>\n",
              "    <tr>\n",
              "      <th>25</th>\n",
              "      <td>11-1011.00</td>\n",
              "      <td>8827</td>\n",
              "      <td>Prepare budgets for approval, including those ...</td>\n",
              "      <td>4.30</td>\n",
              "    </tr>\n",
              "    <tr>\n",
              "      <th>34</th>\n",
              "      <td>11-1011.00</td>\n",
              "      <td>8826</td>\n",
              "      <td>Direct, plan, or implement policies, objective...</td>\n",
              "      <td>4.24</td>\n",
              "    </tr>\n",
              "    <tr>\n",
              "      <th>43</th>\n",
              "      <td>11-1011.00</td>\n",
              "      <td>8834</td>\n",
              "      <td>Prepare or present reports concerning activiti...</td>\n",
              "      <td>4.17</td>\n",
              "    </tr>\n",
              "  </tbody>\n",
              "</table>\n",
              "</div>\n",
              "    <div class=\"colab-df-buttons\">\n",
              "\n",
              "  <div class=\"colab-df-container\">\n",
              "    <button class=\"colab-df-convert\" onclick=\"convertToInteractive('df-4f62bfa0-02db-4f74-81a3-0f709f02c17e')\"\n",
              "            title=\"Convert this dataframe to an interactive table.\"\n",
              "            style=\"display:none;\">\n",
              "\n",
              "  <svg xmlns=\"http://www.w3.org/2000/svg\" height=\"24px\" viewBox=\"0 -960 960 960\">\n",
              "    <path d=\"M120-120v-720h720v720H120Zm60-500h600v-160H180v160Zm220 220h160v-160H400v160Zm0 220h160v-160H400v160ZM180-400h160v-160H180v160Zm440 0h160v-160H620v160ZM180-180h160v-160H180v160Zm440 0h160v-160H620v160Z\"/>\n",
              "  </svg>\n",
              "    </button>\n",
              "\n",
              "  <style>\n",
              "    .colab-df-container {\n",
              "      display:flex;\n",
              "      gap: 12px;\n",
              "    }\n",
              "\n",
              "    .colab-df-convert {\n",
              "      background-color: #E8F0FE;\n",
              "      border: none;\n",
              "      border-radius: 50%;\n",
              "      cursor: pointer;\n",
              "      display: none;\n",
              "      fill: #1967D2;\n",
              "      height: 32px;\n",
              "      padding: 0 0 0 0;\n",
              "      width: 32px;\n",
              "    }\n",
              "\n",
              "    .colab-df-convert:hover {\n",
              "      background-color: #E2EBFA;\n",
              "      box-shadow: 0px 1px 2px rgba(60, 64, 67, 0.3), 0px 1px 3px 1px rgba(60, 64, 67, 0.15);\n",
              "      fill: #174EA6;\n",
              "    }\n",
              "\n",
              "    .colab-df-buttons div {\n",
              "      margin-bottom: 4px;\n",
              "    }\n",
              "\n",
              "    [theme=dark] .colab-df-convert {\n",
              "      background-color: #3B4455;\n",
              "      fill: #D2E3FC;\n",
              "    }\n",
              "\n",
              "    [theme=dark] .colab-df-convert:hover {\n",
              "      background-color: #434B5C;\n",
              "      box-shadow: 0px 1px 3px 1px rgba(0, 0, 0, 0.15);\n",
              "      filter: drop-shadow(0px 1px 2px rgba(0, 0, 0, 0.3));\n",
              "      fill: #FFFFFF;\n",
              "    }\n",
              "  </style>\n",
              "\n",
              "    <script>\n",
              "      const buttonEl =\n",
              "        document.querySelector('#df-4f62bfa0-02db-4f74-81a3-0f709f02c17e button.colab-df-convert');\n",
              "      buttonEl.style.display =\n",
              "        google.colab.kernel.accessAllowed ? 'block' : 'none';\n",
              "\n",
              "      async function convertToInteractive(key) {\n",
              "        const element = document.querySelector('#df-4f62bfa0-02db-4f74-81a3-0f709f02c17e');\n",
              "        const dataTable =\n",
              "          await google.colab.kernel.invokeFunction('convertToInteractive',\n",
              "                                                    [key], {});\n",
              "        if (!dataTable) return;\n",
              "\n",
              "        const docLinkHtml = 'Like what you see? Visit the ' +\n",
              "          '<a target=\"_blank\" href=https://colab.research.google.com/notebooks/data_table.ipynb>data table notebook</a>'\n",
              "          + ' to learn more about interactive tables.';\n",
              "        element.innerHTML = '';\n",
              "        dataTable['output_type'] = 'display_data';\n",
              "        await google.colab.output.renderOutput(dataTable, element);\n",
              "        const docLink = document.createElement('div');\n",
              "        docLink.innerHTML = docLinkHtml;\n",
              "        element.appendChild(docLink);\n",
              "      }\n",
              "    </script>\n",
              "  </div>\n",
              "\n",
              "\n",
              "<div id=\"df-c24f3834-c879-411c-9187-4a8751681120\">\n",
              "  <button class=\"colab-df-quickchart\" onclick=\"quickchart('df-c24f3834-c879-411c-9187-4a8751681120')\"\n",
              "            title=\"Suggest charts.\"\n",
              "            style=\"display:none;\">\n",
              "\n",
              "<svg xmlns=\"http://www.w3.org/2000/svg\" height=\"24px\"viewBox=\"0 0 24 24\"\n",
              "     width=\"24px\">\n",
              "    <g>\n",
              "        <path d=\"M19 3H5c-1.1 0-2 .9-2 2v14c0 1.1.9 2 2 2h14c1.1 0 2-.9 2-2V5c0-1.1-.9-2-2-2zM9 17H7v-7h2v7zm4 0h-2V7h2v10zm4 0h-2v-4h2v4z\"/>\n",
              "    </g>\n",
              "</svg>\n",
              "  </button>\n",
              "\n",
              "<style>\n",
              "  .colab-df-quickchart {\n",
              "      --bg-color: #E8F0FE;\n",
              "      --fill-color: #1967D2;\n",
              "      --hover-bg-color: #E2EBFA;\n",
              "      --hover-fill-color: #174EA6;\n",
              "      --disabled-fill-color: #AAA;\n",
              "      --disabled-bg-color: #DDD;\n",
              "  }\n",
              "\n",
              "  [theme=dark] .colab-df-quickchart {\n",
              "      --bg-color: #3B4455;\n",
              "      --fill-color: #D2E3FC;\n",
              "      --hover-bg-color: #434B5C;\n",
              "      --hover-fill-color: #FFFFFF;\n",
              "      --disabled-bg-color: #3B4455;\n",
              "      --disabled-fill-color: #666;\n",
              "  }\n",
              "\n",
              "  .colab-df-quickchart {\n",
              "    background-color: var(--bg-color);\n",
              "    border: none;\n",
              "    border-radius: 50%;\n",
              "    cursor: pointer;\n",
              "    display: none;\n",
              "    fill: var(--fill-color);\n",
              "    height: 32px;\n",
              "    padding: 0;\n",
              "    width: 32px;\n",
              "  }\n",
              "\n",
              "  .colab-df-quickchart:hover {\n",
              "    background-color: var(--hover-bg-color);\n",
              "    box-shadow: 0 1px 2px rgba(60, 64, 67, 0.3), 0 1px 3px 1px rgba(60, 64, 67, 0.15);\n",
              "    fill: var(--button-hover-fill-color);\n",
              "  }\n",
              "\n",
              "  .colab-df-quickchart-complete:disabled,\n",
              "  .colab-df-quickchart-complete:disabled:hover {\n",
              "    background-color: var(--disabled-bg-color);\n",
              "    fill: var(--disabled-fill-color);\n",
              "    box-shadow: none;\n",
              "  }\n",
              "\n",
              "  .colab-df-spinner {\n",
              "    border: 2px solid var(--fill-color);\n",
              "    border-color: transparent;\n",
              "    border-bottom-color: var(--fill-color);\n",
              "    animation:\n",
              "      spin 1s steps(1) infinite;\n",
              "  }\n",
              "\n",
              "  @keyframes spin {\n",
              "    0% {\n",
              "      border-color: transparent;\n",
              "      border-bottom-color: var(--fill-color);\n",
              "      border-left-color: var(--fill-color);\n",
              "    }\n",
              "    20% {\n",
              "      border-color: transparent;\n",
              "      border-left-color: var(--fill-color);\n",
              "      border-top-color: var(--fill-color);\n",
              "    }\n",
              "    30% {\n",
              "      border-color: transparent;\n",
              "      border-left-color: var(--fill-color);\n",
              "      border-top-color: var(--fill-color);\n",
              "      border-right-color: var(--fill-color);\n",
              "    }\n",
              "    40% {\n",
              "      border-color: transparent;\n",
              "      border-right-color: var(--fill-color);\n",
              "      border-top-color: var(--fill-color);\n",
              "    }\n",
              "    60% {\n",
              "      border-color: transparent;\n",
              "      border-right-color: var(--fill-color);\n",
              "    }\n",
              "    80% {\n",
              "      border-color: transparent;\n",
              "      border-right-color: var(--fill-color);\n",
              "      border-bottom-color: var(--fill-color);\n",
              "    }\n",
              "    90% {\n",
              "      border-color: transparent;\n",
              "      border-bottom-color: var(--fill-color);\n",
              "    }\n",
              "  }\n",
              "</style>\n",
              "\n",
              "  <script>\n",
              "    async function quickchart(key) {\n",
              "      const quickchartButtonEl =\n",
              "        document.querySelector('#' + key + ' button');\n",
              "      quickchartButtonEl.disabled = true;  // To prevent multiple clicks.\n",
              "      quickchartButtonEl.classList.add('colab-df-spinner');\n",
              "      try {\n",
              "        const charts = await google.colab.kernel.invokeFunction(\n",
              "            'suggestCharts', [key], {});\n",
              "      } catch (error) {\n",
              "        console.error('Error during call to suggestCharts:', error);\n",
              "      }\n",
              "      quickchartButtonEl.classList.remove('colab-df-spinner');\n",
              "      quickchartButtonEl.classList.add('colab-df-quickchart-complete');\n",
              "    }\n",
              "    (() => {\n",
              "      let quickchartButtonEl =\n",
              "        document.querySelector('#df-c24f3834-c879-411c-9187-4a8751681120 button');\n",
              "      quickchartButtonEl.style.display =\n",
              "        google.colab.kernel.accessAllowed ? 'block' : 'none';\n",
              "    })();\n",
              "  </script>\n",
              "</div>\n",
              "    </div>\n",
              "  </div>\n"
            ]
          },
          "metadata": {},
          "execution_count": 28
        }
      ]
    },
    {
      "cell_type": "code",
      "source": [
        "tasks_importance_task_crosstab = tasks_importance.groupby(\"O*NET-SOC Code\")[\"Task\"].apply(','.join).reset_index()"
      ],
      "metadata": {
        "id": "wHX1KKs7_uL_"
      },
      "execution_count": 272,
      "outputs": []
    },
    {
      "cell_type": "markdown",
      "source": [
        "Combine by Task and Occupation\n",
        "\n"
      ],
      "metadata": {
        "id": "yF2waHEfiL5a"
      }
    },
    {
      "cell_type": "code",
      "source": [
        "tasks_importance_crosstab = pd.crosstab(tasks_importance[\"O*NET-SOC Code\"], tasks_importance[\"Task ID\"],\n",
        "                                            values=tasks_importance[\"Data Value\"], aggfunc='mean').round(1)"
      ],
      "metadata": {
        "id": "gYPbvMWB0gqH"
      },
      "execution_count": 273,
      "outputs": []
    },
    {
      "cell_type": "code",
      "source": [
        "tasks_importance_crosstab.reset_index(inplace=True)"
      ],
      "metadata": {
        "id": "p8HRXQbr4ML-"
      },
      "execution_count": 274,
      "outputs": []
    },
    {
      "cell_type": "code",
      "source": [
        "tasks_importance1_crosstab = pd.crosstab(tasks_importance_1[\"O*NET-SOC Code\"], tasks_importance_1[\"Task ID\"],\n",
        "                                            values=tasks_importance_1[\"Data Value\"], aggfunc='mean').round(1)"
      ],
      "metadata": {
        "id": "6WBZkca_39y8"
      },
      "execution_count": 275,
      "outputs": []
    },
    {
      "cell_type": "code",
      "source": [
        "tasks_importance1_crosstab.reset_index(inplace=True)"
      ],
      "metadata": {
        "id": "kcF9PqRm4MmB"
      },
      "execution_count": 276,
      "outputs": []
    },
    {
      "cell_type": "code",
      "source": [
        "tasks_importance2_crosstab = pd.crosstab(tasks_importance_2[\"O*NET-SOC Code\"], tasks_importance_2[\"Task ID\"],\n",
        "                                            values=tasks_importance_2[\"Data Value\"], aggfunc='mean').round(1)"
      ],
      "metadata": {
        "id": "XXuTd2-939qW"
      },
      "execution_count": 277,
      "outputs": []
    },
    {
      "cell_type": "code",
      "source": [
        "tasks_importance2_crosstab.reset_index(inplace=True)"
      ],
      "metadata": {
        "id": "kCvu__tl4NHj"
      },
      "execution_count": 278,
      "outputs": []
    },
    {
      "cell_type": "code",
      "source": [
        "tasks_importance3_crosstab = pd.crosstab(tasks_importance_3[\"O*NET-SOC Code\"], tasks_importance_3[\"Task ID\"],\n",
        "                                            values=tasks_importance_3[\"Data Value\"], aggfunc='mean').round(1)"
      ],
      "metadata": {
        "id": "cQ8C3HZY39mM"
      },
      "execution_count": 279,
      "outputs": []
    },
    {
      "cell_type": "code",
      "source": [
        "tasks_importance3_crosstab.reset_index(inplace=True)"
      ],
      "metadata": {
        "id": "YoSV7Px44NlH"
      },
      "execution_count": 280,
      "outputs": []
    },
    {
      "cell_type": "code",
      "source": [
        "tasks_importance4_crosstab = pd.crosstab(tasks_importance_4[\"O*NET-SOC Code\"], tasks_importance_4[\"Task ID\"],\n",
        "                                            values=tasks_importance_4[\"Data Value\"], aggfunc='mean').round(1)"
      ],
      "metadata": {
        "id": "47qj3LGz39hj"
      },
      "execution_count": 281,
      "outputs": []
    },
    {
      "cell_type": "code",
      "source": [
        "tasks_importance4_crosstab.reset_index(inplace=True)"
      ],
      "metadata": {
        "id": "LHu4ICAp4N_g"
      },
      "execution_count": 282,
      "outputs": []
    },
    {
      "cell_type": "code",
      "source": [
        "tasks_importance5_crosstab = pd.crosstab(tasks_importance_5[\"O*NET-SOC Code\"], tasks_importance_5[\"Task ID\"],\n",
        "                                            values=tasks_importance_5[\"Data Value\"], aggfunc='mean').round(1)"
      ],
      "metadata": {
        "id": "h0o99hIr39bR"
      },
      "execution_count": 283,
      "outputs": []
    },
    {
      "cell_type": "code",
      "source": [
        "tasks_importance5_crosstab.reset_index(inplace=True)"
      ],
      "metadata": {
        "id": "_l4ONxNT4Ong"
      },
      "execution_count": 284,
      "outputs": []
    },
    {
      "cell_type": "code",
      "source": [
        "tasks_importance6_crosstab = pd.crosstab(tasks_importance_6[\"O*NET-SOC Code\"], tasks_importance_6[\"Task ID\"],\n",
        "                                            values=tasks_importance_6[\"Data Value\"], aggfunc='mean').round(1)"
      ],
      "metadata": {
        "id": "i6vas6ib39P1"
      },
      "execution_count": 285,
      "outputs": []
    },
    {
      "cell_type": "code",
      "source": [
        "tasks_importance6_crosstab.reset_index(inplace=True)"
      ],
      "metadata": {
        "id": "kzkNfDpi4O67"
      },
      "execution_count": 286,
      "outputs": []
    },
    {
      "cell_type": "code",
      "source": [
        "tasks_importance7_crosstab = pd.crosstab(tasks_importance_7[\"O*NET-SOC Code\"], tasks_importance_7[\"Task ID\"],\n",
        "                                            values=tasks_importance_7[\"Data Value\"], aggfunc='mean').round(1)"
      ],
      "metadata": {
        "id": "BUquWVhi39DQ"
      },
      "execution_count": 287,
      "outputs": []
    },
    {
      "cell_type": "code",
      "source": [
        "tasks_importance7_crosstab.reset_index(inplace=True)"
      ],
      "metadata": {
        "id": "HtGpGPRy4PNq"
      },
      "execution_count": 288,
      "outputs": []
    },
    {
      "cell_type": "code",
      "source": [
        "full_1 = pd.merge(tasks_importance_crosstab, tasks_importance1_crosstab,\n",
        "                  left_on = tasks_importance_crosstab.keys()[0],\n",
        "                  right_on = tasks_importance1_crosstab.keys()[0],\n",
        "                  how = \"inner\", suffixes = [\"_importance\", \"_yearly\"])"
      ],
      "metadata": {
        "id": "w06WEZCeFkt7"
      },
      "execution_count": 252,
      "outputs": []
    },
    {
      "cell_type": "code",
      "source": [
        "full_2 = pd.merge(full_1, tasks_importance2_crosstab,\n",
        "                  left_on = full_1.keys()[0],\n",
        "                  right_on = tasks_importance2_crosstab.keys()[0],\n",
        "                  how = \"inner\")"
      ],
      "metadata": {
        "id": "Ou-5tTl6GAJA"
      },
      "execution_count": 42,
      "outputs": []
    },
    {
      "cell_type": "code",
      "source": [
        "full_3 = pd.merge(full_2, tasks_importance3_crosstab,\n",
        "                  left_on = full_2.keys()[0],\n",
        "                  right_on = tasks_importance3_crosstab.keys()[0],\n",
        "                  how = \"inner\", suffixes = [\"_more_yearly\", \"_more_monthly\"])"
      ],
      "metadata": {
        "id": "0SW7hgg6Gv7N"
      },
      "execution_count": 43,
      "outputs": []
    },
    {
      "cell_type": "code",
      "source": [
        "full_4 = pd.merge(full_3, tasks_importance4_crosstab,\n",
        "                  left_on = full_3.keys()[0],\n",
        "                  right_on = tasks_importance4_crosstab.keys()[0],\n",
        "                  how = \"inner\")"
      ],
      "metadata": {
        "id": "E0Z03Uw2HtLV"
      },
      "execution_count": 44,
      "outputs": []
    },
    {
      "cell_type": "code",
      "source": [
        "full_5 = pd.merge(full_4, tasks_importance5_crosstab,\n",
        "                  left_on = full_4.keys()[0],\n",
        "                  right_on = tasks_importance5_crosstab.keys()[0],\n",
        "                  how = \"inner\", suffixes = [\"_more_weekly\", \"_daily\"])"
      ],
      "metadata": {
        "id": "rjDAOfQgHs7n"
      },
      "execution_count": 45,
      "outputs": []
    },
    {
      "cell_type": "code",
      "source": [
        "full_6 = pd.merge(full_5, tasks_importance6_crosstab,\n",
        "                  left_on = full_5.keys()[0],\n",
        "                  right_on = tasks_importance6_crosstab.keys()[0],\n",
        "                  how = \"inner\")"
      ],
      "metadata": {
        "id": "I8CBCoMfIA7w"
      },
      "execution_count": 46,
      "outputs": []
    },
    {
      "cell_type": "code",
      "source": [
        "full_7 = pd.merge(full_6, tasks_importance7_crosstab,\n",
        "                  left_on = full_6.keys()[0],\n",
        "                  right_on = tasks_importance7_crosstab.keys()[0],\n",
        "                  how = \"inner\", suffixes = [\"_more_daily\", \"_hourly\"])"
      ],
      "metadata": {
        "id": "4qICbYMDIAGQ"
      },
      "execution_count": 47,
      "outputs": []
    },
    {
      "cell_type": "code",
      "source": [
        "tasks.head()"
      ],
      "metadata": {
        "id": "kRiaabddZSDT"
      },
      "execution_count": null,
      "outputs": []
    },
    {
      "cell_type": "code",
      "source": [
        "tasks_grouped = tasks.drop_duplicates([\"O*NET-SOC Code\", \"Title\"])"
      ],
      "metadata": {
        "id": "BXyJVudIMKAd"
      },
      "execution_count": 50,
      "outputs": []
    },
    {
      "cell_type": "code",
      "source": [
        "tasks_grouped.shape"
      ],
      "metadata": {
        "id": "0wMIV4cwdNJR"
      },
      "execution_count": null,
      "outputs": []
    },
    {
      "cell_type": "code",
      "source": [
        "full_dataset = full_7.merge(tasks_grouped[[\"O*NET-SOC Code\",\"Title\"]], left_on=[\"O*NET-SOC Code\"], right_on=[\"O*NET-SOC Code\"], how = \"left\" )"
      ],
      "metadata": {
        "id": "RavVpaYBB7Lk"
      },
      "execution_count": 51,
      "outputs": []
    },
    {
      "cell_type": "code",
      "source": [
        "full_dataset_copy = full_dataset.fillna(0)"
      ],
      "metadata": {
        "id": "MSKx80lovipG"
      },
      "execution_count": 52,
      "outputs": []
    },
    {
      "cell_type": "code",
      "source": [
        "full_dataset_copy.shape"
      ],
      "metadata": {
        "colab": {
          "base_uri": "https://localhost:8080/"
        },
        "id": "-OT8E5R4fGxO",
        "outputId": "9d1cfc9d-769d-46c9-df31-a80866e75cf5"
      },
      "execution_count": 53,
      "outputs": [
        {
          "output_type": "execute_result",
          "data": {
            "text/plain": [
              "(873, 143866)"
            ]
          },
          "metadata": {},
          "execution_count": 53
        }
      ]
    },
    {
      "cell_type": "markdown",
      "source": [
        "Combine level and importance for Abilities and Skills"
      ],
      "metadata": {
        "id": "6bRfvpBex63x"
      }
    },
    {
      "cell_type": "markdown",
      "source": [
        "##Clean up job titles in Occupations Dataset"
      ],
      "metadata": {
        "id": "pxxpVFH68HoL"
      }
    },
    {
      "cell_type": "code",
      "source": [
        "title_ref = tasks[tasks[\"Scale Name\"] == \"Importance\"].groupby(\"O*NET-SOC Code\")[\"Title\"].apply(np.unique)"
      ],
      "metadata": {
        "id": "gmo2pwhRAIml"
      },
      "execution_count": 9,
      "outputs": []
    },
    {
      "cell_type": "code",
      "source": [
        "title_ref_ = pd.DataFrame(title_ref)"
      ],
      "metadata": {
        "id": "yuZfy7NoAUe3"
      },
      "execution_count": 10,
      "outputs": []
    },
    {
      "cell_type": "code",
      "source": [
        "title_ref_.reset_index()"
      ],
      "metadata": {
        "colab": {
          "base_uri": "https://localhost:8080/",
          "height": 423
        },
        "id": "F--PChtfBBgr",
        "outputId": "fd4d1644-a842-409c-8db9-056b08cfbdea"
      },
      "execution_count": 11,
      "outputs": [
        {
          "output_type": "execute_result",
          "data": {
            "text/plain": [
              "    O*NET-SOC Code                                              Title\n",
              "0       11-1011.00                                 [Chief Executives]\n",
              "1       11-1011.03                    [Chief Sustainability Officers]\n",
              "2       11-1021.00                  [General and Operations Managers]\n",
              "3       11-2011.00              [Advertising and Promotions Managers]\n",
              "4       11-2021.00                               [Marketing Managers]\n",
              "..             ...                                                ...\n",
              "868     53-7071.00  [Gas Compressor and Gas Pumping Station Operat...\n",
              "869     53-7072.00          [Pump Operators, Except Wellhead Pumpers]\n",
              "870     53-7073.00                                 [Wellhead Pumpers]\n",
              "871     53-7081.00        [Refuse and Recyclable Material Collectors]\n",
              "872     53-7121.00                [Tank Car, Truck, and Ship Loaders]\n",
              "\n",
              "[873 rows x 2 columns]"
            ],
            "text/html": [
              "\n",
              "  <div id=\"df-40725f33-850e-42d4-8b46-10ad20394298\" class=\"colab-df-container\">\n",
              "    <div>\n",
              "<style scoped>\n",
              "    .dataframe tbody tr th:only-of-type {\n",
              "        vertical-align: middle;\n",
              "    }\n",
              "\n",
              "    .dataframe tbody tr th {\n",
              "        vertical-align: top;\n",
              "    }\n",
              "\n",
              "    .dataframe thead th {\n",
              "        text-align: right;\n",
              "    }\n",
              "</style>\n",
              "<table border=\"1\" class=\"dataframe\">\n",
              "  <thead>\n",
              "    <tr style=\"text-align: right;\">\n",
              "      <th></th>\n",
              "      <th>O*NET-SOC Code</th>\n",
              "      <th>Title</th>\n",
              "    </tr>\n",
              "  </thead>\n",
              "  <tbody>\n",
              "    <tr>\n",
              "      <th>0</th>\n",
              "      <td>11-1011.00</td>\n",
              "      <td>[Chief Executives]</td>\n",
              "    </tr>\n",
              "    <tr>\n",
              "      <th>1</th>\n",
              "      <td>11-1011.03</td>\n",
              "      <td>[Chief Sustainability Officers]</td>\n",
              "    </tr>\n",
              "    <tr>\n",
              "      <th>2</th>\n",
              "      <td>11-1021.00</td>\n",
              "      <td>[General and Operations Managers]</td>\n",
              "    </tr>\n",
              "    <tr>\n",
              "      <th>3</th>\n",
              "      <td>11-2011.00</td>\n",
              "      <td>[Advertising and Promotions Managers]</td>\n",
              "    </tr>\n",
              "    <tr>\n",
              "      <th>4</th>\n",
              "      <td>11-2021.00</td>\n",
              "      <td>[Marketing Managers]</td>\n",
              "    </tr>\n",
              "    <tr>\n",
              "      <th>...</th>\n",
              "      <td>...</td>\n",
              "      <td>...</td>\n",
              "    </tr>\n",
              "    <tr>\n",
              "      <th>868</th>\n",
              "      <td>53-7071.00</td>\n",
              "      <td>[Gas Compressor and Gas Pumping Station Operat...</td>\n",
              "    </tr>\n",
              "    <tr>\n",
              "      <th>869</th>\n",
              "      <td>53-7072.00</td>\n",
              "      <td>[Pump Operators, Except Wellhead Pumpers]</td>\n",
              "    </tr>\n",
              "    <tr>\n",
              "      <th>870</th>\n",
              "      <td>53-7073.00</td>\n",
              "      <td>[Wellhead Pumpers]</td>\n",
              "    </tr>\n",
              "    <tr>\n",
              "      <th>871</th>\n",
              "      <td>53-7081.00</td>\n",
              "      <td>[Refuse and Recyclable Material Collectors]</td>\n",
              "    </tr>\n",
              "    <tr>\n",
              "      <th>872</th>\n",
              "      <td>53-7121.00</td>\n",
              "      <td>[Tank Car, Truck, and Ship Loaders]</td>\n",
              "    </tr>\n",
              "  </tbody>\n",
              "</table>\n",
              "<p>873 rows × 2 columns</p>\n",
              "</div>\n",
              "    <div class=\"colab-df-buttons\">\n",
              "\n",
              "  <div class=\"colab-df-container\">\n",
              "    <button class=\"colab-df-convert\" onclick=\"convertToInteractive('df-40725f33-850e-42d4-8b46-10ad20394298')\"\n",
              "            title=\"Convert this dataframe to an interactive table.\"\n",
              "            style=\"display:none;\">\n",
              "\n",
              "  <svg xmlns=\"http://www.w3.org/2000/svg\" height=\"24px\" viewBox=\"0 -960 960 960\">\n",
              "    <path d=\"M120-120v-720h720v720H120Zm60-500h600v-160H180v160Zm220 220h160v-160H400v160Zm0 220h160v-160H400v160ZM180-400h160v-160H180v160Zm440 0h160v-160H620v160ZM180-180h160v-160H180v160Zm440 0h160v-160H620v160Z\"/>\n",
              "  </svg>\n",
              "    </button>\n",
              "\n",
              "  <style>\n",
              "    .colab-df-container {\n",
              "      display:flex;\n",
              "      gap: 12px;\n",
              "    }\n",
              "\n",
              "    .colab-df-convert {\n",
              "      background-color: #E8F0FE;\n",
              "      border: none;\n",
              "      border-radius: 50%;\n",
              "      cursor: pointer;\n",
              "      display: none;\n",
              "      fill: #1967D2;\n",
              "      height: 32px;\n",
              "      padding: 0 0 0 0;\n",
              "      width: 32px;\n",
              "    }\n",
              "\n",
              "    .colab-df-convert:hover {\n",
              "      background-color: #E2EBFA;\n",
              "      box-shadow: 0px 1px 2px rgba(60, 64, 67, 0.3), 0px 1px 3px 1px rgba(60, 64, 67, 0.15);\n",
              "      fill: #174EA6;\n",
              "    }\n",
              "\n",
              "    .colab-df-buttons div {\n",
              "      margin-bottom: 4px;\n",
              "    }\n",
              "\n",
              "    [theme=dark] .colab-df-convert {\n",
              "      background-color: #3B4455;\n",
              "      fill: #D2E3FC;\n",
              "    }\n",
              "\n",
              "    [theme=dark] .colab-df-convert:hover {\n",
              "      background-color: #434B5C;\n",
              "      box-shadow: 0px 1px 3px 1px rgba(0, 0, 0, 0.15);\n",
              "      filter: drop-shadow(0px 1px 2px rgba(0, 0, 0, 0.3));\n",
              "      fill: #FFFFFF;\n",
              "    }\n",
              "  </style>\n",
              "\n",
              "    <script>\n",
              "      const buttonEl =\n",
              "        document.querySelector('#df-40725f33-850e-42d4-8b46-10ad20394298 button.colab-df-convert');\n",
              "      buttonEl.style.display =\n",
              "        google.colab.kernel.accessAllowed ? 'block' : 'none';\n",
              "\n",
              "      async function convertToInteractive(key) {\n",
              "        const element = document.querySelector('#df-40725f33-850e-42d4-8b46-10ad20394298');\n",
              "        const dataTable =\n",
              "          await google.colab.kernel.invokeFunction('convertToInteractive',\n",
              "                                                    [key], {});\n",
              "        if (!dataTable) return;\n",
              "\n",
              "        const docLinkHtml = 'Like what you see? Visit the ' +\n",
              "          '<a target=\"_blank\" href=https://colab.research.google.com/notebooks/data_table.ipynb>data table notebook</a>'\n",
              "          + ' to learn more about interactive tables.';\n",
              "        element.innerHTML = '';\n",
              "        dataTable['output_type'] = 'display_data';\n",
              "        await google.colab.output.renderOutput(dataTable, element);\n",
              "        const docLink = document.createElement('div');\n",
              "        docLink.innerHTML = docLinkHtml;\n",
              "        element.appendChild(docLink);\n",
              "      }\n",
              "    </script>\n",
              "  </div>\n",
              "\n",
              "\n",
              "<div id=\"df-5f736b4d-bca7-45d1-8364-1d1c9fe45909\">\n",
              "  <button class=\"colab-df-quickchart\" onclick=\"quickchart('df-5f736b4d-bca7-45d1-8364-1d1c9fe45909')\"\n",
              "            title=\"Suggest charts.\"\n",
              "            style=\"display:none;\">\n",
              "\n",
              "<svg xmlns=\"http://www.w3.org/2000/svg\" height=\"24px\"viewBox=\"0 0 24 24\"\n",
              "     width=\"24px\">\n",
              "    <g>\n",
              "        <path d=\"M19 3H5c-1.1 0-2 .9-2 2v14c0 1.1.9 2 2 2h14c1.1 0 2-.9 2-2V5c0-1.1-.9-2-2-2zM9 17H7v-7h2v7zm4 0h-2V7h2v10zm4 0h-2v-4h2v4z\"/>\n",
              "    </g>\n",
              "</svg>\n",
              "  </button>\n",
              "\n",
              "<style>\n",
              "  .colab-df-quickchart {\n",
              "      --bg-color: #E8F0FE;\n",
              "      --fill-color: #1967D2;\n",
              "      --hover-bg-color: #E2EBFA;\n",
              "      --hover-fill-color: #174EA6;\n",
              "      --disabled-fill-color: #AAA;\n",
              "      --disabled-bg-color: #DDD;\n",
              "  }\n",
              "\n",
              "  [theme=dark] .colab-df-quickchart {\n",
              "      --bg-color: #3B4455;\n",
              "      --fill-color: #D2E3FC;\n",
              "      --hover-bg-color: #434B5C;\n",
              "      --hover-fill-color: #FFFFFF;\n",
              "      --disabled-bg-color: #3B4455;\n",
              "      --disabled-fill-color: #666;\n",
              "  }\n",
              "\n",
              "  .colab-df-quickchart {\n",
              "    background-color: var(--bg-color);\n",
              "    border: none;\n",
              "    border-radius: 50%;\n",
              "    cursor: pointer;\n",
              "    display: none;\n",
              "    fill: var(--fill-color);\n",
              "    height: 32px;\n",
              "    padding: 0;\n",
              "    width: 32px;\n",
              "  }\n",
              "\n",
              "  .colab-df-quickchart:hover {\n",
              "    background-color: var(--hover-bg-color);\n",
              "    box-shadow: 0 1px 2px rgba(60, 64, 67, 0.3), 0 1px 3px 1px rgba(60, 64, 67, 0.15);\n",
              "    fill: var(--button-hover-fill-color);\n",
              "  }\n",
              "\n",
              "  .colab-df-quickchart-complete:disabled,\n",
              "  .colab-df-quickchart-complete:disabled:hover {\n",
              "    background-color: var(--disabled-bg-color);\n",
              "    fill: var(--disabled-fill-color);\n",
              "    box-shadow: none;\n",
              "  }\n",
              "\n",
              "  .colab-df-spinner {\n",
              "    border: 2px solid var(--fill-color);\n",
              "    border-color: transparent;\n",
              "    border-bottom-color: var(--fill-color);\n",
              "    animation:\n",
              "      spin 1s steps(1) infinite;\n",
              "  }\n",
              "\n",
              "  @keyframes spin {\n",
              "    0% {\n",
              "      border-color: transparent;\n",
              "      border-bottom-color: var(--fill-color);\n",
              "      border-left-color: var(--fill-color);\n",
              "    }\n",
              "    20% {\n",
              "      border-color: transparent;\n",
              "      border-left-color: var(--fill-color);\n",
              "      border-top-color: var(--fill-color);\n",
              "    }\n",
              "    30% {\n",
              "      border-color: transparent;\n",
              "      border-left-color: var(--fill-color);\n",
              "      border-top-color: var(--fill-color);\n",
              "      border-right-color: var(--fill-color);\n",
              "    }\n",
              "    40% {\n",
              "      border-color: transparent;\n",
              "      border-right-color: var(--fill-color);\n",
              "      border-top-color: var(--fill-color);\n",
              "    }\n",
              "    60% {\n",
              "      border-color: transparent;\n",
              "      border-right-color: var(--fill-color);\n",
              "    }\n",
              "    80% {\n",
              "      border-color: transparent;\n",
              "      border-right-color: var(--fill-color);\n",
              "      border-bottom-color: var(--fill-color);\n",
              "    }\n",
              "    90% {\n",
              "      border-color: transparent;\n",
              "      border-bottom-color: var(--fill-color);\n",
              "    }\n",
              "  }\n",
              "</style>\n",
              "\n",
              "  <script>\n",
              "    async function quickchart(key) {\n",
              "      const quickchartButtonEl =\n",
              "        document.querySelector('#' + key + ' button');\n",
              "      quickchartButtonEl.disabled = true;  // To prevent multiple clicks.\n",
              "      quickchartButtonEl.classList.add('colab-df-spinner');\n",
              "      try {\n",
              "        const charts = await google.colab.kernel.invokeFunction(\n",
              "            'suggestCharts', [key], {});\n",
              "      } catch (error) {\n",
              "        console.error('Error during call to suggestCharts:', error);\n",
              "      }\n",
              "      quickchartButtonEl.classList.remove('colab-df-spinner');\n",
              "      quickchartButtonEl.classList.add('colab-df-quickchart-complete');\n",
              "    }\n",
              "    (() => {\n",
              "      let quickchartButtonEl =\n",
              "        document.querySelector('#df-5f736b4d-bca7-45d1-8364-1d1c9fe45909 button');\n",
              "      quickchartButtonEl.style.display =\n",
              "        google.colab.kernel.accessAllowed ? 'block' : 'none';\n",
              "    })();\n",
              "  </script>\n",
              "</div>\n",
              "    </div>\n",
              "  </div>\n"
            ]
          },
          "metadata": {},
          "execution_count": 11
        }
      ]
    },
    {
      "cell_type": "code",
      "source": [
        "title_ref_[\"Adj_title\"] = title_ref_['Title'].agg(lambda x: ','.join(map(str, x)))"
      ],
      "metadata": {
        "id": "mtYxxkkTBTuB"
      },
      "execution_count": 12,
      "outputs": []
    },
    {
      "cell_type": "code",
      "source": [
        "full_dataset_title = title_ref_[\"Adj_title\"]"
      ],
      "metadata": {
        "id": "vOtPQAJA8HAF"
      },
      "execution_count": 13,
      "outputs": []
    },
    {
      "cell_type": "code",
      "source": [
        "full_dataset_title_ = [re.split(r',|, and', x) for x in full_dataset_title]"
      ],
      "metadata": {
        "id": "J60uHjBvgULl"
      },
      "execution_count": 14,
      "outputs": []
    },
    {
      "cell_type": "code",
      "source": [
        "for x in full_dataset_title_:\n",
        "  for y in range(len(x)):\n",
        "    if x[y][-1] == \"s\":\n",
        "      x[y] = x[y].rstrip(x[y][-1])"
      ],
      "metadata": {
        "id": "DkW3Pe4ds8B1"
      },
      "execution_count": 15,
      "outputs": []
    },
    {
      "cell_type": "code",
      "source": [
        "for x in full_dataset_title_:\n",
        "  for y in range(len(x)):\n",
        "    if x[y][-2:] == \"ie\":\n",
        "      x[y] = re.sub(r'.{2}$',\"y\",x[y])"
      ],
      "metadata": {
        "id": "cDXH1M3uwHQj"
      },
      "execution_count": 16,
      "outputs": []
    },
    {
      "cell_type": "code",
      "source": [
        "for x in full_dataset_title_:\n",
        "  for y in range(len(x)):\n",
        "      x[y] = x[y].replace('s and',\"\")"
      ],
      "metadata": {
        "id": "6tZA9qQX3Qof"
      },
      "execution_count": 17,
      "outputs": []
    },
    {
      "cell_type": "code",
      "source": [
        "for x in full_dataset_title_:\n",
        "  for y in range(len(x)):\n",
        "    if x[y][0:5] == \" and \":\n",
        "      x[y] = re.sub(r'^.{0,5}', \"\", x[y])"
      ],
      "metadata": {
        "id": "0msiQ9aoF9NU"
      },
      "execution_count": 18,
      "outputs": []
    },
    {
      "cell_type": "code",
      "source": [
        "for x in full_dataset_title_:\n",
        "  for y in range(len(x)):\n",
        "    if x[y][0] == \" \":\n",
        "      x[y] = x[y].strip()"
      ],
      "metadata": {
        "id": "Ss1vf4Q_JxPt"
      },
      "execution_count": 19,
      "outputs": []
    },
    {
      "cell_type": "code",
      "source": [
        "exceptions = []\n",
        "for x in full_dataset_title_:\n",
        "  for y in range(len(x)):\n",
        "    if \"except\" in x[y]:\n",
        "      m = y\n",
        "      for y in range(m,len(x)+1):\n",
        "        exceptions.append(x[y])"
      ],
      "metadata": {
        "id": "GaQvvL8EPSEI"
      },
      "execution_count": 20,
      "outputs": []
    },
    {
      "cell_type": "markdown",
      "source": [
        "Split on \",\" and \"and\":\n",
        "\n",
        "Split occupation titles on \", and \" and \", \"\n",
        "Replace \"ie\" at the end of occupations with \"y\"\n",
        "Strip \"s\" at the end of occupations (problems with certain fields like \"gas\" and \"waitresses\")\n",
        "Trim leading spaces\n",
        "Remove all words following \"except\""
      ],
      "metadata": {
        "id": "OSxNM_CD6VgB"
      }
    },
    {
      "cell_type": "code",
      "source": [
        "full_dataset_title_split = pd.DataFrame(full_dataset_title_, columns=['Title1','Title2','Title3',\n",
        "                                            'Title4','Title5','Title6','Title7'])"
      ],
      "metadata": {
        "id": "U680Za8WcEUu"
      },
      "execution_count": 21,
      "outputs": []
    },
    {
      "cell_type": "code",
      "source": [
        "title_ref_.reset_index()"
      ],
      "metadata": {
        "colab": {
          "base_uri": "https://localhost:8080/",
          "height": 423
        },
        "id": "Nitk0D4WB1Q_",
        "outputId": "d0e26613-b1bf-4ff4-a009-f1f55bb3b414"
      },
      "execution_count": 22,
      "outputs": [
        {
          "output_type": "execute_result",
          "data": {
            "text/plain": [
              "    O*NET-SOC Code                                              Title  \\\n",
              "0       11-1011.00                                 [Chief Executives]   \n",
              "1       11-1011.03                    [Chief Sustainability Officers]   \n",
              "2       11-1021.00                  [General and Operations Managers]   \n",
              "3       11-2011.00              [Advertising and Promotions Managers]   \n",
              "4       11-2021.00                               [Marketing Managers]   \n",
              "..             ...                                                ...   \n",
              "868     53-7071.00  [Gas Compressor and Gas Pumping Station Operat...   \n",
              "869     53-7072.00          [Pump Operators, Except Wellhead Pumpers]   \n",
              "870     53-7073.00                                 [Wellhead Pumpers]   \n",
              "871     53-7081.00        [Refuse and Recyclable Material Collectors]   \n",
              "872     53-7121.00                [Tank Car, Truck, and Ship Loaders]   \n",
              "\n",
              "                                            Adj_title  \n",
              "0                                    Chief Executives  \n",
              "1                       Chief Sustainability Officers  \n",
              "2                     General and Operations Managers  \n",
              "3                 Advertising and Promotions Managers  \n",
              "4                                  Marketing Managers  \n",
              "..                                                ...  \n",
              "868  Gas Compressor and Gas Pumping Station Operators  \n",
              "869           Pump Operators, Except Wellhead Pumpers  \n",
              "870                                  Wellhead Pumpers  \n",
              "871         Refuse and Recyclable Material Collectors  \n",
              "872                 Tank Car, Truck, and Ship Loaders  \n",
              "\n",
              "[873 rows x 3 columns]"
            ],
            "text/html": [
              "\n",
              "  <div id=\"df-d4525442-2657-42be-bf13-bfce5946b268\" class=\"colab-df-container\">\n",
              "    <div>\n",
              "<style scoped>\n",
              "    .dataframe tbody tr th:only-of-type {\n",
              "        vertical-align: middle;\n",
              "    }\n",
              "\n",
              "    .dataframe tbody tr th {\n",
              "        vertical-align: top;\n",
              "    }\n",
              "\n",
              "    .dataframe thead th {\n",
              "        text-align: right;\n",
              "    }\n",
              "</style>\n",
              "<table border=\"1\" class=\"dataframe\">\n",
              "  <thead>\n",
              "    <tr style=\"text-align: right;\">\n",
              "      <th></th>\n",
              "      <th>O*NET-SOC Code</th>\n",
              "      <th>Title</th>\n",
              "      <th>Adj_title</th>\n",
              "    </tr>\n",
              "  </thead>\n",
              "  <tbody>\n",
              "    <tr>\n",
              "      <th>0</th>\n",
              "      <td>11-1011.00</td>\n",
              "      <td>[Chief Executives]</td>\n",
              "      <td>Chief Executives</td>\n",
              "    </tr>\n",
              "    <tr>\n",
              "      <th>1</th>\n",
              "      <td>11-1011.03</td>\n",
              "      <td>[Chief Sustainability Officers]</td>\n",
              "      <td>Chief Sustainability Officers</td>\n",
              "    </tr>\n",
              "    <tr>\n",
              "      <th>2</th>\n",
              "      <td>11-1021.00</td>\n",
              "      <td>[General and Operations Managers]</td>\n",
              "      <td>General and Operations Managers</td>\n",
              "    </tr>\n",
              "    <tr>\n",
              "      <th>3</th>\n",
              "      <td>11-2011.00</td>\n",
              "      <td>[Advertising and Promotions Managers]</td>\n",
              "      <td>Advertising and Promotions Managers</td>\n",
              "    </tr>\n",
              "    <tr>\n",
              "      <th>4</th>\n",
              "      <td>11-2021.00</td>\n",
              "      <td>[Marketing Managers]</td>\n",
              "      <td>Marketing Managers</td>\n",
              "    </tr>\n",
              "    <tr>\n",
              "      <th>...</th>\n",
              "      <td>...</td>\n",
              "      <td>...</td>\n",
              "      <td>...</td>\n",
              "    </tr>\n",
              "    <tr>\n",
              "      <th>868</th>\n",
              "      <td>53-7071.00</td>\n",
              "      <td>[Gas Compressor and Gas Pumping Station Operat...</td>\n",
              "      <td>Gas Compressor and Gas Pumping Station Operators</td>\n",
              "    </tr>\n",
              "    <tr>\n",
              "      <th>869</th>\n",
              "      <td>53-7072.00</td>\n",
              "      <td>[Pump Operators, Except Wellhead Pumpers]</td>\n",
              "      <td>Pump Operators, Except Wellhead Pumpers</td>\n",
              "    </tr>\n",
              "    <tr>\n",
              "      <th>870</th>\n",
              "      <td>53-7073.00</td>\n",
              "      <td>[Wellhead Pumpers]</td>\n",
              "      <td>Wellhead Pumpers</td>\n",
              "    </tr>\n",
              "    <tr>\n",
              "      <th>871</th>\n",
              "      <td>53-7081.00</td>\n",
              "      <td>[Refuse and Recyclable Material Collectors]</td>\n",
              "      <td>Refuse and Recyclable Material Collectors</td>\n",
              "    </tr>\n",
              "    <tr>\n",
              "      <th>872</th>\n",
              "      <td>53-7121.00</td>\n",
              "      <td>[Tank Car, Truck, and Ship Loaders]</td>\n",
              "      <td>Tank Car, Truck, and Ship Loaders</td>\n",
              "    </tr>\n",
              "  </tbody>\n",
              "</table>\n",
              "<p>873 rows × 3 columns</p>\n",
              "</div>\n",
              "    <div class=\"colab-df-buttons\">\n",
              "\n",
              "  <div class=\"colab-df-container\">\n",
              "    <button class=\"colab-df-convert\" onclick=\"convertToInteractive('df-d4525442-2657-42be-bf13-bfce5946b268')\"\n",
              "            title=\"Convert this dataframe to an interactive table.\"\n",
              "            style=\"display:none;\">\n",
              "\n",
              "  <svg xmlns=\"http://www.w3.org/2000/svg\" height=\"24px\" viewBox=\"0 -960 960 960\">\n",
              "    <path d=\"M120-120v-720h720v720H120Zm60-500h600v-160H180v160Zm220 220h160v-160H400v160Zm0 220h160v-160H400v160ZM180-400h160v-160H180v160Zm440 0h160v-160H620v160ZM180-180h160v-160H180v160Zm440 0h160v-160H620v160Z\"/>\n",
              "  </svg>\n",
              "    </button>\n",
              "\n",
              "  <style>\n",
              "    .colab-df-container {\n",
              "      display:flex;\n",
              "      gap: 12px;\n",
              "    }\n",
              "\n",
              "    .colab-df-convert {\n",
              "      background-color: #E8F0FE;\n",
              "      border: none;\n",
              "      border-radius: 50%;\n",
              "      cursor: pointer;\n",
              "      display: none;\n",
              "      fill: #1967D2;\n",
              "      height: 32px;\n",
              "      padding: 0 0 0 0;\n",
              "      width: 32px;\n",
              "    }\n",
              "\n",
              "    .colab-df-convert:hover {\n",
              "      background-color: #E2EBFA;\n",
              "      box-shadow: 0px 1px 2px rgba(60, 64, 67, 0.3), 0px 1px 3px 1px rgba(60, 64, 67, 0.15);\n",
              "      fill: #174EA6;\n",
              "    }\n",
              "\n",
              "    .colab-df-buttons div {\n",
              "      margin-bottom: 4px;\n",
              "    }\n",
              "\n",
              "    [theme=dark] .colab-df-convert {\n",
              "      background-color: #3B4455;\n",
              "      fill: #D2E3FC;\n",
              "    }\n",
              "\n",
              "    [theme=dark] .colab-df-convert:hover {\n",
              "      background-color: #434B5C;\n",
              "      box-shadow: 0px 1px 3px 1px rgba(0, 0, 0, 0.15);\n",
              "      filter: drop-shadow(0px 1px 2px rgba(0, 0, 0, 0.3));\n",
              "      fill: #FFFFFF;\n",
              "    }\n",
              "  </style>\n",
              "\n",
              "    <script>\n",
              "      const buttonEl =\n",
              "        document.querySelector('#df-d4525442-2657-42be-bf13-bfce5946b268 button.colab-df-convert');\n",
              "      buttonEl.style.display =\n",
              "        google.colab.kernel.accessAllowed ? 'block' : 'none';\n",
              "\n",
              "      async function convertToInteractive(key) {\n",
              "        const element = document.querySelector('#df-d4525442-2657-42be-bf13-bfce5946b268');\n",
              "        const dataTable =\n",
              "          await google.colab.kernel.invokeFunction('convertToInteractive',\n",
              "                                                    [key], {});\n",
              "        if (!dataTable) return;\n",
              "\n",
              "        const docLinkHtml = 'Like what you see? Visit the ' +\n",
              "          '<a target=\"_blank\" href=https://colab.research.google.com/notebooks/data_table.ipynb>data table notebook</a>'\n",
              "          + ' to learn more about interactive tables.';\n",
              "        element.innerHTML = '';\n",
              "        dataTable['output_type'] = 'display_data';\n",
              "        await google.colab.output.renderOutput(dataTable, element);\n",
              "        const docLink = document.createElement('div');\n",
              "        docLink.innerHTML = docLinkHtml;\n",
              "        element.appendChild(docLink);\n",
              "      }\n",
              "    </script>\n",
              "  </div>\n",
              "\n",
              "\n",
              "<div id=\"df-64df75d5-d05a-4e1d-a1b9-3c02910f0b1b\">\n",
              "  <button class=\"colab-df-quickchart\" onclick=\"quickchart('df-64df75d5-d05a-4e1d-a1b9-3c02910f0b1b')\"\n",
              "            title=\"Suggest charts.\"\n",
              "            style=\"display:none;\">\n",
              "\n",
              "<svg xmlns=\"http://www.w3.org/2000/svg\" height=\"24px\"viewBox=\"0 0 24 24\"\n",
              "     width=\"24px\">\n",
              "    <g>\n",
              "        <path d=\"M19 3H5c-1.1 0-2 .9-2 2v14c0 1.1.9 2 2 2h14c1.1 0 2-.9 2-2V5c0-1.1-.9-2-2-2zM9 17H7v-7h2v7zm4 0h-2V7h2v10zm4 0h-2v-4h2v4z\"/>\n",
              "    </g>\n",
              "</svg>\n",
              "  </button>\n",
              "\n",
              "<style>\n",
              "  .colab-df-quickchart {\n",
              "      --bg-color: #E8F0FE;\n",
              "      --fill-color: #1967D2;\n",
              "      --hover-bg-color: #E2EBFA;\n",
              "      --hover-fill-color: #174EA6;\n",
              "      --disabled-fill-color: #AAA;\n",
              "      --disabled-bg-color: #DDD;\n",
              "  }\n",
              "\n",
              "  [theme=dark] .colab-df-quickchart {\n",
              "      --bg-color: #3B4455;\n",
              "      --fill-color: #D2E3FC;\n",
              "      --hover-bg-color: #434B5C;\n",
              "      --hover-fill-color: #FFFFFF;\n",
              "      --disabled-bg-color: #3B4455;\n",
              "      --disabled-fill-color: #666;\n",
              "  }\n",
              "\n",
              "  .colab-df-quickchart {\n",
              "    background-color: var(--bg-color);\n",
              "    border: none;\n",
              "    border-radius: 50%;\n",
              "    cursor: pointer;\n",
              "    display: none;\n",
              "    fill: var(--fill-color);\n",
              "    height: 32px;\n",
              "    padding: 0;\n",
              "    width: 32px;\n",
              "  }\n",
              "\n",
              "  .colab-df-quickchart:hover {\n",
              "    background-color: var(--hover-bg-color);\n",
              "    box-shadow: 0 1px 2px rgba(60, 64, 67, 0.3), 0 1px 3px 1px rgba(60, 64, 67, 0.15);\n",
              "    fill: var(--button-hover-fill-color);\n",
              "  }\n",
              "\n",
              "  .colab-df-quickchart-complete:disabled,\n",
              "  .colab-df-quickchart-complete:disabled:hover {\n",
              "    background-color: var(--disabled-bg-color);\n",
              "    fill: var(--disabled-fill-color);\n",
              "    box-shadow: none;\n",
              "  }\n",
              "\n",
              "  .colab-df-spinner {\n",
              "    border: 2px solid var(--fill-color);\n",
              "    border-color: transparent;\n",
              "    border-bottom-color: var(--fill-color);\n",
              "    animation:\n",
              "      spin 1s steps(1) infinite;\n",
              "  }\n",
              "\n",
              "  @keyframes spin {\n",
              "    0% {\n",
              "      border-color: transparent;\n",
              "      border-bottom-color: var(--fill-color);\n",
              "      border-left-color: var(--fill-color);\n",
              "    }\n",
              "    20% {\n",
              "      border-color: transparent;\n",
              "      border-left-color: var(--fill-color);\n",
              "      border-top-color: var(--fill-color);\n",
              "    }\n",
              "    30% {\n",
              "      border-color: transparent;\n",
              "      border-left-color: var(--fill-color);\n",
              "      border-top-color: var(--fill-color);\n",
              "      border-right-color: var(--fill-color);\n",
              "    }\n",
              "    40% {\n",
              "      border-color: transparent;\n",
              "      border-right-color: var(--fill-color);\n",
              "      border-top-color: var(--fill-color);\n",
              "    }\n",
              "    60% {\n",
              "      border-color: transparent;\n",
              "      border-right-color: var(--fill-color);\n",
              "    }\n",
              "    80% {\n",
              "      border-color: transparent;\n",
              "      border-right-color: var(--fill-color);\n",
              "      border-bottom-color: var(--fill-color);\n",
              "    }\n",
              "    90% {\n",
              "      border-color: transparent;\n",
              "      border-bottom-color: var(--fill-color);\n",
              "    }\n",
              "  }\n",
              "</style>\n",
              "\n",
              "  <script>\n",
              "    async function quickchart(key) {\n",
              "      const quickchartButtonEl =\n",
              "        document.querySelector('#' + key + ' button');\n",
              "      quickchartButtonEl.disabled = true;  // To prevent multiple clicks.\n",
              "      quickchartButtonEl.classList.add('colab-df-spinner');\n",
              "      try {\n",
              "        const charts = await google.colab.kernel.invokeFunction(\n",
              "            'suggestCharts', [key], {});\n",
              "      } catch (error) {\n",
              "        console.error('Error during call to suggestCharts:', error);\n",
              "      }\n",
              "      quickchartButtonEl.classList.remove('colab-df-spinner');\n",
              "      quickchartButtonEl.classList.add('colab-df-quickchart-complete');\n",
              "    }\n",
              "    (() => {\n",
              "      let quickchartButtonEl =\n",
              "        document.querySelector('#df-64df75d5-d05a-4e1d-a1b9-3c02910f0b1b button');\n",
              "      quickchartButtonEl.style.display =\n",
              "        google.colab.kernel.accessAllowed ? 'block' : 'none';\n",
              "    })();\n",
              "  </script>\n",
              "</div>\n",
              "    </div>\n",
              "  </div>\n"
            ]
          },
          "metadata": {},
          "execution_count": 22
        }
      ]
    },
    {
      "cell_type": "code",
      "source": [
        "full_dataset_combined = full_dataset_title_split.merge(title_ref_.reset_index()[[\"Adj_title\", \"O*NET-SOC Code\"]],\n",
        "                                                          left_index = True, right_index = True, how=\"inner\")"
      ],
      "metadata": {
        "id": "DC1wOGRIhgsA"
      },
      "execution_count": 23,
      "outputs": []
    },
    {
      "cell_type": "code",
      "source": [
        "full_dataset_combined.isna().sum()"
      ],
      "metadata": {
        "colab": {
          "base_uri": "https://localhost:8080/"
        },
        "id": "0fLDeoPTniS5",
        "outputId": "4cd2abd7-2ce2-4acf-b62d-dd1d24a029aa"
      },
      "execution_count": 34,
      "outputs": [
        {
          "output_type": "execute_result",
          "data": {
            "text/plain": [
              "Title1              0\n",
              "Title2            639\n",
              "Title3            760\n",
              "Title4            824\n",
              "Title5            860\n",
              "Title6            868\n",
              "Title7            871\n",
              "Adj_title           0\n",
              "O*NET-SOC Code      0\n",
              "dtype: int64"
            ]
          },
          "metadata": {},
          "execution_count": 34
        }
      ]
    },
    {
      "cell_type": "markdown",
      "source": [
        "##Analyzing our dataset\n",
        "Matching titles across datasets"
      ],
      "metadata": {
        "id": "89EwEq5_DTVA"
      }
    },
    {
      "cell_type": "markdown",
      "source": [
        "Trying Fuzzy Match"
      ],
      "metadata": {
        "id": "VFQjAVEETmU6"
      }
    },
    {
      "cell_type": "code",
      "source": [
        "full_dataset_combined[\"Match_Column\"] = full_dataset_combined[\"Adj_title\"]"
      ],
      "metadata": {
        "id": "GXk8lAZbHliF"
      },
      "execution_count": 24,
      "outputs": []
    },
    {
      "cell_type": "code",
      "source": [
        "full_dataset_combined.rename(columns={\"Adj_title\":\"Title\"},inplace=True)"
      ],
      "metadata": {
        "id": "la8ZxzcMCKbk"
      },
      "execution_count": 25,
      "outputs": []
    },
    {
      "cell_type": "code",
      "source": [
        "full_dataset_combined.columns"
      ],
      "metadata": {
        "colab": {
          "base_uri": "https://localhost:8080/"
        },
        "id": "KjOcK6VeHpWg",
        "outputId": "0cebf7d4-a234-436c-a87a-a986c8369637"
      },
      "execution_count": 26,
      "outputs": [
        {
          "output_type": "execute_result",
          "data": {
            "text/plain": [
              "Index(['Title1', 'Title2', 'Title3', 'Title4', 'Title5', 'Title6', 'Title7',\n",
              "       'Title', 'O*NET-SOC Code', 'Match_Column'],\n",
              "      dtype='object')"
            ]
          },
          "metadata": {},
          "execution_count": 26
        }
      ]
    },
    {
      "cell_type": "code",
      "source": [
        "#full_dataset_occupations_copy_titles.drop(columns = [\"Unnamed: 0\"], inplace=True)"
      ],
      "metadata": {
        "id": "k6GgcqjbSeB5"
      },
      "execution_count": null,
      "outputs": []
    },
    {
      "cell_type": "code",
      "source": [
        "ai_risk.columns"
      ],
      "metadata": {
        "colab": {
          "base_uri": "https://localhost:8080/"
        },
        "id": "G3MZsc6GL1sq",
        "outputId": "6bb9dc8c-fb34-4317-cc35-7dd70a7d4240"
      },
      "execution_count": 29,
      "outputs": [
        {
          "output_type": "execute_result",
          "data": {
            "text/plain": [
              "Index(['Job titiles', 'AI Impact', 'Tasks', 'AI models', 'AI_Workload_Ratio',\n",
              "       'Domain'],\n",
              "      dtype='object')"
            ]
          },
          "metadata": {},
          "execution_count": 29
        }
      ]
    },
    {
      "cell_type": "code",
      "source": [
        "ai_risk.rename(columns = {\n",
        "    \"Job titiles\" : \"Job_title\"\n",
        "}, inplace = True)"
      ],
      "metadata": {
        "id": "MzivAqJPja8_"
      },
      "execution_count": 27,
      "outputs": []
    },
    {
      "cell_type": "code",
      "source": [
        "full_dataset_combined[\"Match_Column\"]= full_dataset_combined[\"Title\"].apply(lambda x: difflib.get_close_matches(x, ai_risk[\"Job_title\"]))\n"
      ],
      "metadata": {
        "id": "cqYew4-FmLLi"
      },
      "execution_count": 28,
      "outputs": []
    },
    {
      "cell_type": "code",
      "source": [
        "full_dataset_combined[\"Match_Column_unpacked\"] = full_dataset_combined[\"Match_Column\"].apply(\"|\".join)"
      ],
      "metadata": {
        "id": "SPjH7-lIOfgA"
      },
      "execution_count": 29,
      "outputs": []
    },
    {
      "cell_type": "code",
      "source": [
        "full_dataset_combined[\"Match_Ratio\"] = full_dataset_combined.apply(lambda x: fuzz.ratio(x.Match_Column_unpacked, x.Title), axis=1)"
      ],
      "metadata": {
        "id": "XEj9_VCbI-Vm"
      },
      "execution_count": 30,
      "outputs": []
    },
    {
      "cell_type": "code",
      "source": [
        "full_dataset_combined[\"Match_Ratio_tokens\"]= full_dataset_combined.apply(lambda x: fuzz.token_sort_ratio(x.Match_Column_unpacked, x.Title), axis=1)"
      ],
      "metadata": {
        "id": "JP-J3XTyeGcf"
      },
      "execution_count": 31,
      "outputs": []
    },
    {
      "cell_type": "code",
      "source": [
        "full_dataset_combined[\"Match_Column_1\"]= full_dataset_combined[\"Title1\"].apply(lambda x: difflib.get_close_matches(x, ai_risk[\"Job_title\"])[0] if len(difflib.get_close_matches(x, ai_risk[\"Job_title\"])) != 0 else difflib.get_close_matches(x, ai_risk[\"Job_title\"]))\n"
      ],
      "metadata": {
        "id": "DLaAGj18PQOo"
      },
      "execution_count": 32,
      "outputs": []
    },
    {
      "cell_type": "code",
      "source": [
        "full_dataset_combined[\"Match_Ratio_1\"] = full_dataset_combined.apply(lambda x: fuzz.ratio(x.Match_Column_1, x.Title1), axis=1)"
      ],
      "metadata": {
        "id": "oHp80ez7S8nR"
      },
      "execution_count": 33,
      "outputs": []
    },
    {
      "cell_type": "code",
      "source": [
        "full_dataset_combined[\"Match_Ratio_1_tokens\"]= full_dataset_combined.apply(lambda x: fuzz.token_sort_ratio(x.Match_Column_1, x.Title1), axis=1)"
      ],
      "metadata": {
        "id": "PI-W255_U0aI"
      },
      "execution_count": 34,
      "outputs": []
    },
    {
      "cell_type": "code",
      "source": [
        "full_dataset_combined[\"Match_Ratio_1b_tokens\"]= full_dataset_combined.apply(lambda x: fuzz.token_sort_ratio(x.Match_Column_1, x.Title), axis=1)"
      ],
      "metadata": {
        "id": "ek3FBqRge03s"
      },
      "execution_count": 35,
      "outputs": []
    },
    {
      "cell_type": "code",
      "source": [
        "full_dataset_combined[\"Match_Ratio_1_tokens\"].value_counts(ascending= False).head()"
      ],
      "metadata": {
        "colab": {
          "base_uri": "https://localhost:8080/"
        },
        "id": "xE2tm_eXUETO",
        "outputId": "c3c59740-ab05-49ab-b7a6-03038665f2cb"
      },
      "execution_count": 36,
      "outputs": [
        {
          "output_type": "execute_result",
          "data": {
            "text/plain": [
              "100    303\n",
              "0      116\n",
              "67      31\n",
              "70      21\n",
              "76      17\n",
              "Name: Match_Ratio_1_tokens, dtype: int64"
            ]
          },
          "metadata": {},
          "execution_count": 36
        }
      ]
    },
    {
      "cell_type": "code",
      "source": [
        "x = full_dataset_combined[[\"Match_Ratio\", \"Match_Ratio_tokens\", \"Match_Ratio_1\",\"Match_Ratio_1_tokens\",\"Match_Ratio_1b_tokens\"]]\n",
        "plt.figure(figsize=(15,10))\n",
        "plt.hist(x, density=True, histtype='bar')\n",
        "plt.title('Match Ratios - Occupation Titles')\n",
        "plt.legend([\"Full Title - Match\", \"Full Title (Tokenized) - Match\",\"Partial Title - Match\", \"Partial Title (Tokenized) - Match\", \"Partial Title (Tokenized) - Matched to Full Title\"], loc =\"upper right\", fontsize = '10');"
      ],
      "metadata": {
        "colab": {
          "base_uri": "https://localhost:8080/",
          "height": 829
        },
        "id": "UsDtTfO7bavQ",
        "outputId": "a3a85751-2080-429b-eac5-cb117433e057"
      },
      "execution_count": 49,
      "outputs": [
        {
          "output_type": "display_data",
          "data": {
            "text/plain": [
              "<Figure size 1500x1000 with 1 Axes>"
            ],
            "image/png": "[encoded data removed]"
          },
          "metadata": {}
        }
      ]
    },
    {
      "cell_type": "code",
      "source": [
        "mean_similarity_tokens = np.mean(full_dataset_combined[\"Match_Ratio_1_tokens\"])\n",
        "mean_similarity_tokens"
      ],
      "metadata": {
        "colab": {
          "base_uri": "https://localhost:8080/"
        },
        "id": "eR42rsj7c5br",
        "outputId": "e6689c5c-ea47-4865-d853-e38202e2d4b9"
      },
      "execution_count": 58,
      "outputs": [
        {
          "output_type": "execute_result",
          "data": {
            "text/plain": [
              "71.29209621993127"
            ]
          },
          "metadata": {},
          "execution_count": 58
        }
      ]
    },
    {
      "cell_type": "code",
      "source": [
        "mean_similarity_ = np.mean(full_dataset_combined[\"Match_Ratio_1\"])\n",
        "mean_similarity_"
      ],
      "metadata": {
        "colab": {
          "base_uri": "https://localhost:8080/"
        },
        "id": "N-w9Nr7eC5k0",
        "outputId": "5666f785-f0a8-4ea9-d089-6045b0a7f88d"
      },
      "execution_count": 59,
      "outputs": [
        {
          "output_type": "execute_result",
          "data": {
            "text/plain": [
              "73.07331042382589"
            ]
          },
          "metadata": {},
          "execution_count": 59
        }
      ]
    },
    {
      "cell_type": "markdown",
      "source": [
        "## Feeding in the Target Values"
      ],
      "metadata": {
        "id": "Hb9u_9JuobO8"
      }
    },
    {
      "cell_type": "code",
      "source": [
        "def partial_match(x):\n",
        "    return ai_risk.loc[(ai_risk['Job_title'] == x), 'AI Impact'].iloc[0]"
      ],
      "metadata": {
        "id": "Ym7UuI_TpMuI"
      },
      "execution_count": 37,
      "outputs": []
    },
    {
      "cell_type": "code",
      "source": [
        "def partial_match_(x):\n",
        "    return ai_risk.loc[(ai_risk['Job_title'] == x), 'Job_title'].iloc[0]"
      ],
      "metadata": {
        "id": "Dzp5J-DLCYBJ"
      },
      "execution_count": 38,
      "outputs": []
    },
    {
      "cell_type": "code",
      "source": [
        "full_dataset_combined[\"Match_Column_1\"] = full_dataset_combined[\"Match_Column_1\"].apply(lambda y: \"\" if y==[] else y)"
      ],
      "metadata": {
        "id": "ByHwQTtWb07t"
      },
      "execution_count": 39,
      "outputs": []
    },
    {
      "cell_type": "code",
      "source": [
        "full_dataset_combined_ = pd.merge(left=full_dataset_combined, right=ai_risk,\n",
        "                                  left_on=\"Match_Column_1\", right_on = \"Job_title\", how=\"left\")"
      ],
      "metadata": {
        "id": "47rI56hAa4N3"
      },
      "execution_count": 40,
      "outputs": []
    },
    {
      "cell_type": "code",
      "source": [
        "full_dataset_combined_.dropna(subset = [\"AI Impact\"], inplace=True)"
      ],
      "metadata": {
        "id": "yQP4Wk0Ib4KD"
      },
      "execution_count": 41,
      "outputs": []
    },
    {
      "cell_type": "code",
      "source": [
        "full_dataset_combined_.rename(columns = {\n",
        "    \"AI Impact\" : \"aiimpact\"\n",
        "}, inplace = True)"
      ],
      "metadata": {
        "id": "haC3LD1ZUIrF"
      },
      "execution_count": 42,
      "outputs": []
    },
    {
      "cell_type": "code",
      "source": [
        "full_dataset_combined_[\"aiimpact\"].str.rstrip('%').astype(float)"
      ],
      "metadata": {
        "colab": {
          "base_uri": "https://localhost:8080/"
        },
        "id": "6dJh5GcYcjSo",
        "outputId": "83be08d9-295b-41d8-d1f3-077f3b0dc382"
      },
      "execution_count": 43,
      "outputs": [
        {
          "output_type": "execute_result",
          "data": {
            "text/plain": [
              "0      10.0\n",
              "1      90.0\n",
              "2      24.0\n",
              "3      75.0\n",
              "4      45.0\n",
              "       ... \n",
              "865    30.0\n",
              "866    50.0\n",
              "867    80.0\n",
              "869    17.0\n",
              "872    35.0\n",
              "Name: aiimpact, Length: 757, dtype: float64"
            ]
          },
          "metadata": {},
          "execution_count": 43
        }
      ]
    },
    {
      "cell_type": "code",
      "source": [
        "conditions = [\n",
        "    (full_dataset_combined_[\"aiimpact\"].str.rstrip('%').astype(float) >= 75),\n",
        "    (full_dataset_combined_[\"aiimpact\"].str.rstrip('%').astype(float) <= 25),\n",
        "]\n",
        "\n",
        "choices = [\"high\", \"low\"]"
      ],
      "metadata": {
        "id": "_ESrFfY3M653"
      },
      "execution_count": 44,
      "outputs": []
    },
    {
      "cell_type": "code",
      "source": [
        "full_dataset_combined_[\"rank\"] = np.select(conditions, choices, \"med\")\n"
      ],
      "metadata": {
        "id": "vbxLGiJaH78J"
      },
      "execution_count": 45,
      "outputs": []
    },
    {
      "cell_type": "code",
      "source": [
        "full_dataset_combined_[\"rank\"] = full_dataset_combined_[\"rank\"].astype('category')"
      ],
      "metadata": {
        "id": "SMvJ8gOrR5iH"
      },
      "execution_count": 46,
      "outputs": []
    },
    {
      "cell_type": "code",
      "source": [
        "full_dataset_combined_[\"rank_new\"] = full_dataset_combined_[\"rank\"].cat.codes"
      ],
      "metadata": {
        "id": "3pOQ9WL4LszX"
      },
      "execution_count": 47,
      "outputs": []
    },
    {
      "cell_type": "code",
      "source": [
        "full_dataset_combined_.to_pickle(\"./title_match.pkl\")"
      ],
      "metadata": {
        "id": "96ZotphfYOde"
      },
      "execution_count": 50,
      "outputs": []
    },
    {
      "cell_type": "markdown",
      "source": [
        "Experimenting with including Job Titles"
      ],
      "metadata": {
        "id": "olyb6IqJA9ep"
      }
    },
    {
      "cell_type": "code",
      "source": [
        "stops = nltk.corpus.stopwords.words('english')\n",
        "#new_stop_words = [\"\"]\n",
        "#stops.extend(new_stop_words)"
      ],
      "metadata": {
        "id": "mWVlTGBfdd1m"
      },
      "execution_count": 210,
      "outputs": []
    },
    {
      "cell_type": "code",
      "source": [
        "def text_process(text):\n",
        "  w_tokenizer = nltk.tokenize.WhitespaceTokenizer()\n",
        "  lemmatizer = WordNetLemmatizer()\n",
        "\n",
        "  words = [x.lower() for x in text.split() if (x not in stops) and (len(x)>1)]\n",
        "  sentence = \" \".join(words)\n",
        "  splits = [lemmatizer.lemmatize(w) for w in w_tokenizer.tokenize(sentence)]\n",
        "  list_of_sentences = \" \".join(splits)\n",
        "\n",
        "  return list_of_sentences"
      ],
      "metadata": {
        "id": "XV2suLaVcTrJ"
      },
      "execution_count": 87,
      "outputs": []
    },
    {
      "cell_type": "code",
      "source": [
        "df_lemm_task = full_dataset_combined_analysis[\"Task\"].apply(text_process)\n",
        "df_lemm_title = full_dataset_combined_analysis[\"Title\"].apply(text_process)"
      ],
      "metadata": {
        "id": "TjAlmXlwyEu8"
      },
      "execution_count": null,
      "outputs": []
    },
    {
      "cell_type": "markdown",
      "source": [
        "Because the tasks are mutually exclusive by Occupation, it's difficult to use them as a predictor.\n",
        "\n",
        "What about, if we use the words in the tasks to indicate AI risk?"
      ],
      "metadata": {
        "id": "lFiK2p_K4b4r"
      }
    },
    {
      "cell_type": "code",
      "source": [
        "tasks_for_model = pd.DataFrame(df_lemm)"
      ],
      "metadata": {
        "id": "WZmKiV6HgRKp"
      },
      "execution_count": 157,
      "outputs": []
    },
    {
      "cell_type": "code",
      "source": [
        "titles_for_model = pd.DataFrame(df_lemm_title)"
      ],
      "metadata": {
        "id": "wPndmBflvlgn"
      },
      "execution_count": 211,
      "outputs": []
    },
    {
      "cell_type": "code",
      "source": [
        "cvec = CountVectorizer(ngram_range=(3, 3), stop_words=stops)\n",
        "cvec.fit(df_lemm)\n",
        "cvec_transform = cvec.transform(df_lemm)\n",
        "tasks_lemmed = pd.DataFrame(cvec_transform.todense(), columns=cvec.get_feature_names_out())"
      ],
      "metadata": {
        "id": "ncpujOFaX-qo"
      },
      "execution_count": 196,
      "outputs": []
    },
    {
      "cell_type": "code",
      "source": [
        "cvec = CountVectorizer(ngram_range=(3, 3), stop_words=stops)\n",
        "cvec.fit(df_lemm_title)\n",
        "cvec_transformed = cvec.transform(df_lemm_title)\n",
        "titles_lemmed = pd.DataFrame(cvec_transformed.todense(), columns=cvec.get_feature_names_out())"
      ],
      "metadata": {
        "id": "q_4TA_CZvp_J"
      },
      "execution_count": 212,
      "outputs": []
    },
    {
      "cell_type": "code",
      "source": [
        "y_lemm = pd.DataFrame(ytask[\"rank\"])\n",
        "y_lemm = y_lemm.reset_index(drop=True)"
      ],
      "metadata": {
        "id": "7HN22u5fbfFH"
      },
      "execution_count": 197,
      "outputs": []
    },
    {
      "cell_type": "code",
      "source": [
        "tasks_lemmed_ = pd.merge(tasks_lemmed, y_lemm, left_index=True, right_index=True)\n"
      ],
      "metadata": {
        "id": "AWmMp5ajZh2W"
      },
      "execution_count": 198,
      "outputs": []
    },
    {
      "cell_type": "code",
      "source": [
        "titles_lemmed_ = pd.merge(titles_lemmed, y_lemm, left_index=True, right_index=True)"
      ],
      "metadata": {
        "id": "bxdkUo0lv6fK"
      },
      "execution_count": 213,
      "outputs": []
    },
    {
      "cell_type": "code",
      "source": [
        "filtered = full_dataset_combined_analysis[full_dataset_combined_analysis['Task'].str.contains(\"using hand tool\")]\n",
        "filtered.groupby(\"aiimpact\")[\"Title\"].apply(np.unique)"
      ],
      "metadata": {
        "colab": {
          "base_uri": "https://localhost:8080/"
        },
        "id": "DyW0CR6IgLYn",
        "outputId": "dc6b6290-2017-4997-ff07-d86145505299"
      },
      "execution_count": 206,
      "outputs": [
        {
          "output_type": "execute_result",
          "data": {
            "text/plain": [
              "aiimpact\n",
              "10%    [Actors, Cement Masons and Concrete Finishers,...\n",
              "15%    [Biomass Power Plant Managers, Electrical and ...\n",
              "17%    [Pump Operators, Except Wellhead Pumpers, Rous...\n",
              "18%    [Farm Equipment Mechanics and Service Technici...\n",
              "20%    [Aerospace Engineering and Operations Technolo...\n",
              "25%    [Aircraft Structure, Surfaces, Rigging, and Sy...\n",
              "30%    [Automotive Glass Installers and Repairers, Ca...\n",
              "35%    [Aircraft Mechanics and Service Technicians, C...\n",
              "37%                          [Mechanical Door Repairers]\n",
              "40%    [Craft Artists, Mobile Heavy Equipment Mechani...\n",
              "45%    [Broadcast Technicians, Heating, Air Condition...\n",
              "48%        [Motorboat Mechanics and Service Technicians]\n",
              "5%     [Coating, Painting, and Spraying Machine Sette...\n",
              "50%    [Computer, Automated Teller, and Office Machin...\n",
              "55%         [Avionics Technicians, Robotics Technicians]\n",
              "60%    [Cutting, Punching, and Press Machine Setters,...\n",
              "65%    [Electromechanical Equipment Assemblers, Power...\n",
              "80%                           [Printing Press Operators]\n",
              "92%                           [Home Appliance Repairers]\n",
              "Name: Title, dtype: object"
            ]
          },
          "metadata": {},
          "execution_count": 206
        }
      ]
    },
    {
      "cell_type": "code",
      "source": [
        "fig, axes = plt.subplots(3, 1, figsize=(8, 10), tight_layout=True)\n",
        "\n",
        "(tasks_lemmed_[tasks_lemmed_['rank'] == \"high\"]\n",
        "    .drop(columns=['rank'])\n",
        "    .sum()\n",
        "    .sort_values(ascending=False)\n",
        "    .head(30)\n",
        "    .plot(kind='barh', title='Top Trigrams for Tasks - High AI Impact', color='#78909c', fontsize=8, ax=axes[0])).invert_yaxis();\n",
        "\n",
        "\n",
        "(tasks_lemmed_[tasks_lemmed_['rank'] == \"med\"]\n",
        "    .drop(columns=['rank'])\n",
        "    .sum()\n",
        "    .sort_values(ascending=False)\n",
        "    .head(30)\n",
        "    .plot(kind='barh', title='Top Trigrams for Tasks - Medium AI Impact', color='#4dd0e1', fontsize=8, ax=axes[1])).invert_yaxis();\n",
        "\n",
        "\n",
        "(tasks_lemmed_[tasks_lemmed_['rank'] == \"low\"]\n",
        "    .drop(columns=['rank'])\n",
        "    .sum()\n",
        "    .sort_values(ascending=False)\n",
        "    .head(30)\n",
        "    .plot(kind='barh', title='Top Trigrams for Tasks - Low AI Impact', color='#0c71e0', fontsize=8, ax=axes[2])).invert_yaxis();\n",
        "\n",
        "\n",
        "fig.suptitle('Tweet Analysis - Trigrams', fontsize=16);"
      ],
      "metadata": {
        "colab": {
          "base_uri": "https://localhost:8080/",
          "height": 1000
        },
        "id": "6TzlqO_rZQBF",
        "outputId": "85479527-0ae9-4bb0-f512-08c027967cc1"
      },
      "execution_count": 201,
      "outputs": [
        {
          "output_type": "display_data",
          "data": {
            "text/plain": [
              "<Figure size 800x1000 with 3 Axes>"
            ],
            "image/png": "[encoded data removed]"
          },
          "metadata": {}
        }
      ]
    },
    {
      "cell_type": "code",
      "source": [
        "fig, axes = plt.subplots(3, 1, figsize=(8, 10), tight_layout=True)\n",
        "\n",
        "(titles_lemmed_[titles_lemmed_['rank'] == \"high\"]\n",
        "    .drop(columns=['rank'])\n",
        "    .sum()\n",
        "    .sort_values(ascending=False)\n",
        "    .head(30)\n",
        "    .plot(kind='barh', title='Top Trigrams for Titles - High AI Impact', color='#78909c', fontsize=8, ax=axes[0])).invert_yaxis();\n",
        "\n",
        "\n",
        "(titles_lemmed_[titles_lemmed_['rank'] == \"med\"]\n",
        "    .drop(columns=['rank'])\n",
        "    .sum()\n",
        "    .sort_values(ascending=False)\n",
        "    .head(30)\n",
        "    .plot(kind='barh', title='Top Trigrams for Titles - Medium AI Impact', color='#4dd0e1', fontsize=8, ax=axes[1])).invert_yaxis();\n",
        "\n",
        "\n",
        "(titles_lemmed_[titles_lemmed_['rank'] == \"low\"]\n",
        "    .drop(columns=['rank'])\n",
        "    .sum()\n",
        "    .sort_values(ascending=False)\n",
        "    .head(30)\n",
        "    .plot(kind='barh', title='Top Trigrams for Titles - Low AI Impact', color='#0c71e0', fontsize=8, ax=axes[2])).invert_yaxis();\n",
        "\n",
        "\n",
        "fig.suptitle('Title Analysis - Trigrams', fontsize=16);"
      ],
      "metadata": {
        "colab": {
          "base_uri": "https://localhost:8080/",
          "height": 1000
        },
        "id": "hXxJwXYYwGVP",
        "outputId": "5fcc68a5-6090-4ded-e5c3-d03205b230c8"
      },
      "execution_count": 214,
      "outputs": [
        {
          "output_type": "display_data",
          "data": {
            "text/plain": [
              "<Figure size 800x1000 with 3 Axes>"
            ],
            "image/png": "[encoded data removed]"
          },
          "metadata": {}
        }
      ]
    },
    {
      "cell_type": "code",
      "source": [
        "basic_lookup_in_occupations_index = full_dataset_combined_analysis[full_dataset_combined_analysis[\"Title\"].str.contains(\"Adhesive Bonding Machine\")]\n",
        "basic_lookup_in_occupations_index\n"
      ],
      "metadata": {
        "colab": {
          "base_uri": "https://localhost:8080/",
          "height": 269
        },
        "id": "EmQicf4GioFb",
        "outputId": "48a75254-df09-4af2-ef82-3b69c38f6672"
      },
      "execution_count": 235,
      "outputs": [
        {
          "output_type": "execute_result",
          "data": {
            "text/plain": [
              "    O*NET-SOC Code                                               Task  \\\n",
              "815     51-9191.00  Align and position materials being joined to e...   \n",
              "\n",
              "                                       Title1 Title2 Title3 Title4 Title5  \\\n",
              "815  Adhesive Bonding Machine Operator Tender   None   None   None   None   \n",
              "\n",
              "    Title6 Title7                                           Title  ...  \\\n",
              "815   None   None  Adhesive Bonding Machine Operators and Tenders  ...   \n",
              "\n",
              "              Match_Column_1 Match_Ratio_1  Match_Ratio_1_tokens  \\\n",
              "815  Sewing Machine Operator            67                    60   \n",
              "\n",
              "     Match_Ratio_1b_tokens                Job_title  aiimpact  Tasks  \\\n",
              "815                     55  Sewing Machine Operator       25%  210.0   \n",
              "\n",
              "     AI models AI_Workload_Ratio                 Domain  \n",
              "815      758.0          0.277045  Leadership & Strategy  \n",
              "\n",
              "[1 rows x 24 columns]"
            ],
            "text/html": [
              "\n",
              "  <div id=\"df-c2fff7b8-355c-4e84-9345-0747c5fd2ed8\" class=\"colab-df-container\">\n",
              "    <div>\n",
              "<style scoped>\n",
              "    .dataframe tbody tr th:only-of-type {\n",
              "        vertical-align: middle;\n",
              "    }\n",
              "\n",
              "    .dataframe tbody tr th {\n",
              "        vertical-align: top;\n",
              "    }\n",
              "\n",
              "    .dataframe thead th {\n",
              "        text-align: right;\n",
              "    }\n",
              "</style>\n",
              "<table border=\"1\" class=\"dataframe\">\n",
              "  <thead>\n",
              "    <tr style=\"text-align: right;\">\n",
              "      <th></th>\n",
              "      <th>O*NET-SOC Code</th>\n",
              "      <th>Task</th>\n",
              "      <th>Title1</th>\n",
              "      <th>Title2</th>\n",
              "      <th>Title3</th>\n",
              "      <th>Title4</th>\n",
              "      <th>Title5</th>\n",
              "      <th>Title6</th>\n",
              "      <th>Title7</th>\n",
              "      <th>Title</th>\n",
              "      <th>...</th>\n",
              "      <th>Match_Column_1</th>\n",
              "      <th>Match_Ratio_1</th>\n",
              "      <th>Match_Ratio_1_tokens</th>\n",
              "      <th>Match_Ratio_1b_tokens</th>\n",
              "      <th>Job_title</th>\n",
              "      <th>aiimpact</th>\n",
              "      <th>Tasks</th>\n",
              "      <th>AI models</th>\n",
              "      <th>AI_Workload_Ratio</th>\n",
              "      <th>Domain</th>\n",
              "    </tr>\n",
              "  </thead>\n",
              "  <tbody>\n",
              "    <tr>\n",
              "      <th>815</th>\n",
              "      <td>51-9191.00</td>\n",
              "      <td>Align and position materials being joined to e...</td>\n",
              "      <td>Adhesive Bonding Machine Operator Tender</td>\n",
              "      <td>None</td>\n",
              "      <td>None</td>\n",
              "      <td>None</td>\n",
              "      <td>None</td>\n",
              "      <td>None</td>\n",
              "      <td>None</td>\n",
              "      <td>Adhesive Bonding Machine Operators and Tenders</td>\n",
              "      <td>...</td>\n",
              "      <td>Sewing Machine Operator</td>\n",
              "      <td>67</td>\n",
              "      <td>60</td>\n",
              "      <td>55</td>\n",
              "      <td>Sewing Machine Operator</td>\n",
              "      <td>25%</td>\n",
              "      <td>210.0</td>\n",
              "      <td>758.0</td>\n",
              "      <td>0.277045</td>\n",
              "      <td>Leadership &amp; Strategy</td>\n",
              "    </tr>\n",
              "  </tbody>\n",
              "</table>\n",
              "<p>1 rows × 24 columns</p>\n",
              "</div>\n",
              "    <div class=\"colab-df-buttons\">\n",
              "\n",
              "  <div class=\"colab-df-container\">\n",
              "    <button class=\"colab-df-convert\" onclick=\"convertToInteractive('df-c2fff7b8-355c-4e84-9345-0747c5fd2ed8')\"\n",
              "            title=\"Convert this dataframe to an interactive table.\"\n",
              "            style=\"display:none;\">\n",
              "\n",
              "  <svg xmlns=\"http://www.w3.org/2000/svg\" height=\"24px\" viewBox=\"0 -960 960 960\">\n",
              "    <path d=\"M120-120v-720h720v720H120Zm60-500h600v-160H180v160Zm220 220h160v-160H400v160Zm0 220h160v-160H400v160ZM180-400h160v-160H180v160Zm440 0h160v-160H620v160ZM180-180h160v-160H180v160Zm440 0h160v-160H620v160Z\"/>\n",
              "  </svg>\n",
              "    </button>\n",
              "\n",
              "  <style>\n",
              "    .colab-df-container {\n",
              "      display:flex;\n",
              "      gap: 12px;\n",
              "    }\n",
              "\n",
              "    .colab-df-convert {\n",
              "      background-color: #E8F0FE;\n",
              "      border: none;\n",
              "      border-radius: 50%;\n",
              "      cursor: pointer;\n",
              "      display: none;\n",
              "      fill: #1967D2;\n",
              "      height: 32px;\n",
              "      padding: 0 0 0 0;\n",
              "      width: 32px;\n",
              "    }\n",
              "\n",
              "    .colab-df-convert:hover {\n",
              "      background-color: #E2EBFA;\n",
              "      box-shadow: 0px 1px 2px rgba(60, 64, 67, 0.3), 0px 1px 3px 1px rgba(60, 64, 67, 0.15);\n",
              "      fill: #174EA6;\n",
              "    }\n",
              "\n",
              "    .colab-df-buttons div {\n",
              "      margin-bottom: 4px;\n",
              "    }\n",
              "\n",
              "    [theme=dark] .colab-df-convert {\n",
              "      background-color: #3B4455;\n",
              "      fill: #D2E3FC;\n",
              "    }\n",
              "\n",
              "    [theme=dark] .colab-df-convert:hover {\n",
              "      background-color: #434B5C;\n",
              "      box-shadow: 0px 1px 3px 1px rgba(0, 0, 0, 0.15);\n",
              "      filter: drop-shadow(0px 1px 2px rgba(0, 0, 0, 0.3));\n",
              "      fill: #FFFFFF;\n",
              "    }\n",
              "  </style>\n",
              "\n",
              "    <script>\n",
              "      const buttonEl =\n",
              "        document.querySelector('#df-c2fff7b8-355c-4e84-9345-0747c5fd2ed8 button.colab-df-convert');\n",
              "      buttonEl.style.display =\n",
              "        google.colab.kernel.accessAllowed ? 'block' : 'none';\n",
              "\n",
              "      async function convertToInteractive(key) {\n",
              "        const element = document.querySelector('#df-c2fff7b8-355c-4e84-9345-0747c5fd2ed8');\n",
              "        const dataTable =\n",
              "          await google.colab.kernel.invokeFunction('convertToInteractive',\n",
              "                                                    [key], {});\n",
              "        if (!dataTable) return;\n",
              "\n",
              "        const docLinkHtml = 'Like what you see? Visit the ' +\n",
              "          '<a target=\"_blank\" href=https://colab.research.google.com/notebooks/data_table.ipynb>data table notebook</a>'\n",
              "          + ' to learn more about interactive tables.';\n",
              "        element.innerHTML = '';\n",
              "        dataTable['output_type'] = 'display_data';\n",
              "        await google.colab.output.renderOutput(dataTable, element);\n",
              "        const docLink = document.createElement('div');\n",
              "        docLink.innerHTML = docLinkHtml;\n",
              "        element.appendChild(docLink);\n",
              "      }\n",
              "    </script>\n",
              "  </div>\n",
              "\n",
              "    </div>\n",
              "  </div>\n"
            ]
          },
          "metadata": {},
          "execution_count": 235
        }
      ]
    },
    {
      "cell_type": "code",
      "source": [
        "#X = pd.concat([df_lemm_task, df_lemm_title], axis=1)"
      ],
      "metadata": {
        "id": "jeWLK-3rlo5z"
      },
      "execution_count": 325,
      "outputs": []
    },
    {
      "cell_type": "code",
      "source": [
        "ytask = full_dataset_combined_analysis[\"rank_new\"]"
      ],
      "metadata": {
        "id": "QUdb76Ltcnwi"
      },
      "execution_count": 488,
      "outputs": []
    },
    {
      "cell_type": "code",
      "source": [
        "Xtask_train, Xtask_test, y_train, y_test = train_test_split(df_lemm_task,\n",
        "                                                    ytask,\n",
        "                                                    random_state=42, stratify=ytask)"
      ],
      "metadata": {
        "id": "dfv9DgMEd0tV"
      },
      "execution_count": 517,
      "outputs": []
    },
    {
      "cell_type": "code",
      "source": [
        "Xtitle_train, Xtitle_test, y_train, y_test = train_test_split(df_lemm_title,\n",
        "                                                    ytask,\n",
        "                                                    random_state=42, stratify=ytask)"
      ],
      "metadata": {
        "id": "9UGkKyeBhSaj"
      },
      "execution_count": 303,
      "outputs": []
    },
    {
      "cell_type": "code",
      "source": [
        "def evaluation(name_of_the_model, y_test, preds, gs_model, X_train, X_test):\n",
        "    ## find the confusion matrix\n",
        "    cm = confusion_matrix(y_test, preds)\n",
        "    tp = cm[1][1]; #True positives\n",
        "    tn = cm[0][0]; #True negatives\n",
        "    fp = cm[0][1]; #False positives\n",
        "    fn = cm[1][0]; #False negatives\n",
        "\n",
        "    #Calculate Sensitivity, Specificity, Precision, and F1_Score\n",
        "\n",
        "    Sensitivity = round(tp/(tp + fn),3)\n",
        "    Specificity = round(tn/(tn + fp),3)\n",
        "    Precision = round(tp/(tp + fp),3)\n",
        "    F1_Score = round(2 * (Precision * Sensitivity) / (Precision + Sensitivity),3)\n",
        "\n",
        "    #Model scores for train and test\n",
        "\n",
        "    train_score = round(gs_model.score(X_train, y_train),3)\n",
        "    test_score = round(gs_model.score(X_test, y_test),3)\n",
        "\n",
        "    #Create a dataframe to compare the results\n",
        "    df = pd.DataFrame(\n",
        "        {'Model' : name_of_the_model,\n",
        "        'Score on train': train_score ,\n",
        "        'Score on test': test_score,\n",
        "         'Sensitivity': Sensitivity,\n",
        "         'Specificity': Specificity,\n",
        "         'Precision' : Precision,\n",
        "         'F1 Score' : F1_Score\n",
        "        },index=[0]\n",
        "    )\n",
        "\n",
        "    return df #Display the dataframe"
      ],
      "metadata": {
        "id": "E-A_TqMXiOqW"
      },
      "execution_count": 217,
      "outputs": []
    },
    {
      "cell_type": "markdown",
      "source": [
        "## Logistic Regression\n",
        "\n",
        "1.   Count Vector - Task\n",
        "2.  Count Vector - Title\n",
        "\n"
      ],
      "metadata": {
        "id": "lRyGAP_z5vD8"
      }
    },
    {
      "cell_type": "code",
      "source": [
        "pipe_params_cvec = {\n",
        "    'cvec__max_features' : [5000],\n",
        "    'cvec__min_df' : [2,5],\n",
        "    'cvec__max_df' : [0.9, 0.95],\n",
        "    'cvec__ngram_range' : [(1,1), (1, 2), (2,2)],\n",
        "    'cvec__stop_words' : [stops],\n",
        "}"
      ],
      "metadata": {
        "id": "iZ7qLDQikh5F"
      },
      "execution_count": 211,
      "outputs": []
    },
    {
      "cell_type": "code",
      "source": [
        "pipe_cvec_logr_task = Pipeline([\n",
        "    ('cvec',CountVectorizer()),\n",
        "    ('logr', LogisticRegressionCV(solver = 'liblinear'))\n",
        "])"
      ],
      "metadata": {
        "id": "BFMLyEuPhjoL"
      },
      "execution_count": 307,
      "outputs": []
    },
    {
      "cell_type": "code",
      "source": [
        "gs_task_cvec_logr = GridSearchCV(pipe_cvec_logr_task,\n",
        "                pipe_params_cvec,\n",
        "                  cv = 5)"
      ],
      "metadata": {
        "id": "xukoy9Fdhr-3"
      },
      "execution_count": 308,
      "outputs": []
    },
    {
      "cell_type": "code",
      "source": [
        "gs_task_cvec_logr.fit(Xtask_train, y_train)"
      ],
      "metadata": {
        "colab": {
          "base_uri": "https://localhost:8080/",
          "height": 150
        },
        "id": "09OdKNDPiEBP",
        "outputId": "03087ab5-1cb2-46f8-dd36-4e78ec42d3fe"
      },
      "execution_count": 309,
      "outputs": [
        {
          "output_type": "execute_result",
          "data": {
            "text/plain": [
              "GridSearchCV(cv=5,\n",
              "             estimator=Pipeline(steps=[('cvec', CountVectorizer()),\n",
              "                                       ('logr',\n",
              "                                        LogisticRegressionCV(solver='liblinear'))]),\n",
              "             param_grid={'cvec__max_df': [0.9, 0.95],\n",
              "                         'cvec__max_features': [5000], 'cvec__min_df': [2, 5],\n",
              "                         'cvec__ngram_range': [(1, 1), (1, 2), (2, 2)],\n",
              "                         'cvec__stop_words': [['i', 'me', 'my', 'myself', 'we',\n",
              "                                               'our', 'ours', 'ourselves',\n",
              "                                               'you', \"you're\", \"you've\",\n",
              "                                               \"you'll\", \"you'd\", 'your',\n",
              "                                               'yours', 'yourself',\n",
              "                                               'yourselves', 'he', 'him', 'his',\n",
              "                                               'himself', 'she', \"she's\", 'her',\n",
              "                                               'hers', 'herself', 'it', \"it's\",\n",
              "                                               'its', 'itself', ...]]})"
            ],
            "text/html": [
              "<style>#sk-container-id-3 {color: black;background-color: white;}#sk-container-id-3 pre{padding: 0;}#sk-container-id-3 div.sk-toggleable {background-color: white;}#sk-container-id-3 label.sk-toggleable__label {cursor: pointer;display: block;width: 100%;margin-bottom: 0;padding: 0.3em;box-sizing: border-box;text-align: center;}#sk-container-id-3 label.sk-toggleable__label-arrow:before {content: \"▸\";float: left;margin-right: 0.25em;color: #696969;}#sk-container-id-3 label.sk-toggleable__label-arrow:hover:before {color: black;}#sk-container-id-3 div.sk-estimator:hover label.sk-toggleable__label-arrow:before {color: black;}#sk-container-id-3 div.sk-toggleable__content {max-height: 0;max-width: 0;overflow: hidden;text-align: left;background-color: #f0f8ff;}#sk-container-id-3 div.sk-toggleable__content pre {margin: 0.2em;color: black;border-radius: 0.25em;background-color: #f0f8ff;}#sk-container-id-3 input.sk-toggleable__control:checked~div.sk-toggleable__content {max-height: 200px;max-width: 100%;overflow: auto;}#sk-container-id-3 input.sk-toggleable__control:checked~label.sk-toggleable__label-arrow:before {content: \"▾\";}#sk-container-id-3 div.sk-estimator input.sk-toggleable__control:checked~label.sk-toggleable__label {background-color: #d4ebff;}#sk-container-id-3 div.sk-label input.sk-toggleable__control:checked~label.sk-toggleable__label {background-color: #d4ebff;}#sk-container-id-3 input.sk-hidden--visually {border: 0;clip: rect(1px 1px 1px 1px);clip: rect(1px, 1px, 1px, 1px);height: 1px;margin: -1px;overflow: hidden;padding: 0;position: absolute;width: 1px;}#sk-container-id-3 div.sk-estimator {font-family: monospace;background-color: #f0f8ff;border: 1px dotted black;border-radius: 0.25em;box-sizing: border-box;margin-bottom: 0.5em;}#sk-container-id-3 div.sk-estimator:hover {background-color: #d4ebff;}#sk-container-id-3 div.sk-parallel-item::after {content: \"\";width: 100%;border-bottom: 1px solid gray;flex-grow: 1;}#sk-container-id-3 div.sk-label:hover label.sk-toggleable__label {background-color: #d4ebff;}#sk-container-id-3 div.sk-serial::before {content: \"\";position: absolute;border-left: 1px solid gray;box-sizing: border-box;top: 0;bottom: 0;left: 50%;z-index: 0;}#sk-container-id-3 div.sk-serial {display: flex;flex-direction: column;align-items: center;background-color: white;padding-right: 0.2em;padding-left: 0.2em;position: relative;}#sk-container-id-3 div.sk-item {position: relative;z-index: 1;}#sk-container-id-3 div.sk-parallel {display: flex;align-items: stretch;justify-content: center;background-color: white;position: relative;}#sk-container-id-3 div.sk-item::before, #sk-container-id-3 div.sk-parallel-item::before {content: \"\";position: absolute;border-left: 1px solid gray;box-sizing: border-box;top: 0;bottom: 0;left: 50%;z-index: -1;}#sk-container-id-3 div.sk-parallel-item {display: flex;flex-direction: column;z-index: 1;position: relative;background-color: white;}#sk-container-id-3 div.sk-parallel-item:first-child::after {align-self: flex-end;width: 50%;}#sk-container-id-3 div.sk-parallel-item:last-child::after {align-self: flex-start;width: 50%;}#sk-container-id-3 div.sk-parallel-item:only-child::after {width: 0;}#sk-container-id-3 div.sk-dashed-wrapped {border: 1px dashed gray;margin: 0 0.4em 0.5em 0.4em;box-sizing: border-box;padding-bottom: 0.4em;background-color: white;}#sk-container-id-3 div.sk-label label {font-family: monospace;font-weight: bold;display: inline-block;line-height: 1.2em;}#sk-container-id-3 div.sk-label-container {text-align: center;}#sk-container-id-3 div.sk-container {/* jupyter's `normalize.less` sets `[hidden] { display: none; }` but bootstrap.min.css set `[hidden] { display: none !important; }` so we also need the `!important` here to be able to override the default hidden behavior on the sphinx rendered scikit-learn.org. See: https://github.com/scikit-learn/scikit-learn/issues/21755 */display: inline-block !important;position: relative;}#sk-container-id-3 div.sk-text-repr-fallback {display: none;}</style><div id=\"sk-container-id-3\" class=\"sk-top-container\"><div class=\"sk-text-repr-fallback\"><pre>GridSearchCV(cv=5,\n",
              "             estimator=Pipeline(steps=[(&#x27;cvec&#x27;, CountVectorizer()),\n",
              "                                       (&#x27;logr&#x27;,\n",
              "                                        LogisticRegressionCV(solver=&#x27;liblinear&#x27;))]),\n",
              "             param_grid={&#x27;cvec__max_df&#x27;: [0.9, 0.95],\n",
              "                         &#x27;cvec__max_features&#x27;: [5000], &#x27;cvec__min_df&#x27;: [2, 5],\n",
              "                         &#x27;cvec__ngram_range&#x27;: [(1, 1), (1, 2), (2, 2)],\n",
              "                         &#x27;cvec__stop_words&#x27;: [[&#x27;i&#x27;, &#x27;me&#x27;, &#x27;my&#x27;, &#x27;myself&#x27;, &#x27;we&#x27;,\n",
              "                                               &#x27;our&#x27;, &#x27;ours&#x27;, &#x27;ourselves&#x27;,\n",
              "                                               &#x27;you&#x27;, &quot;you&#x27;re&quot;, &quot;you&#x27;ve&quot;,\n",
              "                                               &quot;you&#x27;ll&quot;, &quot;you&#x27;d&quot;, &#x27;your&#x27;,\n",
              "                                               &#x27;yours&#x27;, &#x27;yourself&#x27;,\n",
              "                                               &#x27;yourselves&#x27;, &#x27;he&#x27;, &#x27;him&#x27;, &#x27;his&#x27;,\n",
              "                                               &#x27;himself&#x27;, &#x27;she&#x27;, &quot;she&#x27;s&quot;, &#x27;her&#x27;,\n",
              "                                               &#x27;hers&#x27;, &#x27;herself&#x27;, &#x27;it&#x27;, &quot;it&#x27;s&quot;,\n",
              "                                               &#x27;its&#x27;, &#x27;itself&#x27;, ...]]})</pre><b>In a Jupyter environment, please rerun this cell to show the HTML representation or trust the notebook. <br />On GitHub, the HTML representation is unable to render, please try loading this page with nbviewer.org.</b></div><div class=\"sk-container\" hidden><div class=\"sk-item sk-dashed-wrapped\"><div class=\"sk-label-container\"><div class=\"sk-label sk-toggleable\"><input class=\"sk-toggleable__control sk-hidden--visually\" id=\"sk-estimator-id-9\" type=\"checkbox\" ><label for=\"sk-estimator-id-9\" class=\"sk-toggleable__label sk-toggleable__label-arrow\">GridSearchCV</label><div class=\"sk-toggleable__content\"><pre>GridSearchCV(cv=5,\n",
              "             estimator=Pipeline(steps=[(&#x27;cvec&#x27;, CountVectorizer()),\n",
              "                                       (&#x27;logr&#x27;,\n",
              "                                        LogisticRegressionCV(solver=&#x27;liblinear&#x27;))]),\n",
              "             param_grid={&#x27;cvec__max_df&#x27;: [0.9, 0.95],\n",
              "                         &#x27;cvec__max_features&#x27;: [5000], &#x27;cvec__min_df&#x27;: [2, 5],\n",
              "                         &#x27;cvec__ngram_range&#x27;: [(1, 1), (1, 2), (2, 2)],\n",
              "                         &#x27;cvec__stop_words&#x27;: [[&#x27;i&#x27;, &#x27;me&#x27;, &#x27;my&#x27;, &#x27;myself&#x27;, &#x27;we&#x27;,\n",
              "                                               &#x27;our&#x27;, &#x27;ours&#x27;, &#x27;ourselves&#x27;,\n",
              "                                               &#x27;you&#x27;, &quot;you&#x27;re&quot;, &quot;you&#x27;ve&quot;,\n",
              "                                               &quot;you&#x27;ll&quot;, &quot;you&#x27;d&quot;, &#x27;your&#x27;,\n",
              "                                               &#x27;yours&#x27;, &#x27;yourself&#x27;,\n",
              "                                               &#x27;yourselves&#x27;, &#x27;he&#x27;, &#x27;him&#x27;, &#x27;his&#x27;,\n",
              "                                               &#x27;himself&#x27;, &#x27;she&#x27;, &quot;she&#x27;s&quot;, &#x27;her&#x27;,\n",
              "                                               &#x27;hers&#x27;, &#x27;herself&#x27;, &#x27;it&#x27;, &quot;it&#x27;s&quot;,\n",
              "                                               &#x27;its&#x27;, &#x27;itself&#x27;, ...]]})</pre></div></div></div><div class=\"sk-parallel\"><div class=\"sk-parallel-item\"><div class=\"sk-item\"><div class=\"sk-label-container\"><div class=\"sk-label sk-toggleable\"><input class=\"sk-toggleable__control sk-hidden--visually\" id=\"sk-estimator-id-10\" type=\"checkbox\" ><label for=\"sk-estimator-id-10\" class=\"sk-toggleable__label sk-toggleable__label-arrow\">estimator: Pipeline</label><div class=\"sk-toggleable__content\"><pre>Pipeline(steps=[(&#x27;cvec&#x27;, CountVectorizer()),\n",
              "                (&#x27;logr&#x27;, LogisticRegressionCV(solver=&#x27;liblinear&#x27;))])</pre></div></div></div><div class=\"sk-serial\"><div class=\"sk-item\"><div class=\"sk-serial\"><div class=\"sk-item\"><div class=\"sk-estimator sk-toggleable\"><input class=\"sk-toggleable__control sk-hidden--visually\" id=\"sk-estimator-id-11\" type=\"checkbox\" ><label for=\"sk-estimator-id-11\" class=\"sk-toggleable__label sk-toggleable__label-arrow\">CountVectorizer</label><div class=\"sk-toggleable__content\"><pre>CountVectorizer()</pre></div></div></div><div class=\"sk-item\"><div class=\"sk-estimator sk-toggleable\"><input class=\"sk-toggleable__control sk-hidden--visually\" id=\"sk-estimator-id-12\" type=\"checkbox\" ><label for=\"sk-estimator-id-12\" class=\"sk-toggleable__label sk-toggleable__label-arrow\">LogisticRegressionCV</label><div class=\"sk-toggleable__content\"><pre>LogisticRegressionCV(solver=&#x27;liblinear&#x27;)</pre></div></div></div></div></div></div></div></div></div></div></div></div>"
            ]
          },
          "metadata": {},
          "execution_count": 309
        }
      ]
    },
    {
      "cell_type": "code",
      "source": [
        "gs_task_cvec_logr_preds = gs_task_cvec_logr.predict(Xtask_test)"
      ],
      "metadata": {
        "id": "vPsoLx3IjC35"
      },
      "execution_count": 311,
      "outputs": []
    },
    {
      "cell_type": "code",
      "source": [
        "logistic_cvec = evaluation(\"Logistical Regression CVEC\", y_test, gs_task_cvec_logr_preds, gs_task_cvec_logr, Xtask_train, Xtask_test)"
      ],
      "metadata": {
        "id": "lVclDS_qhj5c"
      },
      "execution_count": 314,
      "outputs": []
    },
    {
      "cell_type": "code",
      "source": [
        "logistic_cvec"
      ],
      "metadata": {
        "colab": {
          "base_uri": "https://localhost:8080/",
          "height": 80
        },
        "id": "SVsX0f-ijpvJ",
        "outputId": "9787f8ea-4797-4b80-9066-b9930f78551f"
      },
      "execution_count": 315,
      "outputs": [
        {
          "output_type": "execute_result",
          "data": {
            "text/plain": [
              "                        Model  Score on train  Score on test  Sensitivity  \\\n",
              "0  Logistical Regression CVEC            0.91          0.579          1.0   \n",
              "\n",
              "   Specificity  Precision  F1 Score  \n",
              "0          0.0      0.973     0.986  "
            ],
            "text/html": [
              "\n",
              "  <div id=\"df-ba86e2ba-dac3-4ac7-8f7b-7a4f955624a3\" class=\"colab-df-container\">\n",
              "    <div>\n",
              "<style scoped>\n",
              "    .dataframe tbody tr th:only-of-type {\n",
              "        vertical-align: middle;\n",
              "    }\n",
              "\n",
              "    .dataframe tbody tr th {\n",
              "        vertical-align: top;\n",
              "    }\n",
              "\n",
              "    .dataframe thead th {\n",
              "        text-align: right;\n",
              "    }\n",
              "</style>\n",
              "<table border=\"1\" class=\"dataframe\">\n",
              "  <thead>\n",
              "    <tr style=\"text-align: right;\">\n",
              "      <th></th>\n",
              "      <th>Model</th>\n",
              "      <th>Score on train</th>\n",
              "      <th>Score on test</th>\n",
              "      <th>Sensitivity</th>\n",
              "      <th>Specificity</th>\n",
              "      <th>Precision</th>\n",
              "      <th>F1 Score</th>\n",
              "    </tr>\n",
              "  </thead>\n",
              "  <tbody>\n",
              "    <tr>\n",
              "      <th>0</th>\n",
              "      <td>Logistical Regression CVEC</td>\n",
              "      <td>0.91</td>\n",
              "      <td>0.579</td>\n",
              "      <td>1.0</td>\n",
              "      <td>0.0</td>\n",
              "      <td>0.973</td>\n",
              "      <td>0.986</td>\n",
              "    </tr>\n",
              "  </tbody>\n",
              "</table>\n",
              "</div>\n",
              "    <div class=\"colab-df-buttons\">\n",
              "\n",
              "  <div class=\"colab-df-container\">\n",
              "    <button class=\"colab-df-convert\" onclick=\"convertToInteractive('df-ba86e2ba-dac3-4ac7-8f7b-7a4f955624a3')\"\n",
              "            title=\"Convert this dataframe to an interactive table.\"\n",
              "            style=\"display:none;\">\n",
              "\n",
              "  <svg xmlns=\"http://www.w3.org/2000/svg\" height=\"24px\" viewBox=\"0 -960 960 960\">\n",
              "    <path d=\"M120-120v-720h720v720H120Zm60-500h600v-160H180v160Zm220 220h160v-160H400v160Zm0 220h160v-160H400v160ZM180-400h160v-160H180v160Zm440 0h160v-160H620v160ZM180-180h160v-160H180v160Zm440 0h160v-160H620v160Z\"/>\n",
              "  </svg>\n",
              "    </button>\n",
              "\n",
              "  <style>\n",
              "    .colab-df-container {\n",
              "      display:flex;\n",
              "      gap: 12px;\n",
              "    }\n",
              "\n",
              "    .colab-df-convert {\n",
              "      background-color: #E8F0FE;\n",
              "      border: none;\n",
              "      border-radius: 50%;\n",
              "      cursor: pointer;\n",
              "      display: none;\n",
              "      fill: #1967D2;\n",
              "      height: 32px;\n",
              "      padding: 0 0 0 0;\n",
              "      width: 32px;\n",
              "    }\n",
              "\n",
              "    .colab-df-convert:hover {\n",
              "      background-color: #E2EBFA;\n",
              "      box-shadow: 0px 1px 2px rgba(60, 64, 67, 0.3), 0px 1px 3px 1px rgba(60, 64, 67, 0.15);\n",
              "      fill: #174EA6;\n",
              "    }\n",
              "\n",
              "    .colab-df-buttons div {\n",
              "      margin-bottom: 4px;\n",
              "    }\n",
              "\n",
              "    [theme=dark] .colab-df-convert {\n",
              "      background-color: #3B4455;\n",
              "      fill: #D2E3FC;\n",
              "    }\n",
              "\n",
              "    [theme=dark] .colab-df-convert:hover {\n",
              "      background-color: #434B5C;\n",
              "      box-shadow: 0px 1px 3px 1px rgba(0, 0, 0, 0.15);\n",
              "      filter: drop-shadow(0px 1px 2px rgba(0, 0, 0, 0.3));\n",
              "      fill: #FFFFFF;\n",
              "    }\n",
              "  </style>\n",
              "\n",
              "    <script>\n",
              "      const buttonEl =\n",
              "        document.querySelector('#df-ba86e2ba-dac3-4ac7-8f7b-7a4f955624a3 button.colab-df-convert');\n",
              "      buttonEl.style.display =\n",
              "        google.colab.kernel.accessAllowed ? 'block' : 'none';\n",
              "\n",
              "      async function convertToInteractive(key) {\n",
              "        const element = document.querySelector('#df-ba86e2ba-dac3-4ac7-8f7b-7a4f955624a3');\n",
              "        const dataTable =\n",
              "          await google.colab.kernel.invokeFunction('convertToInteractive',\n",
              "                                                    [key], {});\n",
              "        if (!dataTable) return;\n",
              "\n",
              "        const docLinkHtml = 'Like what you see? Visit the ' +\n",
              "          '<a target=\"_blank\" href=https://colab.research.google.com/notebooks/data_table.ipynb>data table notebook</a>'\n",
              "          + ' to learn more about interactive tables.';\n",
              "        element.innerHTML = '';\n",
              "        dataTable['output_type'] = 'display_data';\n",
              "        await google.colab.output.renderOutput(dataTable, element);\n",
              "        const docLink = document.createElement('div');\n",
              "        docLink.innerHTML = docLinkHtml;\n",
              "        element.appendChild(docLink);\n",
              "      }\n",
              "    </script>\n",
              "  </div>\n",
              "\n",
              "    </div>\n",
              "  </div>\n"
            ]
          },
          "metadata": {},
          "execution_count": 315
        }
      ]
    },
    {
      "cell_type": "code",
      "source": [
        "pipe_cvec_logr_title = Pipeline([\n",
        "    ('cvec',CountVectorizer()),\n",
        "    ('logr', LogisticRegressionCV(solver = 'liblinear'))\n",
        "])"
      ],
      "metadata": {
        "id": "AszMmnO2kBNF"
      },
      "execution_count": 317,
      "outputs": []
    },
    {
      "cell_type": "code",
      "source": [
        "gs_title_cvec_logr = GridSearchCV(pipe_cvec_logr_title,\n",
        "                pipe_params_cvec,\n",
        "                  cv = 5)"
      ],
      "metadata": {
        "id": "p_dFy4X1j9zO"
      },
      "execution_count": 318,
      "outputs": []
    },
    {
      "cell_type": "code",
      "source": [
        "gs_title_cvec_logr.fit(Xtitle_train, y_train)"
      ],
      "metadata": {
        "colab": {
          "base_uri": "https://localhost:8080/",
          "height": 150
        },
        "id": "BwvhIBlijx9K",
        "outputId": "77c3489f-6ea0-4d30-97fc-7a3ecfedae83"
      },
      "execution_count": 319,
      "outputs": [
        {
          "output_type": "execute_result",
          "data": {
            "text/plain": [
              "GridSearchCV(cv=5,\n",
              "             estimator=Pipeline(steps=[('cvec', CountVectorizer()),\n",
              "                                       ('logr',\n",
              "                                        LogisticRegressionCV(solver='liblinear'))]),\n",
              "             param_grid={'cvec__max_df': [0.9, 0.95],\n",
              "                         'cvec__max_features': [5000], 'cvec__min_df': [2, 5],\n",
              "                         'cvec__ngram_range': [(1, 1), (1, 2), (2, 2)],\n",
              "                         'cvec__stop_words': [['i', 'me', 'my', 'myself', 'we',\n",
              "                                               'our', 'ours', 'ourselves',\n",
              "                                               'you', \"you're\", \"you've\",\n",
              "                                               \"you'll\", \"you'd\", 'your',\n",
              "                                               'yours', 'yourself',\n",
              "                                               'yourselves', 'he', 'him', 'his',\n",
              "                                               'himself', 'she', \"she's\", 'her',\n",
              "                                               'hers', 'herself', 'it', \"it's\",\n",
              "                                               'its', 'itself', ...]]})"
            ],
            "text/html": [
              "<style>#sk-container-id-4 {color: black;background-color: white;}#sk-container-id-4 pre{padding: 0;}#sk-container-id-4 div.sk-toggleable {background-color: white;}#sk-container-id-4 label.sk-toggleable__label {cursor: pointer;display: block;width: 100%;margin-bottom: 0;padding: 0.3em;box-sizing: border-box;text-align: center;}#sk-container-id-4 label.sk-toggleable__label-arrow:before {content: \"▸\";float: left;margin-right: 0.25em;color: #696969;}#sk-container-id-4 label.sk-toggleable__label-arrow:hover:before {color: black;}#sk-container-id-4 div.sk-estimator:hover label.sk-toggleable__label-arrow:before {color: black;}#sk-container-id-4 div.sk-toggleable__content {max-height: 0;max-width: 0;overflow: hidden;text-align: left;background-color: #f0f8ff;}#sk-container-id-4 div.sk-toggleable__content pre {margin: 0.2em;color: black;border-radius: 0.25em;background-color: #f0f8ff;}#sk-container-id-4 input.sk-toggleable__control:checked~div.sk-toggleable__content {max-height: 200px;max-width: 100%;overflow: auto;}#sk-container-id-4 input.sk-toggleable__control:checked~label.sk-toggleable__label-arrow:before {content: \"▾\";}#sk-container-id-4 div.sk-estimator input.sk-toggleable__control:checked~label.sk-toggleable__label {background-color: #d4ebff;}#sk-container-id-4 div.sk-label input.sk-toggleable__control:checked~label.sk-toggleable__label {background-color: #d4ebff;}#sk-container-id-4 input.sk-hidden--visually {border: 0;clip: rect(1px 1px 1px 1px);clip: rect(1px, 1px, 1px, 1px);height: 1px;margin: -1px;overflow: hidden;padding: 0;position: absolute;width: 1px;}#sk-container-id-4 div.sk-estimator {font-family: monospace;background-color: #f0f8ff;border: 1px dotted black;border-radius: 0.25em;box-sizing: border-box;margin-bottom: 0.5em;}#sk-container-id-4 div.sk-estimator:hover {background-color: #d4ebff;}#sk-container-id-4 div.sk-parallel-item::after {content: \"\";width: 100%;border-bottom: 1px solid gray;flex-grow: 1;}#sk-container-id-4 div.sk-label:hover label.sk-toggleable__label {background-color: #d4ebff;}#sk-container-id-4 div.sk-serial::before {content: \"\";position: absolute;border-left: 1px solid gray;box-sizing: border-box;top: 0;bottom: 0;left: 50%;z-index: 0;}#sk-container-id-4 div.sk-serial {display: flex;flex-direction: column;align-items: center;background-color: white;padding-right: 0.2em;padding-left: 0.2em;position: relative;}#sk-container-id-4 div.sk-item {position: relative;z-index: 1;}#sk-container-id-4 div.sk-parallel {display: flex;align-items: stretch;justify-content: center;background-color: white;position: relative;}#sk-container-id-4 div.sk-item::before, #sk-container-id-4 div.sk-parallel-item::before {content: \"\";position: absolute;border-left: 1px solid gray;box-sizing: border-box;top: 0;bottom: 0;left: 50%;z-index: -1;}#sk-container-id-4 div.sk-parallel-item {display: flex;flex-direction: column;z-index: 1;position: relative;background-color: white;}#sk-container-id-4 div.sk-parallel-item:first-child::after {align-self: flex-end;width: 50%;}#sk-container-id-4 div.sk-parallel-item:last-child::after {align-self: flex-start;width: 50%;}#sk-container-id-4 div.sk-parallel-item:only-child::after {width: 0;}#sk-container-id-4 div.sk-dashed-wrapped {border: 1px dashed gray;margin: 0 0.4em 0.5em 0.4em;box-sizing: border-box;padding-bottom: 0.4em;background-color: white;}#sk-container-id-4 div.sk-label label {font-family: monospace;font-weight: bold;display: inline-block;line-height: 1.2em;}#sk-container-id-4 div.sk-label-container {text-align: center;}#sk-container-id-4 div.sk-container {/* jupyter's `normalize.less` sets `[hidden] { display: none; }` but bootstrap.min.css set `[hidden] { display: none !important; }` so we also need the `!important` here to be able to override the default hidden behavior on the sphinx rendered scikit-learn.org. See: https://github.com/scikit-learn/scikit-learn/issues/21755 */display: inline-block !important;position: relative;}#sk-container-id-4 div.sk-text-repr-fallback {display: none;}</style><div id=\"sk-container-id-4\" class=\"sk-top-container\"><div class=\"sk-text-repr-fallback\"><pre>GridSearchCV(cv=5,\n",
              "             estimator=Pipeline(steps=[(&#x27;cvec&#x27;, CountVectorizer()),\n",
              "                                       (&#x27;logr&#x27;,\n",
              "                                        LogisticRegressionCV(solver=&#x27;liblinear&#x27;))]),\n",
              "             param_grid={&#x27;cvec__max_df&#x27;: [0.9, 0.95],\n",
              "                         &#x27;cvec__max_features&#x27;: [5000], &#x27;cvec__min_df&#x27;: [2, 5],\n",
              "                         &#x27;cvec__ngram_range&#x27;: [(1, 1), (1, 2), (2, 2)],\n",
              "                         &#x27;cvec__stop_words&#x27;: [[&#x27;i&#x27;, &#x27;me&#x27;, &#x27;my&#x27;, &#x27;myself&#x27;, &#x27;we&#x27;,\n",
              "                                               &#x27;our&#x27;, &#x27;ours&#x27;, &#x27;ourselves&#x27;,\n",
              "                                               &#x27;you&#x27;, &quot;you&#x27;re&quot;, &quot;you&#x27;ve&quot;,\n",
              "                                               &quot;you&#x27;ll&quot;, &quot;you&#x27;d&quot;, &#x27;your&#x27;,\n",
              "                                               &#x27;yours&#x27;, &#x27;yourself&#x27;,\n",
              "                                               &#x27;yourselves&#x27;, &#x27;he&#x27;, &#x27;him&#x27;, &#x27;his&#x27;,\n",
              "                                               &#x27;himself&#x27;, &#x27;she&#x27;, &quot;she&#x27;s&quot;, &#x27;her&#x27;,\n",
              "                                               &#x27;hers&#x27;, &#x27;herself&#x27;, &#x27;it&#x27;, &quot;it&#x27;s&quot;,\n",
              "                                               &#x27;its&#x27;, &#x27;itself&#x27;, ...]]})</pre><b>In a Jupyter environment, please rerun this cell to show the HTML representation or trust the notebook. <br />On GitHub, the HTML representation is unable to render, please try loading this page with nbviewer.org.</b></div><div class=\"sk-container\" hidden><div class=\"sk-item sk-dashed-wrapped\"><div class=\"sk-label-container\"><div class=\"sk-label sk-toggleable\"><input class=\"sk-toggleable__control sk-hidden--visually\" id=\"sk-estimator-id-13\" type=\"checkbox\" ><label for=\"sk-estimator-id-13\" class=\"sk-toggleable__label sk-toggleable__label-arrow\">GridSearchCV</label><div class=\"sk-toggleable__content\"><pre>GridSearchCV(cv=5,\n",
              "             estimator=Pipeline(steps=[(&#x27;cvec&#x27;, CountVectorizer()),\n",
              "                                       (&#x27;logr&#x27;,\n",
              "                                        LogisticRegressionCV(solver=&#x27;liblinear&#x27;))]),\n",
              "             param_grid={&#x27;cvec__max_df&#x27;: [0.9, 0.95],\n",
              "                         &#x27;cvec__max_features&#x27;: [5000], &#x27;cvec__min_df&#x27;: [2, 5],\n",
              "                         &#x27;cvec__ngram_range&#x27;: [(1, 1), (1, 2), (2, 2)],\n",
              "                         &#x27;cvec__stop_words&#x27;: [[&#x27;i&#x27;, &#x27;me&#x27;, &#x27;my&#x27;, &#x27;myself&#x27;, &#x27;we&#x27;,\n",
              "                                               &#x27;our&#x27;, &#x27;ours&#x27;, &#x27;ourselves&#x27;,\n",
              "                                               &#x27;you&#x27;, &quot;you&#x27;re&quot;, &quot;you&#x27;ve&quot;,\n",
              "                                               &quot;you&#x27;ll&quot;, &quot;you&#x27;d&quot;, &#x27;your&#x27;,\n",
              "                                               &#x27;yours&#x27;, &#x27;yourself&#x27;,\n",
              "                                               &#x27;yourselves&#x27;, &#x27;he&#x27;, &#x27;him&#x27;, &#x27;his&#x27;,\n",
              "                                               &#x27;himself&#x27;, &#x27;she&#x27;, &quot;she&#x27;s&quot;, &#x27;her&#x27;,\n",
              "                                               &#x27;hers&#x27;, &#x27;herself&#x27;, &#x27;it&#x27;, &quot;it&#x27;s&quot;,\n",
              "                                               &#x27;its&#x27;, &#x27;itself&#x27;, ...]]})</pre></div></div></div><div class=\"sk-parallel\"><div class=\"sk-parallel-item\"><div class=\"sk-item\"><div class=\"sk-label-container\"><div class=\"sk-label sk-toggleable\"><input class=\"sk-toggleable__control sk-hidden--visually\" id=\"sk-estimator-id-14\" type=\"checkbox\" ><label for=\"sk-estimator-id-14\" class=\"sk-toggleable__label sk-toggleable__label-arrow\">estimator: Pipeline</label><div class=\"sk-toggleable__content\"><pre>Pipeline(steps=[(&#x27;cvec&#x27;, CountVectorizer()),\n",
              "                (&#x27;logr&#x27;, LogisticRegressionCV(solver=&#x27;liblinear&#x27;))])</pre></div></div></div><div class=\"sk-serial\"><div class=\"sk-item\"><div class=\"sk-serial\"><div class=\"sk-item\"><div class=\"sk-estimator sk-toggleable\"><input class=\"sk-toggleable__control sk-hidden--visually\" id=\"sk-estimator-id-15\" type=\"checkbox\" ><label for=\"sk-estimator-id-15\" class=\"sk-toggleable__label sk-toggleable__label-arrow\">CountVectorizer</label><div class=\"sk-toggleable__content\"><pre>CountVectorizer()</pre></div></div></div><div class=\"sk-item\"><div class=\"sk-estimator sk-toggleable\"><input class=\"sk-toggleable__control sk-hidden--visually\" id=\"sk-estimator-id-16\" type=\"checkbox\" ><label for=\"sk-estimator-id-16\" class=\"sk-toggleable__label sk-toggleable__label-arrow\">LogisticRegressionCV</label><div class=\"sk-toggleable__content\"><pre>LogisticRegressionCV(solver=&#x27;liblinear&#x27;)</pre></div></div></div></div></div></div></div></div></div></div></div></div>"
            ]
          },
          "metadata": {},
          "execution_count": 319
        }
      ]
    },
    {
      "cell_type": "code",
      "source": [
        "gs_title_cvec_logr_preds = gs_title_cvec_logr.predict(Xtitle_test)"
      ],
      "metadata": {
        "id": "GOnpn5t6kKBR"
      },
      "execution_count": 320,
      "outputs": []
    },
    {
      "cell_type": "code",
      "source": [
        "logistic_cvec_title = evaluation(\"Logistical Regression CVEC\", y_test, gs_title_cvec_logr_preds, gs_title_cvec_logr, Xtitle_train, Xtitle_test)"
      ],
      "metadata": {
        "id": "zG7EvEYAkRFK"
      },
      "execution_count": 321,
      "outputs": []
    },
    {
      "cell_type": "code",
      "source": [
        "logistic_cvec_title"
      ],
      "metadata": {
        "colab": {
          "base_uri": "https://localhost:8080/",
          "height": 80
        },
        "id": "UImJfO9zkYC6",
        "outputId": "6e86c0bf-c8ad-4f15-9db6-54f3c777e0bd"
      },
      "execution_count": 322,
      "outputs": [
        {
          "output_type": "execute_result",
          "data": {
            "text/plain": [
              "                        Model  Score on train  Score on test  Sensitivity  \\\n",
              "0  Logistical Regression CVEC           0.836          0.621        0.943   \n",
              "\n",
              "   Specificity  Precision  F1 Score  \n",
              "0        0.333      0.976     0.959  "
            ],
            "text/html": [
              "\n",
              "  <div id=\"df-cb3b6e01-5906-46c5-bb71-8c249561484e\" class=\"colab-df-container\">\n",
              "    <div>\n",
              "<style scoped>\n",
              "    .dataframe tbody tr th:only-of-type {\n",
              "        vertical-align: middle;\n",
              "    }\n",
              "\n",
              "    .dataframe tbody tr th {\n",
              "        vertical-align: top;\n",
              "    }\n",
              "\n",
              "    .dataframe thead th {\n",
              "        text-align: right;\n",
              "    }\n",
              "</style>\n",
              "<table border=\"1\" class=\"dataframe\">\n",
              "  <thead>\n",
              "    <tr style=\"text-align: right;\">\n",
              "      <th></th>\n",
              "      <th>Model</th>\n",
              "      <th>Score on train</th>\n",
              "      <th>Score on test</th>\n",
              "      <th>Sensitivity</th>\n",
              "      <th>Specificity</th>\n",
              "      <th>Precision</th>\n",
              "      <th>F1 Score</th>\n",
              "    </tr>\n",
              "  </thead>\n",
              "  <tbody>\n",
              "    <tr>\n",
              "      <th>0</th>\n",
              "      <td>Logistical Regression CVEC</td>\n",
              "      <td>0.836</td>\n",
              "      <td>0.621</td>\n",
              "      <td>0.943</td>\n",
              "      <td>0.333</td>\n",
              "      <td>0.976</td>\n",
              "      <td>0.959</td>\n",
              "    </tr>\n",
              "  </tbody>\n",
              "</table>\n",
              "</div>\n",
              "    <div class=\"colab-df-buttons\">\n",
              "\n",
              "  <div class=\"colab-df-container\">\n",
              "    <button class=\"colab-df-convert\" onclick=\"convertToInteractive('df-cb3b6e01-5906-46c5-bb71-8c249561484e')\"\n",
              "            title=\"Convert this dataframe to an interactive table.\"\n",
              "            style=\"display:none;\">\n",
              "\n",
              "  <svg xmlns=\"http://www.w3.org/2000/svg\" height=\"24px\" viewBox=\"0 -960 960 960\">\n",
              "    <path d=\"M120-120v-720h720v720H120Zm60-500h600v-160H180v160Zm220 220h160v-160H400v160Zm0 220h160v-160H400v160ZM180-400h160v-160H180v160Zm440 0h160v-160H620v160ZM180-180h160v-160H180v160Zm440 0h160v-160H620v160Z\"/>\n",
              "  </svg>\n",
              "    </button>\n",
              "\n",
              "  <style>\n",
              "    .colab-df-container {\n",
              "      display:flex;\n",
              "      gap: 12px;\n",
              "    }\n",
              "\n",
              "    .colab-df-convert {\n",
              "      background-color: #E8F0FE;\n",
              "      border: none;\n",
              "      border-radius: 50%;\n",
              "      cursor: pointer;\n",
              "      display: none;\n",
              "      fill: #1967D2;\n",
              "      height: 32px;\n",
              "      padding: 0 0 0 0;\n",
              "      width: 32px;\n",
              "    }\n",
              "\n",
              "    .colab-df-convert:hover {\n",
              "      background-color: #E2EBFA;\n",
              "      box-shadow: 0px 1px 2px rgba(60, 64, 67, 0.3), 0px 1px 3px 1px rgba(60, 64, 67, 0.15);\n",
              "      fill: #174EA6;\n",
              "    }\n",
              "\n",
              "    .colab-df-buttons div {\n",
              "      margin-bottom: 4px;\n",
              "    }\n",
              "\n",
              "    [theme=dark] .colab-df-convert {\n",
              "      background-color: #3B4455;\n",
              "      fill: #D2E3FC;\n",
              "    }\n",
              "\n",
              "    [theme=dark] .colab-df-convert:hover {\n",
              "      background-color: #434B5C;\n",
              "      box-shadow: 0px 1px 3px 1px rgba(0, 0, 0, 0.15);\n",
              "      filter: drop-shadow(0px 1px 2px rgba(0, 0, 0, 0.3));\n",
              "      fill: #FFFFFF;\n",
              "    }\n",
              "  </style>\n",
              "\n",
              "    <script>\n",
              "      const buttonEl =\n",
              "        document.querySelector('#df-cb3b6e01-5906-46c5-bb71-8c249561484e button.colab-df-convert');\n",
              "      buttonEl.style.display =\n",
              "        google.colab.kernel.accessAllowed ? 'block' : 'none';\n",
              "\n",
              "      async function convertToInteractive(key) {\n",
              "        const element = document.querySelector('#df-cb3b6e01-5906-46c5-bb71-8c249561484e');\n",
              "        const dataTable =\n",
              "          await google.colab.kernel.invokeFunction('convertToInteractive',\n",
              "                                                    [key], {});\n",
              "        if (!dataTable) return;\n",
              "\n",
              "        const docLinkHtml = 'Like what you see? Visit the ' +\n",
              "          '<a target=\"_blank\" href=https://colab.research.google.com/notebooks/data_table.ipynb>data table notebook</a>'\n",
              "          + ' to learn more about interactive tables.';\n",
              "        element.innerHTML = '';\n",
              "        dataTable['output_type'] = 'display_data';\n",
              "        await google.colab.output.renderOutput(dataTable, element);\n",
              "        const docLink = document.createElement('div');\n",
              "        docLink.innerHTML = docLinkHtml;\n",
              "        element.appendChild(docLink);\n",
              "      }\n",
              "    </script>\n",
              "  </div>\n",
              "\n",
              "    </div>\n",
              "  </div>\n"
            ]
          },
          "metadata": {},
          "execution_count": 322
        }
      ]
    },
    {
      "cell_type": "code",
      "source": [
        "pipe_params_tvec = {\n",
        "    'tvec__max_features' : [5000],\n",
        "    'tvec__min_df' : [2,5],\n",
        "    'tvec__max_df' : [0.9, 0.95],\n",
        "    'tvec__ngram_range' : [(1,1), (1, 2), (2,2)],\n",
        "    'tvec__stop_words' : [stops],\n",
        "}"
      ],
      "metadata": {
        "id": "hVGdUATStGwf"
      },
      "execution_count": 395,
      "outputs": []
    },
    {
      "cell_type": "code",
      "source": [
        "pipe_tvec_logr_task = Pipeline([\n",
        "    ('tvec', TfidfVectorizer()),\n",
        "    ('logr', LogisticRegressionCV(solver = 'liblinear'))\n",
        "])"
      ],
      "metadata": {
        "id": "fnAF0FbJdqZy"
      },
      "execution_count": 396,
      "outputs": []
    },
    {
      "cell_type": "code",
      "source": [
        "gs_task_tvec_logr = GridSearchCV(pipe_tvec_logr_task,\n",
        "                pipe_params_tvec,\n",
        "                  cv = 5)"
      ],
      "metadata": {
        "id": "HPkwZwbYdx1d"
      },
      "execution_count": 397,
      "outputs": []
    },
    {
      "cell_type": "code",
      "source": [
        "gs_task_tvec_logr.fit(Xtask_train, y_train)"
      ],
      "metadata": {
        "colab": {
          "base_uri": "https://localhost:8080/",
          "height": 150
        },
        "id": "72kaMnUVWMSV",
        "outputId": "cad53fe8-bc2e-43e3-a3ef-99acf6d7cb52"
      },
      "execution_count": 398,
      "outputs": [
        {
          "output_type": "execute_result",
          "data": {
            "text/plain": [
              "GridSearchCV(cv=5,\n",
              "             estimator=Pipeline(steps=[('tvec', TfidfVectorizer()),\n",
              "                                       ('logr',\n",
              "                                        LogisticRegressionCV(solver='liblinear'))]),\n",
              "             param_grid={'tvec__max_df': [0.9, 0.95],\n",
              "                         'tvec__max_features': [5000], 'tvec__min_df': [2, 5],\n",
              "                         'tvec__ngram_range': [(1, 1), (1, 2), (2, 2)],\n",
              "                         'tvec__stop_words': [['i', 'me', 'my', 'myself', 'we',\n",
              "                                               'our', 'ours', 'ourselves',\n",
              "                                               'you', \"you're\", \"you've\",\n",
              "                                               \"you'll\", \"you'd\", 'your',\n",
              "                                               'yours', 'yourself',\n",
              "                                               'yourselves', 'he', 'him', 'his',\n",
              "                                               'himself', 'she', \"she's\", 'her',\n",
              "                                               'hers', 'herself', 'it', \"it's\",\n",
              "                                               'its', 'itself', ...]]})"
            ],
            "text/html": [
              "<style>#sk-container-id-5 {color: black;background-color: white;}#sk-container-id-5 pre{padding: 0;}#sk-container-id-5 div.sk-toggleable {background-color: white;}#sk-container-id-5 label.sk-toggleable__label {cursor: pointer;display: block;width: 100%;margin-bottom: 0;padding: 0.3em;box-sizing: border-box;text-align: center;}#sk-container-id-5 label.sk-toggleable__label-arrow:before {content: \"▸\";float: left;margin-right: 0.25em;color: #696969;}#sk-container-id-5 label.sk-toggleable__label-arrow:hover:before {color: black;}#sk-container-id-5 div.sk-estimator:hover label.sk-toggleable__label-arrow:before {color: black;}#sk-container-id-5 div.sk-toggleable__content {max-height: 0;max-width: 0;overflow: hidden;text-align: left;background-color: #f0f8ff;}#sk-container-id-5 div.sk-toggleable__content pre {margin: 0.2em;color: black;border-radius: 0.25em;background-color: #f0f8ff;}#sk-container-id-5 input.sk-toggleable__control:checked~div.sk-toggleable__content {max-height: 200px;max-width: 100%;overflow: auto;}#sk-container-id-5 input.sk-toggleable__control:checked~label.sk-toggleable__label-arrow:before {content: \"▾\";}#sk-container-id-5 div.sk-estimator input.sk-toggleable__control:checked~label.sk-toggleable__label {background-color: #d4ebff;}#sk-container-id-5 div.sk-label input.sk-toggleable__control:checked~label.sk-toggleable__label {background-color: #d4ebff;}#sk-container-id-5 input.sk-hidden--visually {border: 0;clip: rect(1px 1px 1px 1px);clip: rect(1px, 1px, 1px, 1px);height: 1px;margin: -1px;overflow: hidden;padding: 0;position: absolute;width: 1px;}#sk-container-id-5 div.sk-estimator {font-family: monospace;background-color: #f0f8ff;border: 1px dotted black;border-radius: 0.25em;box-sizing: border-box;margin-bottom: 0.5em;}#sk-container-id-5 div.sk-estimator:hover {background-color: #d4ebff;}#sk-container-id-5 div.sk-parallel-item::after {content: \"\";width: 100%;border-bottom: 1px solid gray;flex-grow: 1;}#sk-container-id-5 div.sk-label:hover label.sk-toggleable__label {background-color: #d4ebff;}#sk-container-id-5 div.sk-serial::before {content: \"\";position: absolute;border-left: 1px solid gray;box-sizing: border-box;top: 0;bottom: 0;left: 50%;z-index: 0;}#sk-container-id-5 div.sk-serial {display: flex;flex-direction: column;align-items: center;background-color: white;padding-right: 0.2em;padding-left: 0.2em;position: relative;}#sk-container-id-5 div.sk-item {position: relative;z-index: 1;}#sk-container-id-5 div.sk-parallel {display: flex;align-items: stretch;justify-content: center;background-color: white;position: relative;}#sk-container-id-5 div.sk-item::before, #sk-container-id-5 div.sk-parallel-item::before {content: \"\";position: absolute;border-left: 1px solid gray;box-sizing: border-box;top: 0;bottom: 0;left: 50%;z-index: -1;}#sk-container-id-5 div.sk-parallel-item {display: flex;flex-direction: column;z-index: 1;position: relative;background-color: white;}#sk-container-id-5 div.sk-parallel-item:first-child::after {align-self: flex-end;width: 50%;}#sk-container-id-5 div.sk-parallel-item:last-child::after {align-self: flex-start;width: 50%;}#sk-container-id-5 div.sk-parallel-item:only-child::after {width: 0;}#sk-container-id-5 div.sk-dashed-wrapped {border: 1px dashed gray;margin: 0 0.4em 0.5em 0.4em;box-sizing: border-box;padding-bottom: 0.4em;background-color: white;}#sk-container-id-5 div.sk-label label {font-family: monospace;font-weight: bold;display: inline-block;line-height: 1.2em;}#sk-container-id-5 div.sk-label-container {text-align: center;}#sk-container-id-5 div.sk-container {/* jupyter's `normalize.less` sets `[hidden] { display: none; }` but bootstrap.min.css set `[hidden] { display: none !important; }` so we also need the `!important` here to be able to override the default hidden behavior on the sphinx rendered scikit-learn.org. See: https://github.com/scikit-learn/scikit-learn/issues/21755 */display: inline-block !important;position: relative;}#sk-container-id-5 div.sk-text-repr-fallback {display: none;}</style><div id=\"sk-container-id-5\" class=\"sk-top-container\"><div class=\"sk-text-repr-fallback\"><pre>GridSearchCV(cv=5,\n",
              "             estimator=Pipeline(steps=[(&#x27;tvec&#x27;, TfidfVectorizer()),\n",
              "                                       (&#x27;logr&#x27;,\n",
              "                                        LogisticRegressionCV(solver=&#x27;liblinear&#x27;))]),\n",
              "             param_grid={&#x27;tvec__max_df&#x27;: [0.9, 0.95],\n",
              "                         &#x27;tvec__max_features&#x27;: [5000], &#x27;tvec__min_df&#x27;: [2, 5],\n",
              "                         &#x27;tvec__ngram_range&#x27;: [(1, 1), (1, 2), (2, 2)],\n",
              "                         &#x27;tvec__stop_words&#x27;: [[&#x27;i&#x27;, &#x27;me&#x27;, &#x27;my&#x27;, &#x27;myself&#x27;, &#x27;we&#x27;,\n",
              "                                               &#x27;our&#x27;, &#x27;ours&#x27;, &#x27;ourselves&#x27;,\n",
              "                                               &#x27;you&#x27;, &quot;you&#x27;re&quot;, &quot;you&#x27;ve&quot;,\n",
              "                                               &quot;you&#x27;ll&quot;, &quot;you&#x27;d&quot;, &#x27;your&#x27;,\n",
              "                                               &#x27;yours&#x27;, &#x27;yourself&#x27;,\n",
              "                                               &#x27;yourselves&#x27;, &#x27;he&#x27;, &#x27;him&#x27;, &#x27;his&#x27;,\n",
              "                                               &#x27;himself&#x27;, &#x27;she&#x27;, &quot;she&#x27;s&quot;, &#x27;her&#x27;,\n",
              "                                               &#x27;hers&#x27;, &#x27;herself&#x27;, &#x27;it&#x27;, &quot;it&#x27;s&quot;,\n",
              "                                               &#x27;its&#x27;, &#x27;itself&#x27;, ...]]})</pre><b>In a Jupyter environment, please rerun this cell to show the HTML representation or trust the notebook. <br />On GitHub, the HTML representation is unable to render, please try loading this page with nbviewer.org.</b></div><div class=\"sk-container\" hidden><div class=\"sk-item sk-dashed-wrapped\"><div class=\"sk-label-container\"><div class=\"sk-label sk-toggleable\"><input class=\"sk-toggleable__control sk-hidden--visually\" id=\"sk-estimator-id-17\" type=\"checkbox\" ><label for=\"sk-estimator-id-17\" class=\"sk-toggleable__label sk-toggleable__label-arrow\">GridSearchCV</label><div class=\"sk-toggleable__content\"><pre>GridSearchCV(cv=5,\n",
              "             estimator=Pipeline(steps=[(&#x27;tvec&#x27;, TfidfVectorizer()),\n",
              "                                       (&#x27;logr&#x27;,\n",
              "                                        LogisticRegressionCV(solver=&#x27;liblinear&#x27;))]),\n",
              "             param_grid={&#x27;tvec__max_df&#x27;: [0.9, 0.95],\n",
              "                         &#x27;tvec__max_features&#x27;: [5000], &#x27;tvec__min_df&#x27;: [2, 5],\n",
              "                         &#x27;tvec__ngram_range&#x27;: [(1, 1), (1, 2), (2, 2)],\n",
              "                         &#x27;tvec__stop_words&#x27;: [[&#x27;i&#x27;, &#x27;me&#x27;, &#x27;my&#x27;, &#x27;myself&#x27;, &#x27;we&#x27;,\n",
              "                                               &#x27;our&#x27;, &#x27;ours&#x27;, &#x27;ourselves&#x27;,\n",
              "                                               &#x27;you&#x27;, &quot;you&#x27;re&quot;, &quot;you&#x27;ve&quot;,\n",
              "                                               &quot;you&#x27;ll&quot;, &quot;you&#x27;d&quot;, &#x27;your&#x27;,\n",
              "                                               &#x27;yours&#x27;, &#x27;yourself&#x27;,\n",
              "                                               &#x27;yourselves&#x27;, &#x27;he&#x27;, &#x27;him&#x27;, &#x27;his&#x27;,\n",
              "                                               &#x27;himself&#x27;, &#x27;she&#x27;, &quot;she&#x27;s&quot;, &#x27;her&#x27;,\n",
              "                                               &#x27;hers&#x27;, &#x27;herself&#x27;, &#x27;it&#x27;, &quot;it&#x27;s&quot;,\n",
              "                                               &#x27;its&#x27;, &#x27;itself&#x27;, ...]]})</pre></div></div></div><div class=\"sk-parallel\"><div class=\"sk-parallel-item\"><div class=\"sk-item\"><div class=\"sk-label-container\"><div class=\"sk-label sk-toggleable\"><input class=\"sk-toggleable__control sk-hidden--visually\" id=\"sk-estimator-id-18\" type=\"checkbox\" ><label for=\"sk-estimator-id-18\" class=\"sk-toggleable__label sk-toggleable__label-arrow\">estimator: Pipeline</label><div class=\"sk-toggleable__content\"><pre>Pipeline(steps=[(&#x27;tvec&#x27;, TfidfVectorizer()),\n",
              "                (&#x27;logr&#x27;, LogisticRegressionCV(solver=&#x27;liblinear&#x27;))])</pre></div></div></div><div class=\"sk-serial\"><div class=\"sk-item\"><div class=\"sk-serial\"><div class=\"sk-item\"><div class=\"sk-estimator sk-toggleable\"><input class=\"sk-toggleable__control sk-hidden--visually\" id=\"sk-estimator-id-19\" type=\"checkbox\" ><label for=\"sk-estimator-id-19\" class=\"sk-toggleable__label sk-toggleable__label-arrow\">TfidfVectorizer</label><div class=\"sk-toggleable__content\"><pre>TfidfVectorizer()</pre></div></div></div><div class=\"sk-item\"><div class=\"sk-estimator sk-toggleable\"><input class=\"sk-toggleable__control sk-hidden--visually\" id=\"sk-estimator-id-20\" type=\"checkbox\" ><label for=\"sk-estimator-id-20\" class=\"sk-toggleable__label sk-toggleable__label-arrow\">LogisticRegressionCV</label><div class=\"sk-toggleable__content\"><pre>LogisticRegressionCV(solver=&#x27;liblinear&#x27;)</pre></div></div></div></div></div></div></div></div></div></div></div></div>"
            ]
          },
          "metadata": {},
          "execution_count": 398
        }
      ]
    },
    {
      "cell_type": "code",
      "source": [
        "gs_task_tvec_logr_preds = gs_task_tvec_logr.predict(Xtask_test)"
      ],
      "metadata": {
        "id": "wRL9WUVvtgSF"
      },
      "execution_count": 399,
      "outputs": []
    },
    {
      "cell_type": "code",
      "source": [
        "logistic_tvec = evaluation(\"Logistical Regression TVEC\", y_test, gs_task_tvec_logr_preds, gs_task_tvec_logr, Xtask_train, Xtask_test)"
      ],
      "metadata": {
        "id": "JY6q5hxyHYlj"
      },
      "execution_count": 400,
      "outputs": []
    },
    {
      "cell_type": "code",
      "source": [
        "logistic_tvec"
      ],
      "metadata": {
        "colab": {
          "base_uri": "https://localhost:8080/",
          "height": 80
        },
        "id": "ZAR0TwYctpN1",
        "outputId": "42f9819b-4e89-43bf-b6cb-525b188312d0"
      },
      "execution_count": 401,
      "outputs": [
        {
          "output_type": "execute_result",
          "data": {
            "text/plain": [
              "                        Model  Score on train  Score on test  Sensitivity  \\\n",
              "0  Logistical Regression TVEC           0.982          0.547        0.903   \n",
              "\n",
              "   Specificity  Precision  F1 Score  \n",
              "0          0.5      0.985     0.942  "
            ],
            "text/html": [
              "\n",
              "  <div id=\"df-93d5b291-176b-46b1-bd8e-6a397488b150\" class=\"colab-df-container\">\n",
              "    <div>\n",
              "<style scoped>\n",
              "    .dataframe tbody tr th:only-of-type {\n",
              "        vertical-align: middle;\n",
              "    }\n",
              "\n",
              "    .dataframe tbody tr th {\n",
              "        vertical-align: top;\n",
              "    }\n",
              "\n",
              "    .dataframe thead th {\n",
              "        text-align: right;\n",
              "    }\n",
              "</style>\n",
              "<table border=\"1\" class=\"dataframe\">\n",
              "  <thead>\n",
              "    <tr style=\"text-align: right;\">\n",
              "      <th></th>\n",
              "      <th>Model</th>\n",
              "      <th>Score on train</th>\n",
              "      <th>Score on test</th>\n",
              "      <th>Sensitivity</th>\n",
              "      <th>Specificity</th>\n",
              "      <th>Precision</th>\n",
              "      <th>F1 Score</th>\n",
              "    </tr>\n",
              "  </thead>\n",
              "  <tbody>\n",
              "    <tr>\n",
              "      <th>0</th>\n",
              "      <td>Logistical Regression TVEC</td>\n",
              "      <td>0.982</td>\n",
              "      <td>0.547</td>\n",
              "      <td>0.903</td>\n",
              "      <td>0.5</td>\n",
              "      <td>0.985</td>\n",
              "      <td>0.942</td>\n",
              "    </tr>\n",
              "  </tbody>\n",
              "</table>\n",
              "</div>\n",
              "    <div class=\"colab-df-buttons\">\n",
              "\n",
              "  <div class=\"colab-df-container\">\n",
              "    <button class=\"colab-df-convert\" onclick=\"convertToInteractive('df-93d5b291-176b-46b1-bd8e-6a397488b150')\"\n",
              "            title=\"Convert this dataframe to an interactive table.\"\n",
              "            style=\"display:none;\">\n",
              "\n",
              "  <svg xmlns=\"http://www.w3.org/2000/svg\" height=\"24px\" viewBox=\"0 -960 960 960\">\n",
              "    <path d=\"M120-120v-720h720v720H120Zm60-500h600v-160H180v160Zm220 220h160v-160H400v160Zm0 220h160v-160H400v160ZM180-400h160v-160H180v160Zm440 0h160v-160H620v160ZM180-180h160v-160H180v160Zm440 0h160v-160H620v160Z\"/>\n",
              "  </svg>\n",
              "    </button>\n",
              "\n",
              "  <style>\n",
              "    .colab-df-container {\n",
              "      display:flex;\n",
              "      gap: 12px;\n",
              "    }\n",
              "\n",
              "    .colab-df-convert {\n",
              "      background-color: #E8F0FE;\n",
              "      border: none;\n",
              "      border-radius: 50%;\n",
              "      cursor: pointer;\n",
              "      display: none;\n",
              "      fill: #1967D2;\n",
              "      height: 32px;\n",
              "      padding: 0 0 0 0;\n",
              "      width: 32px;\n",
              "    }\n",
              "\n",
              "    .colab-df-convert:hover {\n",
              "      background-color: #E2EBFA;\n",
              "      box-shadow: 0px 1px 2px rgba(60, 64, 67, 0.3), 0px 1px 3px 1px rgba(60, 64, 67, 0.15);\n",
              "      fill: #174EA6;\n",
              "    }\n",
              "\n",
              "    .colab-df-buttons div {\n",
              "      margin-bottom: 4px;\n",
              "    }\n",
              "\n",
              "    [theme=dark] .colab-df-convert {\n",
              "      background-color: #3B4455;\n",
              "      fill: #D2E3FC;\n",
              "    }\n",
              "\n",
              "    [theme=dark] .colab-df-convert:hover {\n",
              "      background-color: #434B5C;\n",
              "      box-shadow: 0px 1px 3px 1px rgba(0, 0, 0, 0.15);\n",
              "      filter: drop-shadow(0px 1px 2px rgba(0, 0, 0, 0.3));\n",
              "      fill: #FFFFFF;\n",
              "    }\n",
              "  </style>\n",
              "\n",
              "    <script>\n",
              "      const buttonEl =\n",
              "        document.querySelector('#df-93d5b291-176b-46b1-bd8e-6a397488b150 button.colab-df-convert');\n",
              "      buttonEl.style.display =\n",
              "        google.colab.kernel.accessAllowed ? 'block' : 'none';\n",
              "\n",
              "      async function convertToInteractive(key) {\n",
              "        const element = document.querySelector('#df-93d5b291-176b-46b1-bd8e-6a397488b150');\n",
              "        const dataTable =\n",
              "          await google.colab.kernel.invokeFunction('convertToInteractive',\n",
              "                                                    [key], {});\n",
              "        if (!dataTable) return;\n",
              "\n",
              "        const docLinkHtml = 'Like what you see? Visit the ' +\n",
              "          '<a target=\"_blank\" href=https://colab.research.google.com/notebooks/data_table.ipynb>data table notebook</a>'\n",
              "          + ' to learn more about interactive tables.';\n",
              "        element.innerHTML = '';\n",
              "        dataTable['output_type'] = 'display_data';\n",
              "        await google.colab.output.renderOutput(dataTable, element);\n",
              "        const docLink = document.createElement('div');\n",
              "        docLink.innerHTML = docLinkHtml;\n",
              "        element.appendChild(docLink);\n",
              "      }\n",
              "    </script>\n",
              "  </div>\n",
              "\n",
              "    </div>\n",
              "  </div>\n"
            ]
          },
          "metadata": {},
          "execution_count": 401
        }
      ]
    },
    {
      "cell_type": "code",
      "source": [
        "pipe_tvec_logr_title = Pipeline([\n",
        "    ('tvec', TfidfVectorizer()),\n",
        "    ('logr', LogisticRegressionCV(solver = 'liblinear'))\n",
        "])"
      ],
      "metadata": {
        "id": "vygznZXWuB5x"
      },
      "execution_count": 402,
      "outputs": []
    },
    {
      "cell_type": "code",
      "source": [
        "gs_title_tvec_logr = GridSearchCV(pipe_tvec_logr_title,\n",
        "                pipe_params_tvec,\n",
        "                  cv = 5)"
      ],
      "metadata": {
        "id": "pjLX0xppuEOb"
      },
      "execution_count": 403,
      "outputs": []
    },
    {
      "cell_type": "code",
      "source": [
        "gs_title_tvec_logr.fit(Xtitle_train, y_train)"
      ],
      "metadata": {
        "colab": {
          "base_uri": "https://localhost:8080/",
          "height": 150
        },
        "id": "-lfJOlhXuEHQ",
        "outputId": "ebd1a43b-dc89-40eb-e194-dd17621f04a2"
      },
      "execution_count": 405,
      "outputs": [
        {
          "output_type": "execute_result",
          "data": {
            "text/plain": [
              "GridSearchCV(cv=5,\n",
              "             estimator=Pipeline(steps=[('tvec', TfidfVectorizer()),\n",
              "                                       ('logr',\n",
              "                                        LogisticRegressionCV(solver='liblinear'))]),\n",
              "             param_grid={'tvec__max_df': [0.9, 0.95],\n",
              "                         'tvec__max_features': [5000], 'tvec__min_df': [2, 5],\n",
              "                         'tvec__ngram_range': [(1, 1), (1, 2), (2, 2)],\n",
              "                         'tvec__stop_words': [['i', 'me', 'my', 'myself', 'we',\n",
              "                                               'our', 'ours', 'ourselves',\n",
              "                                               'you', \"you're\", \"you've\",\n",
              "                                               \"you'll\", \"you'd\", 'your',\n",
              "                                               'yours', 'yourself',\n",
              "                                               'yourselves', 'he', 'him', 'his',\n",
              "                                               'himself', 'she', \"she's\", 'her',\n",
              "                                               'hers', 'herself', 'it', \"it's\",\n",
              "                                               'its', 'itself', ...]]})"
            ],
            "text/html": [
              "<style>#sk-container-id-6 {color: black;background-color: white;}#sk-container-id-6 pre{padding: 0;}#sk-container-id-6 div.sk-toggleable {background-color: white;}#sk-container-id-6 label.sk-toggleable__label {cursor: pointer;display: block;width: 100%;margin-bottom: 0;padding: 0.3em;box-sizing: border-box;text-align: center;}#sk-container-id-6 label.sk-toggleable__label-arrow:before {content: \"▸\";float: left;margin-right: 0.25em;color: #696969;}#sk-container-id-6 label.sk-toggleable__label-arrow:hover:before {color: black;}#sk-container-id-6 div.sk-estimator:hover label.sk-toggleable__label-arrow:before {color: black;}#sk-container-id-6 div.sk-toggleable__content {max-height: 0;max-width: 0;overflow: hidden;text-align: left;background-color: #f0f8ff;}#sk-container-id-6 div.sk-toggleable__content pre {margin: 0.2em;color: black;border-radius: 0.25em;background-color: #f0f8ff;}#sk-container-id-6 input.sk-toggleable__control:checked~div.sk-toggleable__content {max-height: 200px;max-width: 100%;overflow: auto;}#sk-container-id-6 input.sk-toggleable__control:checked~label.sk-toggleable__label-arrow:before {content: \"▾\";}#sk-container-id-6 div.sk-estimator input.sk-toggleable__control:checked~label.sk-toggleable__label {background-color: #d4ebff;}#sk-container-id-6 div.sk-label input.sk-toggleable__control:checked~label.sk-toggleable__label {background-color: #d4ebff;}#sk-container-id-6 input.sk-hidden--visually {border: 0;clip: rect(1px 1px 1px 1px);clip: rect(1px, 1px, 1px, 1px);height: 1px;margin: -1px;overflow: hidden;padding: 0;position: absolute;width: 1px;}#sk-container-id-6 div.sk-estimator {font-family: monospace;background-color: #f0f8ff;border: 1px dotted black;border-radius: 0.25em;box-sizing: border-box;margin-bottom: 0.5em;}#sk-container-id-6 div.sk-estimator:hover {background-color: #d4ebff;}#sk-container-id-6 div.sk-parallel-item::after {content: \"\";width: 100%;border-bottom: 1px solid gray;flex-grow: 1;}#sk-container-id-6 div.sk-label:hover label.sk-toggleable__label {background-color: #d4ebff;}#sk-container-id-6 div.sk-serial::before {content: \"\";position: absolute;border-left: 1px solid gray;box-sizing: border-box;top: 0;bottom: 0;left: 50%;z-index: 0;}#sk-container-id-6 div.sk-serial {display: flex;flex-direction: column;align-items: center;background-color: white;padding-right: 0.2em;padding-left: 0.2em;position: relative;}#sk-container-id-6 div.sk-item {position: relative;z-index: 1;}#sk-container-id-6 div.sk-parallel {display: flex;align-items: stretch;justify-content: center;background-color: white;position: relative;}#sk-container-id-6 div.sk-item::before, #sk-container-id-6 div.sk-parallel-item::before {content: \"\";position: absolute;border-left: 1px solid gray;box-sizing: border-box;top: 0;bottom: 0;left: 50%;z-index: -1;}#sk-container-id-6 div.sk-parallel-item {display: flex;flex-direction: column;z-index: 1;position: relative;background-color: white;}#sk-container-id-6 div.sk-parallel-item:first-child::after {align-self: flex-end;width: 50%;}#sk-container-id-6 div.sk-parallel-item:last-child::after {align-self: flex-start;width: 50%;}#sk-container-id-6 div.sk-parallel-item:only-child::after {width: 0;}#sk-container-id-6 div.sk-dashed-wrapped {border: 1px dashed gray;margin: 0 0.4em 0.5em 0.4em;box-sizing: border-box;padding-bottom: 0.4em;background-color: white;}#sk-container-id-6 div.sk-label label {font-family: monospace;font-weight: bold;display: inline-block;line-height: 1.2em;}#sk-container-id-6 div.sk-label-container {text-align: center;}#sk-container-id-6 div.sk-container {/* jupyter's `normalize.less` sets `[hidden] { display: none; }` but bootstrap.min.css set `[hidden] { display: none !important; }` so we also need the `!important` here to be able to override the default hidden behavior on the sphinx rendered scikit-learn.org. See: https://github.com/scikit-learn/scikit-learn/issues/21755 */display: inline-block !important;position: relative;}#sk-container-id-6 div.sk-text-repr-fallback {display: none;}</style><div id=\"sk-container-id-6\" class=\"sk-top-container\"><div class=\"sk-text-repr-fallback\"><pre>GridSearchCV(cv=5,\n",
              "             estimator=Pipeline(steps=[(&#x27;tvec&#x27;, TfidfVectorizer()),\n",
              "                                       (&#x27;logr&#x27;,\n",
              "                                        LogisticRegressionCV(solver=&#x27;liblinear&#x27;))]),\n",
              "             param_grid={&#x27;tvec__max_df&#x27;: [0.9, 0.95],\n",
              "                         &#x27;tvec__max_features&#x27;: [5000], &#x27;tvec__min_df&#x27;: [2, 5],\n",
              "                         &#x27;tvec__ngram_range&#x27;: [(1, 1), (1, 2), (2, 2)],\n",
              "                         &#x27;tvec__stop_words&#x27;: [[&#x27;i&#x27;, &#x27;me&#x27;, &#x27;my&#x27;, &#x27;myself&#x27;, &#x27;we&#x27;,\n",
              "                                               &#x27;our&#x27;, &#x27;ours&#x27;, &#x27;ourselves&#x27;,\n",
              "                                               &#x27;you&#x27;, &quot;you&#x27;re&quot;, &quot;you&#x27;ve&quot;,\n",
              "                                               &quot;you&#x27;ll&quot;, &quot;you&#x27;d&quot;, &#x27;your&#x27;,\n",
              "                                               &#x27;yours&#x27;, &#x27;yourself&#x27;,\n",
              "                                               &#x27;yourselves&#x27;, &#x27;he&#x27;, &#x27;him&#x27;, &#x27;his&#x27;,\n",
              "                                               &#x27;himself&#x27;, &#x27;she&#x27;, &quot;she&#x27;s&quot;, &#x27;her&#x27;,\n",
              "                                               &#x27;hers&#x27;, &#x27;herself&#x27;, &#x27;it&#x27;, &quot;it&#x27;s&quot;,\n",
              "                                               &#x27;its&#x27;, &#x27;itself&#x27;, ...]]})</pre><b>In a Jupyter environment, please rerun this cell to show the HTML representation or trust the notebook. <br />On GitHub, the HTML representation is unable to render, please try loading this page with nbviewer.org.</b></div><div class=\"sk-container\" hidden><div class=\"sk-item sk-dashed-wrapped\"><div class=\"sk-label-container\"><div class=\"sk-label sk-toggleable\"><input class=\"sk-toggleable__control sk-hidden--visually\" id=\"sk-estimator-id-21\" type=\"checkbox\" ><label for=\"sk-estimator-id-21\" class=\"sk-toggleable__label sk-toggleable__label-arrow\">GridSearchCV</label><div class=\"sk-toggleable__content\"><pre>GridSearchCV(cv=5,\n",
              "             estimator=Pipeline(steps=[(&#x27;tvec&#x27;, TfidfVectorizer()),\n",
              "                                       (&#x27;logr&#x27;,\n",
              "                                        LogisticRegressionCV(solver=&#x27;liblinear&#x27;))]),\n",
              "             param_grid={&#x27;tvec__max_df&#x27;: [0.9, 0.95],\n",
              "                         &#x27;tvec__max_features&#x27;: [5000], &#x27;tvec__min_df&#x27;: [2, 5],\n",
              "                         &#x27;tvec__ngram_range&#x27;: [(1, 1), (1, 2), (2, 2)],\n",
              "                         &#x27;tvec__stop_words&#x27;: [[&#x27;i&#x27;, &#x27;me&#x27;, &#x27;my&#x27;, &#x27;myself&#x27;, &#x27;we&#x27;,\n",
              "                                               &#x27;our&#x27;, &#x27;ours&#x27;, &#x27;ourselves&#x27;,\n",
              "                                               &#x27;you&#x27;, &quot;you&#x27;re&quot;, &quot;you&#x27;ve&quot;,\n",
              "                                               &quot;you&#x27;ll&quot;, &quot;you&#x27;d&quot;, &#x27;your&#x27;,\n",
              "                                               &#x27;yours&#x27;, &#x27;yourself&#x27;,\n",
              "                                               &#x27;yourselves&#x27;, &#x27;he&#x27;, &#x27;him&#x27;, &#x27;his&#x27;,\n",
              "                                               &#x27;himself&#x27;, &#x27;she&#x27;, &quot;she&#x27;s&quot;, &#x27;her&#x27;,\n",
              "                                               &#x27;hers&#x27;, &#x27;herself&#x27;, &#x27;it&#x27;, &quot;it&#x27;s&quot;,\n",
              "                                               &#x27;its&#x27;, &#x27;itself&#x27;, ...]]})</pre></div></div></div><div class=\"sk-parallel\"><div class=\"sk-parallel-item\"><div class=\"sk-item\"><div class=\"sk-label-container\"><div class=\"sk-label sk-toggleable\"><input class=\"sk-toggleable__control sk-hidden--visually\" id=\"sk-estimator-id-22\" type=\"checkbox\" ><label for=\"sk-estimator-id-22\" class=\"sk-toggleable__label sk-toggleable__label-arrow\">estimator: Pipeline</label><div class=\"sk-toggleable__content\"><pre>Pipeline(steps=[(&#x27;tvec&#x27;, TfidfVectorizer()),\n",
              "                (&#x27;logr&#x27;, LogisticRegressionCV(solver=&#x27;liblinear&#x27;))])</pre></div></div></div><div class=\"sk-serial\"><div class=\"sk-item\"><div class=\"sk-serial\"><div class=\"sk-item\"><div class=\"sk-estimator sk-toggleable\"><input class=\"sk-toggleable__control sk-hidden--visually\" id=\"sk-estimator-id-23\" type=\"checkbox\" ><label for=\"sk-estimator-id-23\" class=\"sk-toggleable__label sk-toggleable__label-arrow\">TfidfVectorizer</label><div class=\"sk-toggleable__content\"><pre>TfidfVectorizer()</pre></div></div></div><div class=\"sk-item\"><div class=\"sk-estimator sk-toggleable\"><input class=\"sk-toggleable__control sk-hidden--visually\" id=\"sk-estimator-id-24\" type=\"checkbox\" ><label for=\"sk-estimator-id-24\" class=\"sk-toggleable__label sk-toggleable__label-arrow\">LogisticRegressionCV</label><div class=\"sk-toggleable__content\"><pre>LogisticRegressionCV(solver=&#x27;liblinear&#x27;)</pre></div></div></div></div></div></div></div></div></div></div></div></div>"
            ]
          },
          "metadata": {},
          "execution_count": 405
        }
      ]
    },
    {
      "cell_type": "code",
      "source": [
        "gs_title_tvec_logr_preds = gs_title_tvec_logr.predict(Xtitle_test)"
      ],
      "metadata": {
        "id": "ULWB4PqJuD6k"
      },
      "execution_count": 406,
      "outputs": []
    },
    {
      "cell_type": "code",
      "source": [
        "logistic_tvec_title = evaluation(\"Logistical Regression TVEC \", y_test, gs_title_tvec_logr_preds, gs_title_tvec_logr, Xtitle_train, Xtitle_test)"
      ],
      "metadata": {
        "id": "ERUY3_L-uOE1"
      },
      "execution_count": 407,
      "outputs": []
    },
    {
      "cell_type": "code",
      "source": [
        "logistic_tvec_title"
      ],
      "metadata": {
        "colab": {
          "base_uri": "https://localhost:8080/",
          "height": 80
        },
        "id": "lDsoEklYuqNY",
        "outputId": "1ba7ef49-a669-441d-b283-e275fec0eda3"
      },
      "execution_count": 408,
      "outputs": [
        {
          "output_type": "execute_result",
          "data": {
            "text/plain": [
              "                         Model  Score on train  Score on test  Sensitivity  \\\n",
              "0  Logistical Regression TVEC            0.817          0.616        0.955   \n",
              "\n",
              "   Specificity  Precision  F1 Score  \n",
              "0        0.333      0.977     0.966  "
            ],
            "text/html": [
              "\n",
              "  <div id=\"df-4792fe57-0780-4392-98e0-ec3d64dcac77\" class=\"colab-df-container\">\n",
              "    <div>\n",
              "<style scoped>\n",
              "    .dataframe tbody tr th:only-of-type {\n",
              "        vertical-align: middle;\n",
              "    }\n",
              "\n",
              "    .dataframe tbody tr th {\n",
              "        vertical-align: top;\n",
              "    }\n",
              "\n",
              "    .dataframe thead th {\n",
              "        text-align: right;\n",
              "    }\n",
              "</style>\n",
              "<table border=\"1\" class=\"dataframe\">\n",
              "  <thead>\n",
              "    <tr style=\"text-align: right;\">\n",
              "      <th></th>\n",
              "      <th>Model</th>\n",
              "      <th>Score on train</th>\n",
              "      <th>Score on test</th>\n",
              "      <th>Sensitivity</th>\n",
              "      <th>Specificity</th>\n",
              "      <th>Precision</th>\n",
              "      <th>F1 Score</th>\n",
              "    </tr>\n",
              "  </thead>\n",
              "  <tbody>\n",
              "    <tr>\n",
              "      <th>0</th>\n",
              "      <td>Logistical Regression TVEC</td>\n",
              "      <td>0.817</td>\n",
              "      <td>0.616</td>\n",
              "      <td>0.955</td>\n",
              "      <td>0.333</td>\n",
              "      <td>0.977</td>\n",
              "      <td>0.966</td>\n",
              "    </tr>\n",
              "  </tbody>\n",
              "</table>\n",
              "</div>\n",
              "    <div class=\"colab-df-buttons\">\n",
              "\n",
              "  <div class=\"colab-df-container\">\n",
              "    <button class=\"colab-df-convert\" onclick=\"convertToInteractive('df-4792fe57-0780-4392-98e0-ec3d64dcac77')\"\n",
              "            title=\"Convert this dataframe to an interactive table.\"\n",
              "            style=\"display:none;\">\n",
              "\n",
              "  <svg xmlns=\"http://www.w3.org/2000/svg\" height=\"24px\" viewBox=\"0 -960 960 960\">\n",
              "    <path d=\"M120-120v-720h720v720H120Zm60-500h600v-160H180v160Zm220 220h160v-160H400v160Zm0 220h160v-160H400v160ZM180-400h160v-160H180v160Zm440 0h160v-160H620v160ZM180-180h160v-160H180v160Zm440 0h160v-160H620v160Z\"/>\n",
              "  </svg>\n",
              "    </button>\n",
              "\n",
              "  <style>\n",
              "    .colab-df-container {\n",
              "      display:flex;\n",
              "      gap: 12px;\n",
              "    }\n",
              "\n",
              "    .colab-df-convert {\n",
              "      background-color: #E8F0FE;\n",
              "      border: none;\n",
              "      border-radius: 50%;\n",
              "      cursor: pointer;\n",
              "      display: none;\n",
              "      fill: #1967D2;\n",
              "      height: 32px;\n",
              "      padding: 0 0 0 0;\n",
              "      width: 32px;\n",
              "    }\n",
              "\n",
              "    .colab-df-convert:hover {\n",
              "      background-color: #E2EBFA;\n",
              "      box-shadow: 0px 1px 2px rgba(60, 64, 67, 0.3), 0px 1px 3px 1px rgba(60, 64, 67, 0.15);\n",
              "      fill: #174EA6;\n",
              "    }\n",
              "\n",
              "    .colab-df-buttons div {\n",
              "      margin-bottom: 4px;\n",
              "    }\n",
              "\n",
              "    [theme=dark] .colab-df-convert {\n",
              "      background-color: #3B4455;\n",
              "      fill: #D2E3FC;\n",
              "    }\n",
              "\n",
              "    [theme=dark] .colab-df-convert:hover {\n",
              "      background-color: #434B5C;\n",
              "      box-shadow: 0px 1px 3px 1px rgba(0, 0, 0, 0.15);\n",
              "      filter: drop-shadow(0px 1px 2px rgba(0, 0, 0, 0.3));\n",
              "      fill: #FFFFFF;\n",
              "    }\n",
              "  </style>\n",
              "\n",
              "    <script>\n",
              "      const buttonEl =\n",
              "        document.querySelector('#df-4792fe57-0780-4392-98e0-ec3d64dcac77 button.colab-df-convert');\n",
              "      buttonEl.style.display =\n",
              "        google.colab.kernel.accessAllowed ? 'block' : 'none';\n",
              "\n",
              "      async function convertToInteractive(key) {\n",
              "        const element = document.querySelector('#df-4792fe57-0780-4392-98e0-ec3d64dcac77');\n",
              "        const dataTable =\n",
              "          await google.colab.kernel.invokeFunction('convertToInteractive',\n",
              "                                                    [key], {});\n",
              "        if (!dataTable) return;\n",
              "\n",
              "        const docLinkHtml = 'Like what you see? Visit the ' +\n",
              "          '<a target=\"_blank\" href=https://colab.research.google.com/notebooks/data_table.ipynb>data table notebook</a>'\n",
              "          + ' to learn more about interactive tables.';\n",
              "        element.innerHTML = '';\n",
              "        dataTable['output_type'] = 'display_data';\n",
              "        await google.colab.output.renderOutput(dataTable, element);\n",
              "        const docLink = document.createElement('div');\n",
              "        docLink.innerHTML = docLinkHtml;\n",
              "        element.appendChild(docLink);\n",
              "      }\n",
              "    </script>\n",
              "  </div>\n",
              "\n",
              "    </div>\n",
              "  </div>\n"
            ]
          },
          "metadata": {},
          "execution_count": 408
        }
      ]
    },
    {
      "cell_type": "markdown",
      "source": [
        "## Tech Skills"
      ],
      "metadata": {
        "id": "Bc2iGFmGhE6D"
      }
    },
    {
      "cell_type": "code",
      "source": [
        "techskills.head()"
      ],
      "metadata": {
        "colab": {
          "base_uri": "https://localhost:8080/",
          "height": 310
        },
        "id": "qPK9eDEnZgFV",
        "outputId": "8190bc37-6f4c-4c2f-f860-70b55790a0ea"
      },
      "execution_count": 72,
      "outputs": [
        {
          "output_type": "execute_result",
          "data": {
            "text/plain": [
              "  O*NET-SOC Code             Title  \\\n",
              "0     11-1011.00  Chief Executives   \n",
              "1     11-1011.00  Chief Executives   \n",
              "2     11-1011.00  Chief Executives   \n",
              "3     11-1011.00  Chief Executives   \n",
              "4     11-1011.00  Chief Executives   \n",
              "\n",
              "                                         Example  Commodity Code  \\\n",
              "0                    Adobe Systems Adobe Acrobat        43232202   \n",
              "1                                AdSense Tracker        43232306   \n",
              "2                                 Atlassian JIRA        43232201   \n",
              "3                    Blackbaud The Raiser's Edge        43232303   \n",
              "4  ComputerEase construction accounting software        43231601   \n",
              "\n",
              "                                 Commodity Title Hot Technology In Demand  \n",
              "0                   Document management software              Y         N  \n",
              "1    Data base user interface and query software              N         N  \n",
              "2                      Content workflow software              Y         N  \n",
              "3  Customer relationship management CRM software              N         N  \n",
              "4                            Accounting software              N         N  "
            ],
            "text/html": [
              "\n",
              "  <div id=\"df-381d64fa-d213-4911-a37f-172ba6fe87f7\" class=\"colab-df-container\">\n",
              "    <div>\n",
              "<style scoped>\n",
              "    .dataframe tbody tr th:only-of-type {\n",
              "        vertical-align: middle;\n",
              "    }\n",
              "\n",
              "    .dataframe tbody tr th {\n",
              "        vertical-align: top;\n",
              "    }\n",
              "\n",
              "    .dataframe thead th {\n",
              "        text-align: right;\n",
              "    }\n",
              "</style>\n",
              "<table border=\"1\" class=\"dataframe\">\n",
              "  <thead>\n",
              "    <tr style=\"text-align: right;\">\n",
              "      <th></th>\n",
              "      <th>O*NET-SOC Code</th>\n",
              "      <th>Title</th>\n",
              "      <th>Example</th>\n",
              "      <th>Commodity Code</th>\n",
              "      <th>Commodity Title</th>\n",
              "      <th>Hot Technology</th>\n",
              "      <th>In Demand</th>\n",
              "    </tr>\n",
              "  </thead>\n",
              "  <tbody>\n",
              "    <tr>\n",
              "      <th>0</th>\n",
              "      <td>11-1011.00</td>\n",
              "      <td>Chief Executives</td>\n",
              "      <td>Adobe Systems Adobe Acrobat</td>\n",
              "      <td>43232202</td>\n",
              "      <td>Document management software</td>\n",
              "      <td>Y</td>\n",
              "      <td>N</td>\n",
              "    </tr>\n",
              "    <tr>\n",
              "      <th>1</th>\n",
              "      <td>11-1011.00</td>\n",
              "      <td>Chief Executives</td>\n",
              "      <td>AdSense Tracker</td>\n",
              "      <td>43232306</td>\n",
              "      <td>Data base user interface and query software</td>\n",
              "      <td>N</td>\n",
              "      <td>N</td>\n",
              "    </tr>\n",
              "    <tr>\n",
              "      <th>2</th>\n",
              "      <td>11-1011.00</td>\n",
              "      <td>Chief Executives</td>\n",
              "      <td>Atlassian JIRA</td>\n",
              "      <td>43232201</td>\n",
              "      <td>Content workflow software</td>\n",
              "      <td>Y</td>\n",
              "      <td>N</td>\n",
              "    </tr>\n",
              "    <tr>\n",
              "      <th>3</th>\n",
              "      <td>11-1011.00</td>\n",
              "      <td>Chief Executives</td>\n",
              "      <td>Blackbaud The Raiser's Edge</td>\n",
              "      <td>43232303</td>\n",
              "      <td>Customer relationship management CRM software</td>\n",
              "      <td>N</td>\n",
              "      <td>N</td>\n",
              "    </tr>\n",
              "    <tr>\n",
              "      <th>4</th>\n",
              "      <td>11-1011.00</td>\n",
              "      <td>Chief Executives</td>\n",
              "      <td>ComputerEase construction accounting software</td>\n",
              "      <td>43231601</td>\n",
              "      <td>Accounting software</td>\n",
              "      <td>N</td>\n",
              "      <td>N</td>\n",
              "    </tr>\n",
              "  </tbody>\n",
              "</table>\n",
              "</div>\n",
              "    <div class=\"colab-df-buttons\">\n",
              "\n",
              "  <div class=\"colab-df-container\">\n",
              "    <button class=\"colab-df-convert\" onclick=\"convertToInteractive('df-381d64fa-d213-4911-a37f-172ba6fe87f7')\"\n",
              "            title=\"Convert this dataframe to an interactive table.\"\n",
              "            style=\"display:none;\">\n",
              "\n",
              "  <svg xmlns=\"http://www.w3.org/2000/svg\" height=\"24px\" viewBox=\"0 -960 960 960\">\n",
              "    <path d=\"M120-120v-720h720v720H120Zm60-500h600v-160H180v160Zm220 220h160v-160H400v160Zm0 220h160v-160H400v160ZM180-400h160v-160H180v160Zm440 0h160v-160H620v160ZM180-180h160v-160H180v160Zm440 0h160v-160H620v160Z\"/>\n",
              "  </svg>\n",
              "    </button>\n",
              "\n",
              "  <style>\n",
              "    .colab-df-container {\n",
              "      display:flex;\n",
              "      gap: 12px;\n",
              "    }\n",
              "\n",
              "    .colab-df-convert {\n",
              "      background-color: #E8F0FE;\n",
              "      border: none;\n",
              "      border-radius: 50%;\n",
              "      cursor: pointer;\n",
              "      display: none;\n",
              "      fill: #1967D2;\n",
              "      height: 32px;\n",
              "      padding: 0 0 0 0;\n",
              "      width: 32px;\n",
              "    }\n",
              "\n",
              "    .colab-df-convert:hover {\n",
              "      background-color: #E2EBFA;\n",
              "      box-shadow: 0px 1px 2px rgba(60, 64, 67, 0.3), 0px 1px 3px 1px rgba(60, 64, 67, 0.15);\n",
              "      fill: #174EA6;\n",
              "    }\n",
              "\n",
              "    .colab-df-buttons div {\n",
              "      margin-bottom: 4px;\n",
              "    }\n",
              "\n",
              "    [theme=dark] .colab-df-convert {\n",
              "      background-color: #3B4455;\n",
              "      fill: #D2E3FC;\n",
              "    }\n",
              "\n",
              "    [theme=dark] .colab-df-convert:hover {\n",
              "      background-color: #434B5C;\n",
              "      box-shadow: 0px 1px 3px 1px rgba(0, 0, 0, 0.15);\n",
              "      filter: drop-shadow(0px 1px 2px rgba(0, 0, 0, 0.3));\n",
              "      fill: #FFFFFF;\n",
              "    }\n",
              "  </style>\n",
              "\n",
              "    <script>\n",
              "      const buttonEl =\n",
              "        document.querySelector('#df-381d64fa-d213-4911-a37f-172ba6fe87f7 button.colab-df-convert');\n",
              "      buttonEl.style.display =\n",
              "        google.colab.kernel.accessAllowed ? 'block' : 'none';\n",
              "\n",
              "      async function convertToInteractive(key) {\n",
              "        const element = document.querySelector('#df-381d64fa-d213-4911-a37f-172ba6fe87f7');\n",
              "        const dataTable =\n",
              "          await google.colab.kernel.invokeFunction('convertToInteractive',\n",
              "                                                    [key], {});\n",
              "        if (!dataTable) return;\n",
              "\n",
              "        const docLinkHtml = 'Like what you see? Visit the ' +\n",
              "          '<a target=\"_blank\" href=https://colab.research.google.com/notebooks/data_table.ipynb>data table notebook</a>'\n",
              "          + ' to learn more about interactive tables.';\n",
              "        element.innerHTML = '';\n",
              "        dataTable['output_type'] = 'display_data';\n",
              "        await google.colab.output.renderOutput(dataTable, element);\n",
              "        const docLink = document.createElement('div');\n",
              "        docLink.innerHTML = docLinkHtml;\n",
              "        element.appendChild(docLink);\n",
              "      }\n",
              "    </script>\n",
              "  </div>\n",
              "\n",
              "\n",
              "<div id=\"df-fb095e8b-5bf4-4e7d-9636-db6ee5c68a49\">\n",
              "  <button class=\"colab-df-quickchart\" onclick=\"quickchart('df-fb095e8b-5bf4-4e7d-9636-db6ee5c68a49')\"\n",
              "            title=\"Suggest charts.\"\n",
              "            style=\"display:none;\">\n",
              "\n",
              "<svg xmlns=\"http://www.w3.org/2000/svg\" height=\"24px\"viewBox=\"0 0 24 24\"\n",
              "     width=\"24px\">\n",
              "    <g>\n",
              "        <path d=\"M19 3H5c-1.1 0-2 .9-2 2v14c0 1.1.9 2 2 2h14c1.1 0 2-.9 2-2V5c0-1.1-.9-2-2-2zM9 17H7v-7h2v7zm4 0h-2V7h2v10zm4 0h-2v-4h2v4z\"/>\n",
              "    </g>\n",
              "</svg>\n",
              "  </button>\n",
              "\n",
              "<style>\n",
              "  .colab-df-quickchart {\n",
              "      --bg-color: #E8F0FE;\n",
              "      --fill-color: #1967D2;\n",
              "      --hover-bg-color: #E2EBFA;\n",
              "      --hover-fill-color: #174EA6;\n",
              "      --disabled-fill-color: #AAA;\n",
              "      --disabled-bg-color: #DDD;\n",
              "  }\n",
              "\n",
              "  [theme=dark] .colab-df-quickchart {\n",
              "      --bg-color: #3B4455;\n",
              "      --fill-color: #D2E3FC;\n",
              "      --hover-bg-color: #434B5C;\n",
              "      --hover-fill-color: #FFFFFF;\n",
              "      --disabled-bg-color: #3B4455;\n",
              "      --disabled-fill-color: #666;\n",
              "  }\n",
              "\n",
              "  .colab-df-quickchart {\n",
              "    background-color: var(--bg-color);\n",
              "    border: none;\n",
              "    border-radius: 50%;\n",
              "    cursor: pointer;\n",
              "    display: none;\n",
              "    fill: var(--fill-color);\n",
              "    height: 32px;\n",
              "    padding: 0;\n",
              "    width: 32px;\n",
              "  }\n",
              "\n",
              "  .colab-df-quickchart:hover {\n",
              "    background-color: var(--hover-bg-color);\n",
              "    box-shadow: 0 1px 2px rgba(60, 64, 67, 0.3), 0 1px 3px 1px rgba(60, 64, 67, 0.15);\n",
              "    fill: var(--button-hover-fill-color);\n",
              "  }\n",
              "\n",
              "  .colab-df-quickchart-complete:disabled,\n",
              "  .colab-df-quickchart-complete:disabled:hover {\n",
              "    background-color: var(--disabled-bg-color);\n",
              "    fill: var(--disabled-fill-color);\n",
              "    box-shadow: none;\n",
              "  }\n",
              "\n",
              "  .colab-df-spinner {\n",
              "    border: 2px solid var(--fill-color);\n",
              "    border-color: transparent;\n",
              "    border-bottom-color: var(--fill-color);\n",
              "    animation:\n",
              "      spin 1s steps(1) infinite;\n",
              "  }\n",
              "\n",
              "  @keyframes spin {\n",
              "    0% {\n",
              "      border-color: transparent;\n",
              "      border-bottom-color: var(--fill-color);\n",
              "      border-left-color: var(--fill-color);\n",
              "    }\n",
              "    20% {\n",
              "      border-color: transparent;\n",
              "      border-left-color: var(--fill-color);\n",
              "      border-top-color: var(--fill-color);\n",
              "    }\n",
              "    30% {\n",
              "      border-color: transparent;\n",
              "      border-left-color: var(--fill-color);\n",
              "      border-top-color: var(--fill-color);\n",
              "      border-right-color: var(--fill-color);\n",
              "    }\n",
              "    40% {\n",
              "      border-color: transparent;\n",
              "      border-right-color: var(--fill-color);\n",
              "      border-top-color: var(--fill-color);\n",
              "    }\n",
              "    60% {\n",
              "      border-color: transparent;\n",
              "      border-right-color: var(--fill-color);\n",
              "    }\n",
              "    80% {\n",
              "      border-color: transparent;\n",
              "      border-right-color: var(--fill-color);\n",
              "      border-bottom-color: var(--fill-color);\n",
              "    }\n",
              "    90% {\n",
              "      border-color: transparent;\n",
              "      border-bottom-color: var(--fill-color);\n",
              "    }\n",
              "  }\n",
              "</style>\n",
              "\n",
              "  <script>\n",
              "    async function quickchart(key) {\n",
              "      const quickchartButtonEl =\n",
              "        document.querySelector('#' + key + ' button');\n",
              "      quickchartButtonEl.disabled = true;  // To prevent multiple clicks.\n",
              "      quickchartButtonEl.classList.add('colab-df-spinner');\n",
              "      try {\n",
              "        const charts = await google.colab.kernel.invokeFunction(\n",
              "            'suggestCharts', [key], {});\n",
              "      } catch (error) {\n",
              "        console.error('Error during call to suggestCharts:', error);\n",
              "      }\n",
              "      quickchartButtonEl.classList.remove('colab-df-spinner');\n",
              "      quickchartButtonEl.classList.add('colab-df-quickchart-complete');\n",
              "    }\n",
              "    (() => {\n",
              "      let quickchartButtonEl =\n",
              "        document.querySelector('#df-fb095e8b-5bf4-4e7d-9636-db6ee5c68a49 button');\n",
              "      quickchartButtonEl.style.display =\n",
              "        google.colab.kernel.accessAllowed ? 'block' : 'none';\n",
              "    })();\n",
              "  </script>\n",
              "</div>\n",
              "    </div>\n",
              "  </div>\n"
            ]
          },
          "metadata": {},
          "execution_count": 72
        }
      ]
    },
    {
      "cell_type": "code",
      "source": [
        "techskills.rename(columns = {\"Example\" : \"Tool\"}, inplace = True)"
      ],
      "metadata": {
        "id": "vgXmh7nLi1Oj"
      },
      "execution_count": 75,
      "outputs": []
    },
    {
      "cell_type": "code",
      "source": [
        "tech_merge = pd.merge(left = techskills, right = full_dataset_combined_,\n",
        "                             left_on = \"O*NET-SOC Code\", right_on = \"O*NET-SOC Code\", how=\"left\")"
      ],
      "metadata": {
        "id": "uZ6Ghkv6uw0X"
      },
      "execution_count": 185,
      "outputs": []
    },
    {
      "cell_type": "code",
      "source": [
        "tech_df = tech_merge.groupby(\"O*NET-SOC Code\")[\"Tool\"].apply(np.unique)"
      ],
      "metadata": {
        "id": "GwGfiPoau6tx"
      },
      "execution_count": 187,
      "outputs": []
    },
    {
      "cell_type": "code",
      "source": [
        "tech_df.reset_index()"
      ],
      "metadata": {
        "colab": {
          "base_uri": "https://localhost:8080/",
          "height": 423
        },
        "id": "ekpdlbrb6DdT",
        "outputId": "4ffa97ac-de88-49ba-edd1-3796db17c1b1"
      },
      "execution_count": 188,
      "outputs": [
        {
          "output_type": "execute_result",
          "data": {
            "text/plain": [
              "    O*NET-SOC Code                                               Tool\n",
              "0       11-1011.00  [AdSense Tracker, Adobe Systems Adobe Acrobat,...\n",
              "1       11-1011.03  [Adobe Systems Adobe Acrobat, Adobe Systems Ad...\n",
              "2       11-1021.00  [ADP Workforce Now, AMG Teleran SalesInSync, A...\n",
              "3       11-1031.00  [Adobe Systems Adobe Acrobat, Adobe Systems Ad...\n",
              "4       11-2011.00  [Actuate BIRT, AdRelevance, Adobe Systems Adob...\n",
              "..             ...                                                ...\n",
              "918     53-7071.00  [Computerized maintenance management system CM...\n",
              "919     53-7072.00  [Computerized maintenance management system CM...\n",
              "920     53-7073.00  [Microsoft Excel, Microsoft Office software, M...\n",
              "921     53-7081.00  [AMCS Platform, Computerized maintenance manag...\n",
              "922     53-7121.00  [CompuWeigh GMS, Distributed control system DC...\n",
              "\n",
              "[923 rows x 2 columns]"
            ],
            "text/html": [
              "\n",
              "  <div id=\"df-8728604d-2a76-45ef-b73e-af3c93b6408f\" class=\"colab-df-container\">\n",
              "    <div>\n",
              "<style scoped>\n",
              "    .dataframe tbody tr th:only-of-type {\n",
              "        vertical-align: middle;\n",
              "    }\n",
              "\n",
              "    .dataframe tbody tr th {\n",
              "        vertical-align: top;\n",
              "    }\n",
              "\n",
              "    .dataframe thead th {\n",
              "        text-align: right;\n",
              "    }\n",
              "</style>\n",
              "<table border=\"1\" class=\"dataframe\">\n",
              "  <thead>\n",
              "    <tr style=\"text-align: right;\">\n",
              "      <th></th>\n",
              "      <th>O*NET-SOC Code</th>\n",
              "      <th>Tool</th>\n",
              "    </tr>\n",
              "  </thead>\n",
              "  <tbody>\n",
              "    <tr>\n",
              "      <th>0</th>\n",
              "      <td>11-1011.00</td>\n",
              "      <td>[AdSense Tracker, Adobe Systems Adobe Acrobat,...</td>\n",
              "    </tr>\n",
              "    <tr>\n",
              "      <th>1</th>\n",
              "      <td>11-1011.03</td>\n",
              "      <td>[Adobe Systems Adobe Acrobat, Adobe Systems Ad...</td>\n",
              "    </tr>\n",
              "    <tr>\n",
              "      <th>2</th>\n",
              "      <td>11-1021.00</td>\n",
              "      <td>[ADP Workforce Now, AMG Teleran SalesInSync, A...</td>\n",
              "    </tr>\n",
              "    <tr>\n",
              "      <th>3</th>\n",
              "      <td>11-1031.00</td>\n",
              "      <td>[Adobe Systems Adobe Acrobat, Adobe Systems Ad...</td>\n",
              "    </tr>\n",
              "    <tr>\n",
              "      <th>4</th>\n",
              "      <td>11-2011.00</td>\n",
              "      <td>[Actuate BIRT, AdRelevance, Adobe Systems Adob...</td>\n",
              "    </tr>\n",
              "    <tr>\n",
              "      <th>...</th>\n",
              "      <td>...</td>\n",
              "      <td>...</td>\n",
              "    </tr>\n",
              "    <tr>\n",
              "      <th>918</th>\n",
              "      <td>53-7071.00</td>\n",
              "      <td>[Computerized maintenance management system CM...</td>\n",
              "    </tr>\n",
              "    <tr>\n",
              "      <th>919</th>\n",
              "      <td>53-7072.00</td>\n",
              "      <td>[Computerized maintenance management system CM...</td>\n",
              "    </tr>\n",
              "    <tr>\n",
              "      <th>920</th>\n",
              "      <td>53-7073.00</td>\n",
              "      <td>[Microsoft Excel, Microsoft Office software, M...</td>\n",
              "    </tr>\n",
              "    <tr>\n",
              "      <th>921</th>\n",
              "      <td>53-7081.00</td>\n",
              "      <td>[AMCS Platform, Computerized maintenance manag...</td>\n",
              "    </tr>\n",
              "    <tr>\n",
              "      <th>922</th>\n",
              "      <td>53-7121.00</td>\n",
              "      <td>[CompuWeigh GMS, Distributed control system DC...</td>\n",
              "    </tr>\n",
              "  </tbody>\n",
              "</table>\n",
              "<p>923 rows × 2 columns</p>\n",
              "</div>\n",
              "    <div class=\"colab-df-buttons\">\n",
              "\n",
              "  <div class=\"colab-df-container\">\n",
              "    <button class=\"colab-df-convert\" onclick=\"convertToInteractive('df-8728604d-2a76-45ef-b73e-af3c93b6408f')\"\n",
              "            title=\"Convert this dataframe to an interactive table.\"\n",
              "            style=\"display:none;\">\n",
              "\n",
              "  <svg xmlns=\"http://www.w3.org/2000/svg\" height=\"24px\" viewBox=\"0 -960 960 960\">\n",
              "    <path d=\"M120-120v-720h720v720H120Zm60-500h600v-160H180v160Zm220 220h160v-160H400v160Zm0 220h160v-160H400v160ZM180-400h160v-160H180v160Zm440 0h160v-160H620v160ZM180-180h160v-160H180v160Zm440 0h160v-160H620v160Z\"/>\n",
              "  </svg>\n",
              "    </button>\n",
              "\n",
              "  <style>\n",
              "    .colab-df-container {\n",
              "      display:flex;\n",
              "      gap: 12px;\n",
              "    }\n",
              "\n",
              "    .colab-df-convert {\n",
              "      background-color: #E8F0FE;\n",
              "      border: none;\n",
              "      border-radius: 50%;\n",
              "      cursor: pointer;\n",
              "      display: none;\n",
              "      fill: #1967D2;\n",
              "      height: 32px;\n",
              "      padding: 0 0 0 0;\n",
              "      width: 32px;\n",
              "    }\n",
              "\n",
              "    .colab-df-convert:hover {\n",
              "      background-color: #E2EBFA;\n",
              "      box-shadow: 0px 1px 2px rgba(60, 64, 67, 0.3), 0px 1px 3px 1px rgba(60, 64, 67, 0.15);\n",
              "      fill: #174EA6;\n",
              "    }\n",
              "\n",
              "    .colab-df-buttons div {\n",
              "      margin-bottom: 4px;\n",
              "    }\n",
              "\n",
              "    [theme=dark] .colab-df-convert {\n",
              "      background-color: #3B4455;\n",
              "      fill: #D2E3FC;\n",
              "    }\n",
              "\n",
              "    [theme=dark] .colab-df-convert:hover {\n",
              "      background-color: #434B5C;\n",
              "      box-shadow: 0px 1px 3px 1px rgba(0, 0, 0, 0.15);\n",
              "      filter: drop-shadow(0px 1px 2px rgba(0, 0, 0, 0.3));\n",
              "      fill: #FFFFFF;\n",
              "    }\n",
              "  </style>\n",
              "\n",
              "    <script>\n",
              "      const buttonEl =\n",
              "        document.querySelector('#df-8728604d-2a76-45ef-b73e-af3c93b6408f button.colab-df-convert');\n",
              "      buttonEl.style.display =\n",
              "        google.colab.kernel.accessAllowed ? 'block' : 'none';\n",
              "\n",
              "      async function convertToInteractive(key) {\n",
              "        const element = document.querySelector('#df-8728604d-2a76-45ef-b73e-af3c93b6408f');\n",
              "        const dataTable =\n",
              "          await google.colab.kernel.invokeFunction('convertToInteractive',\n",
              "                                                    [key], {});\n",
              "        if (!dataTable) return;\n",
              "\n",
              "        const docLinkHtml = 'Like what you see? Visit the ' +\n",
              "          '<a target=\"_blank\" href=https://colab.research.google.com/notebooks/data_table.ipynb>data table notebook</a>'\n",
              "          + ' to learn more about interactive tables.';\n",
              "        element.innerHTML = '';\n",
              "        dataTable['output_type'] = 'display_data';\n",
              "        await google.colab.output.renderOutput(dataTable, element);\n",
              "        const docLink = document.createElement('div');\n",
              "        docLink.innerHTML = docLinkHtml;\n",
              "        element.appendChild(docLink);\n",
              "      }\n",
              "    </script>\n",
              "  </div>\n",
              "\n",
              "\n",
              "<div id=\"df-972b5c17-7a9a-4b84-87c8-55e6690ffff7\">\n",
              "  <button class=\"colab-df-quickchart\" onclick=\"quickchart('df-972b5c17-7a9a-4b84-87c8-55e6690ffff7')\"\n",
              "            title=\"Suggest charts.\"\n",
              "            style=\"display:none;\">\n",
              "\n",
              "<svg xmlns=\"http://www.w3.org/2000/svg\" height=\"24px\"viewBox=\"0 0 24 24\"\n",
              "     width=\"24px\">\n",
              "    <g>\n",
              "        <path d=\"M19 3H5c-1.1 0-2 .9-2 2v14c0 1.1.9 2 2 2h14c1.1 0 2-.9 2-2V5c0-1.1-.9-2-2-2zM9 17H7v-7h2v7zm4 0h-2V7h2v10zm4 0h-2v-4h2v4z\"/>\n",
              "    </g>\n",
              "</svg>\n",
              "  </button>\n",
              "\n",
              "<style>\n",
              "  .colab-df-quickchart {\n",
              "      --bg-color: #E8F0FE;\n",
              "      --fill-color: #1967D2;\n",
              "      --hover-bg-color: #E2EBFA;\n",
              "      --hover-fill-color: #174EA6;\n",
              "      --disabled-fill-color: #AAA;\n",
              "      --disabled-bg-color: #DDD;\n",
              "  }\n",
              "\n",
              "  [theme=dark] .colab-df-quickchart {\n",
              "      --bg-color: #3B4455;\n",
              "      --fill-color: #D2E3FC;\n",
              "      --hover-bg-color: #434B5C;\n",
              "      --hover-fill-color: #FFFFFF;\n",
              "      --disabled-bg-color: #3B4455;\n",
              "      --disabled-fill-color: #666;\n",
              "  }\n",
              "\n",
              "  .colab-df-quickchart {\n",
              "    background-color: var(--bg-color);\n",
              "    border: none;\n",
              "    border-radius: 50%;\n",
              "    cursor: pointer;\n",
              "    display: none;\n",
              "    fill: var(--fill-color);\n",
              "    height: 32px;\n",
              "    padding: 0;\n",
              "    width: 32px;\n",
              "  }\n",
              "\n",
              "  .colab-df-quickchart:hover {\n",
              "    background-color: var(--hover-bg-color);\n",
              "    box-shadow: 0 1px 2px rgba(60, 64, 67, 0.3), 0 1px 3px 1px rgba(60, 64, 67, 0.15);\n",
              "    fill: var(--button-hover-fill-color);\n",
              "  }\n",
              "\n",
              "  .colab-df-quickchart-complete:disabled,\n",
              "  .colab-df-quickchart-complete:disabled:hover {\n",
              "    background-color: var(--disabled-bg-color);\n",
              "    fill: var(--disabled-fill-color);\n",
              "    box-shadow: none;\n",
              "  }\n",
              "\n",
              "  .colab-df-spinner {\n",
              "    border: 2px solid var(--fill-color);\n",
              "    border-color: transparent;\n",
              "    border-bottom-color: var(--fill-color);\n",
              "    animation:\n",
              "      spin 1s steps(1) infinite;\n",
              "  }\n",
              "\n",
              "  @keyframes spin {\n",
              "    0% {\n",
              "      border-color: transparent;\n",
              "      border-bottom-color: var(--fill-color);\n",
              "      border-left-color: var(--fill-color);\n",
              "    }\n",
              "    20% {\n",
              "      border-color: transparent;\n",
              "      border-left-color: var(--fill-color);\n",
              "      border-top-color: var(--fill-color);\n",
              "    }\n",
              "    30% {\n",
              "      border-color: transparent;\n",
              "      border-left-color: var(--fill-color);\n",
              "      border-top-color: var(--fill-color);\n",
              "      border-right-color: var(--fill-color);\n",
              "    }\n",
              "    40% {\n",
              "      border-color: transparent;\n",
              "      border-right-color: var(--fill-color);\n",
              "      border-top-color: var(--fill-color);\n",
              "    }\n",
              "    60% {\n",
              "      border-color: transparent;\n",
              "      border-right-color: var(--fill-color);\n",
              "    }\n",
              "    80% {\n",
              "      border-color: transparent;\n",
              "      border-right-color: var(--fill-color);\n",
              "      border-bottom-color: var(--fill-color);\n",
              "    }\n",
              "    90% {\n",
              "      border-color: transparent;\n",
              "      border-bottom-color: var(--fill-color);\n",
              "    }\n",
              "  }\n",
              "</style>\n",
              "\n",
              "  <script>\n",
              "    async function quickchart(key) {\n",
              "      const quickchartButtonEl =\n",
              "        document.querySelector('#' + key + ' button');\n",
              "      quickchartButtonEl.disabled = true;  // To prevent multiple clicks.\n",
              "      quickchartButtonEl.classList.add('colab-df-spinner');\n",
              "      try {\n",
              "        const charts = await google.colab.kernel.invokeFunction(\n",
              "            'suggestCharts', [key], {});\n",
              "      } catch (error) {\n",
              "        console.error('Error during call to suggestCharts:', error);\n",
              "      }\n",
              "      quickchartButtonEl.classList.remove('colab-df-spinner');\n",
              "      quickchartButtonEl.classList.add('colab-df-quickchart-complete');\n",
              "    }\n",
              "    (() => {\n",
              "      let quickchartButtonEl =\n",
              "        document.querySelector('#df-972b5c17-7a9a-4b84-87c8-55e6690ffff7 button');\n",
              "      quickchartButtonEl.style.display =\n",
              "        google.colab.kernel.accessAllowed ? 'block' : 'none';\n",
              "    })();\n",
              "  </script>\n",
              "</div>\n",
              "    </div>\n",
              "  </div>\n"
            ]
          },
          "metadata": {},
          "execution_count": 188
        }
      ]
    },
    {
      "cell_type": "code",
      "source": [
        "tech_df_ = pd.merge(left = tech_df, right =full_dataset_combined_,\n",
        "                             left_on = \"O*NET-SOC Code\", right_on = \"O*NET-SOC Code\", how=\"left\")"
      ],
      "metadata": {
        "id": "A1ZdlW9Y1--t"
      },
      "execution_count": 200,
      "outputs": []
    },
    {
      "cell_type": "code",
      "source": [
        "tech_df_filtered = tech_df_[tech_df_['rank_new'].notna()]"
      ],
      "metadata": {
        "id": "87oqkrkQ84Yv"
      },
      "execution_count": 201,
      "outputs": []
    },
    {
      "cell_type": "code",
      "source": [
        "df_lemm_tool = tech_df_filtered[\"Tool\"].apply(', '.join)"
      ],
      "metadata": {
        "id": "204shWHGvEPk"
      },
      "execution_count": 203,
      "outputs": []
    },
    {
      "cell_type": "code",
      "source": [
        "Xtool = df_lemm_tool"
      ],
      "metadata": {
        "id": "usPIrj5_5JgD"
      },
      "execution_count": 204,
      "outputs": []
    },
    {
      "cell_type": "code",
      "source": [
        "ytool = tech_df_filtered[\"rank_new\"]"
      ],
      "metadata": {
        "id": "KjjRdu5h416l"
      },
      "execution_count": 205,
      "outputs": []
    },
    {
      "cell_type": "code",
      "source": [
        "Xtool_train, Xtool_test, y_train, y_test = train_test_split(Xtool,\n",
        "                                                    ytool,\n",
        "                                                    random_state=42, stratify=ytool)"
      ],
      "metadata": {
        "id": "ekCYVFPWZctW"
      },
      "execution_count": 206,
      "outputs": []
    },
    {
      "cell_type": "code",
      "source": [
        "ytool.value_counts(normalize=True)"
      ],
      "metadata": {
        "id": "WcviS_jQ_YMv"
      },
      "execution_count": null,
      "outputs": []
    },
    {
      "cell_type": "code",
      "source": [
        "pipe_cvec_logr_tool = Pipeline([\n",
        "    ('cvec',CountVectorizer()),\n",
        "    ('logr', LogisticRegressionCV(solver = 'liblinear'))\n",
        "])"
      ],
      "metadata": {
        "id": "uNuNkK6tZcqx"
      },
      "execution_count": 212,
      "outputs": []
    },
    {
      "cell_type": "code",
      "source": [
        "gs_tool_cvec_logr = GridSearchCV(pipe_cvec_logr_task,\n",
        "                pipe_params_cvec,\n",
        "                  cv = 5)"
      ],
      "metadata": {
        "id": "cMz8nNjDZcn3"
      },
      "execution_count": 213,
      "outputs": []
    },
    {
      "cell_type": "code",
      "source": [
        "gs_tool_cvec_logr.fit(Xtool_train, y_train)"
      ],
      "metadata": {
        "colab": {
          "base_uri": "https://localhost:8080/",
          "height": 150
        },
        "id": "ZNMQK9pk-kN7",
        "outputId": "2e0c3bf1-d87b-4b02-edfa-2ec401f310db"
      },
      "execution_count": 214,
      "outputs": [
        {
          "output_type": "execute_result",
          "data": {
            "text/plain": [
              "GridSearchCV(cv=5,\n",
              "             estimator=Pipeline(steps=[('cvec', CountVectorizer()),\n",
              "                                       ('logr',\n",
              "                                        LogisticRegressionCV(solver='liblinear'))]),\n",
              "             param_grid={'cvec__max_df': [0.9, 0.95],\n",
              "                         'cvec__max_features': [5000], 'cvec__min_df': [2, 5],\n",
              "                         'cvec__ngram_range': [(1, 1), (1, 2), (2, 2)],\n",
              "                         'cvec__stop_words': [['i', 'me', 'my', 'myself', 'we',\n",
              "                                               'our', 'ours', 'ourselves',\n",
              "                                               'you', \"you're\", \"you've\",\n",
              "                                               \"you'll\", \"you'd\", 'your',\n",
              "                                               'yours', 'yourself',\n",
              "                                               'yourselves', 'he', 'him', 'his',\n",
              "                                               'himself', 'she', \"she's\", 'her',\n",
              "                                               'hers', 'herself', 'it', \"it's\",\n",
              "                                               'its', 'itself', ...]]})"
            ],
            "text/html": [
              "<style>#sk-container-id-1 {color: black;background-color: white;}#sk-container-id-1 pre{padding: 0;}#sk-container-id-1 div.sk-toggleable {background-color: white;}#sk-container-id-1 label.sk-toggleable__label {cursor: pointer;display: block;width: 100%;margin-bottom: 0;padding: 0.3em;box-sizing: border-box;text-align: center;}#sk-container-id-1 label.sk-toggleable__label-arrow:before {content: \"▸\";float: left;margin-right: 0.25em;color: #696969;}#sk-container-id-1 label.sk-toggleable__label-arrow:hover:before {color: black;}#sk-container-id-1 div.sk-estimator:hover label.sk-toggleable__label-arrow:before {color: black;}#sk-container-id-1 div.sk-toggleable__content {max-height: 0;max-width: 0;overflow: hidden;text-align: left;background-color: #f0f8ff;}#sk-container-id-1 div.sk-toggleable__content pre {margin: 0.2em;color: black;border-radius: 0.25em;background-color: #f0f8ff;}#sk-container-id-1 input.sk-toggleable__control:checked~div.sk-toggleable__content {max-height: 200px;max-width: 100%;overflow: auto;}#sk-container-id-1 input.sk-toggleable__control:checked~label.sk-toggleable__label-arrow:before {content: \"▾\";}#sk-container-id-1 div.sk-estimator input.sk-toggleable__control:checked~label.sk-toggleable__label {background-color: #d4ebff;}#sk-container-id-1 div.sk-label input.sk-toggleable__control:checked~label.sk-toggleable__label {background-color: #d4ebff;}#sk-container-id-1 input.sk-hidden--visually {border: 0;clip: rect(1px 1px 1px 1px);clip: rect(1px, 1px, 1px, 1px);height: 1px;margin: -1px;overflow: hidden;padding: 0;position: absolute;width: 1px;}#sk-container-id-1 div.sk-estimator {font-family: monospace;background-color: #f0f8ff;border: 1px dotted black;border-radius: 0.25em;box-sizing: border-box;margin-bottom: 0.5em;}#sk-container-id-1 div.sk-estimator:hover {background-color: #d4ebff;}#sk-container-id-1 div.sk-parallel-item::after {content: \"\";width: 100%;border-bottom: 1px solid gray;flex-grow: 1;}#sk-container-id-1 div.sk-label:hover label.sk-toggleable__label {background-color: #d4ebff;}#sk-container-id-1 div.sk-serial::before {content: \"\";position: absolute;border-left: 1px solid gray;box-sizing: border-box;top: 0;bottom: 0;left: 50%;z-index: 0;}#sk-container-id-1 div.sk-serial {display: flex;flex-direction: column;align-items: center;background-color: white;padding-right: 0.2em;padding-left: 0.2em;position: relative;}#sk-container-id-1 div.sk-item {position: relative;z-index: 1;}#sk-container-id-1 div.sk-parallel {display: flex;align-items: stretch;justify-content: center;background-color: white;position: relative;}#sk-container-id-1 div.sk-item::before, #sk-container-id-1 div.sk-parallel-item::before {content: \"\";position: absolute;border-left: 1px solid gray;box-sizing: border-box;top: 0;bottom: 0;left: 50%;z-index: -1;}#sk-container-id-1 div.sk-parallel-item {display: flex;flex-direction: column;z-index: 1;position: relative;background-color: white;}#sk-container-id-1 div.sk-parallel-item:first-child::after {align-self: flex-end;width: 50%;}#sk-container-id-1 div.sk-parallel-item:last-child::after {align-self: flex-start;width: 50%;}#sk-container-id-1 div.sk-parallel-item:only-child::after {width: 0;}#sk-container-id-1 div.sk-dashed-wrapped {border: 1px dashed gray;margin: 0 0.4em 0.5em 0.4em;box-sizing: border-box;padding-bottom: 0.4em;background-color: white;}#sk-container-id-1 div.sk-label label {font-family: monospace;font-weight: bold;display: inline-block;line-height: 1.2em;}#sk-container-id-1 div.sk-label-container {text-align: center;}#sk-container-id-1 div.sk-container {/* jupyter's `normalize.less` sets `[hidden] { display: none; }` but bootstrap.min.css set `[hidden] { display: none !important; }` so we also need the `!important` here to be able to override the default hidden behavior on the sphinx rendered scikit-learn.org. See: https://github.com/scikit-learn/scikit-learn/issues/21755 */display: inline-block !important;position: relative;}#sk-container-id-1 div.sk-text-repr-fallback {display: none;}</style><div id=\"sk-container-id-1\" class=\"sk-top-container\"><div class=\"sk-text-repr-fallback\"><pre>GridSearchCV(cv=5,\n",
              "             estimator=Pipeline(steps=[(&#x27;cvec&#x27;, CountVectorizer()),\n",
              "                                       (&#x27;logr&#x27;,\n",
              "                                        LogisticRegressionCV(solver=&#x27;liblinear&#x27;))]),\n",
              "             param_grid={&#x27;cvec__max_df&#x27;: [0.9, 0.95],\n",
              "                         &#x27;cvec__max_features&#x27;: [5000], &#x27;cvec__min_df&#x27;: [2, 5],\n",
              "                         &#x27;cvec__ngram_range&#x27;: [(1, 1), (1, 2), (2, 2)],\n",
              "                         &#x27;cvec__stop_words&#x27;: [[&#x27;i&#x27;, &#x27;me&#x27;, &#x27;my&#x27;, &#x27;myself&#x27;, &#x27;we&#x27;,\n",
              "                                               &#x27;our&#x27;, &#x27;ours&#x27;, &#x27;ourselves&#x27;,\n",
              "                                               &#x27;you&#x27;, &quot;you&#x27;re&quot;, &quot;you&#x27;ve&quot;,\n",
              "                                               &quot;you&#x27;ll&quot;, &quot;you&#x27;d&quot;, &#x27;your&#x27;,\n",
              "                                               &#x27;yours&#x27;, &#x27;yourself&#x27;,\n",
              "                                               &#x27;yourselves&#x27;, &#x27;he&#x27;, &#x27;him&#x27;, &#x27;his&#x27;,\n",
              "                                               &#x27;himself&#x27;, &#x27;she&#x27;, &quot;she&#x27;s&quot;, &#x27;her&#x27;,\n",
              "                                               &#x27;hers&#x27;, &#x27;herself&#x27;, &#x27;it&#x27;, &quot;it&#x27;s&quot;,\n",
              "                                               &#x27;its&#x27;, &#x27;itself&#x27;, ...]]})</pre><b>In a Jupyter environment, please rerun this cell to show the HTML representation or trust the notebook. <br />On GitHub, the HTML representation is unable to render, please try loading this page with nbviewer.org.</b></div><div class=\"sk-container\" hidden><div class=\"sk-item sk-dashed-wrapped\"><div class=\"sk-label-container\"><div class=\"sk-label sk-toggleable\"><input class=\"sk-toggleable__control sk-hidden--visually\" id=\"sk-estimator-id-1\" type=\"checkbox\" ><label for=\"sk-estimator-id-1\" class=\"sk-toggleable__label sk-toggleable__label-arrow\">GridSearchCV</label><div class=\"sk-toggleable__content\"><pre>GridSearchCV(cv=5,\n",
              "             estimator=Pipeline(steps=[(&#x27;cvec&#x27;, CountVectorizer()),\n",
              "                                       (&#x27;logr&#x27;,\n",
              "                                        LogisticRegressionCV(solver=&#x27;liblinear&#x27;))]),\n",
              "             param_grid={&#x27;cvec__max_df&#x27;: [0.9, 0.95],\n",
              "                         &#x27;cvec__max_features&#x27;: [5000], &#x27;cvec__min_df&#x27;: [2, 5],\n",
              "                         &#x27;cvec__ngram_range&#x27;: [(1, 1), (1, 2), (2, 2)],\n",
              "                         &#x27;cvec__stop_words&#x27;: [[&#x27;i&#x27;, &#x27;me&#x27;, &#x27;my&#x27;, &#x27;myself&#x27;, &#x27;we&#x27;,\n",
              "                                               &#x27;our&#x27;, &#x27;ours&#x27;, &#x27;ourselves&#x27;,\n",
              "                                               &#x27;you&#x27;, &quot;you&#x27;re&quot;, &quot;you&#x27;ve&quot;,\n",
              "                                               &quot;you&#x27;ll&quot;, &quot;you&#x27;d&quot;, &#x27;your&#x27;,\n",
              "                                               &#x27;yours&#x27;, &#x27;yourself&#x27;,\n",
              "                                               &#x27;yourselves&#x27;, &#x27;he&#x27;, &#x27;him&#x27;, &#x27;his&#x27;,\n",
              "                                               &#x27;himself&#x27;, &#x27;she&#x27;, &quot;she&#x27;s&quot;, &#x27;her&#x27;,\n",
              "                                               &#x27;hers&#x27;, &#x27;herself&#x27;, &#x27;it&#x27;, &quot;it&#x27;s&quot;,\n",
              "                                               &#x27;its&#x27;, &#x27;itself&#x27;, ...]]})</pre></div></div></div><div class=\"sk-parallel\"><div class=\"sk-parallel-item\"><div class=\"sk-item\"><div class=\"sk-label-container\"><div class=\"sk-label sk-toggleable\"><input class=\"sk-toggleable__control sk-hidden--visually\" id=\"sk-estimator-id-2\" type=\"checkbox\" ><label for=\"sk-estimator-id-2\" class=\"sk-toggleable__label sk-toggleable__label-arrow\">estimator: Pipeline</label><div class=\"sk-toggleable__content\"><pre>Pipeline(steps=[(&#x27;cvec&#x27;, CountVectorizer()),\n",
              "                (&#x27;logr&#x27;, LogisticRegressionCV(solver=&#x27;liblinear&#x27;))])</pre></div></div></div><div class=\"sk-serial\"><div class=\"sk-item\"><div class=\"sk-serial\"><div class=\"sk-item\"><div class=\"sk-estimator sk-toggleable\"><input class=\"sk-toggleable__control sk-hidden--visually\" id=\"sk-estimator-id-3\" type=\"checkbox\" ><label for=\"sk-estimator-id-3\" class=\"sk-toggleable__label sk-toggleable__label-arrow\">CountVectorizer</label><div class=\"sk-toggleable__content\"><pre>CountVectorizer()</pre></div></div></div><div class=\"sk-item\"><div class=\"sk-estimator sk-toggleable\"><input class=\"sk-toggleable__control sk-hidden--visually\" id=\"sk-estimator-id-4\" type=\"checkbox\" ><label for=\"sk-estimator-id-4\" class=\"sk-toggleable__label sk-toggleable__label-arrow\">LogisticRegressionCV</label><div class=\"sk-toggleable__content\"><pre>LogisticRegressionCV(solver=&#x27;liblinear&#x27;)</pre></div></div></div></div></div></div></div></div></div></div></div></div>"
            ]
          },
          "metadata": {},
          "execution_count": 214
        }
      ]
    },
    {
      "cell_type": "code",
      "source": [
        "gs_tool_cvec_logr_preds = gs_tool_cvec_logr.predict(Xtool_test)"
      ],
      "metadata": {
        "id": "gLKMvo-CZck9"
      },
      "execution_count": 215,
      "outputs": []
    },
    {
      "cell_type": "code",
      "source": [
        "logistic_cvec_tool = evaluation(\"Logistical Regression TVEC - Tool\", y_test, gs_tool_cvec_logr_preds, gs_tool_cvec_logr,\n",
        "                                Xtool_train, Xtool_test)"
      ],
      "metadata": {
        "id": "dMd9JRnXZchr"
      },
      "execution_count": 218,
      "outputs": []
    },
    {
      "cell_type": "code",
      "source": [
        "logistic_cvec_tool"
      ],
      "metadata": {
        "colab": {
          "base_uri": "https://localhost:8080/",
          "height": 80
        },
        "id": "Q-RZv11rZceu",
        "outputId": "cc5effd1-eb15-498c-9f79-f7d3e9c7d25e"
      },
      "execution_count": 219,
      "outputs": [
        {
          "output_type": "execute_result",
          "data": {
            "text/plain": [
              "                               Model  Score on train  Score on test  \\\n",
              "0  Logistical Regression TVEC - Tool           0.628          0.579   \n",
              "\n",
              "   Sensitivity  Specificity  Precision  F1 Score  \n",
              "0          1.0          0.0      0.961      0.98  "
            ],
            "text/html": [
              "\n",
              "  <div id=\"df-f3a6c6fb-2b8f-4c7d-8237-f763fedfae8c\" class=\"colab-df-container\">\n",
              "    <div>\n",
              "<style scoped>\n",
              "    .dataframe tbody tr th:only-of-type {\n",
              "        vertical-align: middle;\n",
              "    }\n",
              "\n",
              "    .dataframe tbody tr th {\n",
              "        vertical-align: top;\n",
              "    }\n",
              "\n",
              "    .dataframe thead th {\n",
              "        text-align: right;\n",
              "    }\n",
              "</style>\n",
              "<table border=\"1\" class=\"dataframe\">\n",
              "  <thead>\n",
              "    <tr style=\"text-align: right;\">\n",
              "      <th></th>\n",
              "      <th>Model</th>\n",
              "      <th>Score on train</th>\n",
              "      <th>Score on test</th>\n",
              "      <th>Sensitivity</th>\n",
              "      <th>Specificity</th>\n",
              "      <th>Precision</th>\n",
              "      <th>F1 Score</th>\n",
              "    </tr>\n",
              "  </thead>\n",
              "  <tbody>\n",
              "    <tr>\n",
              "      <th>0</th>\n",
              "      <td>Logistical Regression TVEC - Tool</td>\n",
              "      <td>0.628</td>\n",
              "      <td>0.579</td>\n",
              "      <td>1.0</td>\n",
              "      <td>0.0</td>\n",
              "      <td>0.961</td>\n",
              "      <td>0.98</td>\n",
              "    </tr>\n",
              "  </tbody>\n",
              "</table>\n",
              "</div>\n",
              "    <div class=\"colab-df-buttons\">\n",
              "\n",
              "  <div class=\"colab-df-container\">\n",
              "    <button class=\"colab-df-convert\" onclick=\"convertToInteractive('df-f3a6c6fb-2b8f-4c7d-8237-f763fedfae8c')\"\n",
              "            title=\"Convert this dataframe to an interactive table.\"\n",
              "            style=\"display:none;\">\n",
              "\n",
              "  <svg xmlns=\"http://www.w3.org/2000/svg\" height=\"24px\" viewBox=\"0 -960 960 960\">\n",
              "    <path d=\"M120-120v-720h720v720H120Zm60-500h600v-160H180v160Zm220 220h160v-160H400v160Zm0 220h160v-160H400v160ZM180-400h160v-160H180v160Zm440 0h160v-160H620v160ZM180-180h160v-160H180v160Zm440 0h160v-160H620v160Z\"/>\n",
              "  </svg>\n",
              "    </button>\n",
              "\n",
              "  <style>\n",
              "    .colab-df-container {\n",
              "      display:flex;\n",
              "      gap: 12px;\n",
              "    }\n",
              "\n",
              "    .colab-df-convert {\n",
              "      background-color: #E8F0FE;\n",
              "      border: none;\n",
              "      border-radius: 50%;\n",
              "      cursor: pointer;\n",
              "      display: none;\n",
              "      fill: #1967D2;\n",
              "      height: 32px;\n",
              "      padding: 0 0 0 0;\n",
              "      width: 32px;\n",
              "    }\n",
              "\n",
              "    .colab-df-convert:hover {\n",
              "      background-color: #E2EBFA;\n",
              "      box-shadow: 0px 1px 2px rgba(60, 64, 67, 0.3), 0px 1px 3px 1px rgba(60, 64, 67, 0.15);\n",
              "      fill: #174EA6;\n",
              "    }\n",
              "\n",
              "    .colab-df-buttons div {\n",
              "      margin-bottom: 4px;\n",
              "    }\n",
              "\n",
              "    [theme=dark] .colab-df-convert {\n",
              "      background-color: #3B4455;\n",
              "      fill: #D2E3FC;\n",
              "    }\n",
              "\n",
              "    [theme=dark] .colab-df-convert:hover {\n",
              "      background-color: #434B5C;\n",
              "      box-shadow: 0px 1px 3px 1px rgba(0, 0, 0, 0.15);\n",
              "      filter: drop-shadow(0px 1px 2px rgba(0, 0, 0, 0.3));\n",
              "      fill: #FFFFFF;\n",
              "    }\n",
              "  </style>\n",
              "\n",
              "    <script>\n",
              "      const buttonEl =\n",
              "        document.querySelector('#df-f3a6c6fb-2b8f-4c7d-8237-f763fedfae8c button.colab-df-convert');\n",
              "      buttonEl.style.display =\n",
              "        google.colab.kernel.accessAllowed ? 'block' : 'none';\n",
              "\n",
              "      async function convertToInteractive(key) {\n",
              "        const element = document.querySelector('#df-f3a6c6fb-2b8f-4c7d-8237-f763fedfae8c');\n",
              "        const dataTable =\n",
              "          await google.colab.kernel.invokeFunction('convertToInteractive',\n",
              "                                                    [key], {});\n",
              "        if (!dataTable) return;\n",
              "\n",
              "        const docLinkHtml = 'Like what you see? Visit the ' +\n",
              "          '<a target=\"_blank\" href=https://colab.research.google.com/notebooks/data_table.ipynb>data table notebook</a>'\n",
              "          + ' to learn more about interactive tables.';\n",
              "        element.innerHTML = '';\n",
              "        dataTable['output_type'] = 'display_data';\n",
              "        await google.colab.output.renderOutput(dataTable, element);\n",
              "        const docLink = document.createElement('div');\n",
              "        docLink.innerHTML = docLinkHtml;\n",
              "        element.appendChild(docLink);\n",
              "      }\n",
              "    </script>\n",
              "  </div>\n",
              "\n",
              "    </div>\n",
              "  </div>\n"
            ]
          },
          "metadata": {},
          "execution_count": 219
        }
      ]
    },
    {
      "cell_type": "code",
      "source": [],
      "metadata": {
        "id": "pBWUDi-FZcSf"
      },
      "execution_count": null,
      "outputs": []
    }
  ]
}